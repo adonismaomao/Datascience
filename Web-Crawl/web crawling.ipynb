{
 "cells": [
  {
   "cell_type": "code",
   "execution_count": 62,
   "metadata": {
    "collapsed": true
   },
   "outputs": [],
   "source": [
    "from lxml import html\n",
    "import requests\n",
    "from bs4 import BeautifulSoup\n",
    "\n",
    "import pandas as pd"
   ]
  },
  {
   "cell_type": "code",
   "execution_count": 26,
   "metadata": {
    "collapsed": false
   },
   "outputs": [],
   "source": [
    "def get_page(page_number):\n",
    "    page = requests.get('https://www.allabolag.se/where/stockholm/page/' + str(page_number))\n",
    "    soup = BeautifulSoup(page.content, 'html.parser')\n",
    "    res = soup.find_all('h2', class_=\"search-results__item__title\") \n",
    "    list_url = [x.find('a').get('href') for x in res]\n",
    "    return list_url"
   ]
  },
  {
   "cell_type": "code",
   "execution_count": 27,
   "metadata": {
    "collapsed": false
   },
   "outputs": [
    {
     "data": {
      "text/plain": [
       "[u'https://www.allabolag.se/1144015110/u-o-bergstedts-fond',\n",
       " u'https://www.allabolag.se/1144015128/mathilde-brandts-minnesstiftelse',\n",
       " u'https://www.allabolag.se/1144015136/peter-brandts-gavofond',\n",
       " u'https://www.allabolag.se/1144015144/peter-brandts-pensionsfond',\n",
       " u'https://www.allabolag.se/1144015151/peter-brandts-understodsfond',\n",
       " u'https://www.allabolag.se/1144015169/peter-brandts-uppfostringsfond',\n",
       " u'https://www.allabolag.se/1144015201/nauclerska-stiftelsen-grisslehamn',\n",
       " u'https://www.allabolag.se/1144015219/clara-rosengrens-pensionsfond',\n",
       " u'https://www.allabolag.se/1140011097/bergstedts-fond-j-a-jens-bergstedt',\n",
       " u'https://www.allabolag.se/1140011105/bergstedts-fond-t-l',\n",
       " u'https://www.allabolag.se/1136009154/silfverstolpeska-slaktforeningen',\n",
       " u'https://www.allabolag.se/1136009162/stift-erik-ehlins-understodsfonder',\n",
       " u'https://www.allabolag.se/1136010053/stift-erik-ehlins-u-fond-f-s-ehlins-fam',\n",
       " u'https://www.allabolag.se/5567350086/sandsjo-soner-systemutveckling-ab',\n",
       " u'https://www.allabolag.se/2520000700/vasterleds-forsamling',\n",
       " u'https://www.allabolag.se/302319PMFC/haugen-eirik',\n",
       " u'https://www.allabolag.se/302363KUFC/konieczny-wojciech',\n",
       " u'https://www.allabolag.se/302364KVFC/krezolek-marcin-olaf',\n",
       " u'https://www.allabolag.se/302371KRFC/janeczko-monika-maria',\n",
       " u'https://www.allabolag.se/302374PTFC/rahmani-mohammad-nader']"
      ]
     },
     "execution_count": 27,
     "metadata": {},
     "output_type": "execute_result"
    }
   ],
   "source": [
    "get_page(1)"
   ]
  },
  {
   "cell_type": "code",
   "execution_count": 144,
   "metadata": {
    "collapsed": false
   },
   "outputs": [],
   "source": [
    "def get_company_info(url):\n",
    "    \n",
    "    c_dict = {}\n",
    "    \n",
    "    page = requests.get(url)\n",
    "    soup = BeautifulSoup(page.content, 'html.parser')\n",
    "    company_table = soup.find('table', class_=\"company-table\") \n",
    "    company_name = url.split('/')[-1].replace('-', ' ') \n",
    "    \n",
    "    if company_table:\n",
    "        data_rows = company_table.find_all('tr')\n",
    "        years = company_table.find_all('th', class_='data-pager__page')\n",
    "        \n",
    "        for row in data_rows:\n",
    "            \n",
    "            if row.th and row.th.text:\n",
    "                name = row.th.text.strip()\n",
    "                if name == 'Bokslut & nyckeltal':\n",
    "                    continue\n",
    "                values = row.find_all('td')\n",
    "                \n",
    "                data=[]\n",
    "                company_names=[]\n",
    "                for value in values:    \n",
    "                    clean_value = value.text.strip().replace('%', '').replace(',','.')\n",
    "                    if clean_value:\n",
    "                        try:\n",
    "                            data.append(float(clean_value))\n",
    "                            company_names.append(company_name)\n",
    "                        except ValueError:\n",
    "                            data.append(0)\n",
    "                        \n",
    "                c_dict[name] = data\n",
    "                c_dict['company_name'] = company_names\n",
    "        \n",
    "        years_list = []        \n",
    "        for row in years:\n",
    "            if row.text:\n",
    "                year = row.text.strip().split('-')[0]\n",
    "                years_list.append(year)\n",
    "        c_dict['year'] = years_list\n",
    "        \n",
    "        \n",
    "        df = pd.DataFrame(data = c_dict).set_index('company_name')\n",
    "        \n",
    "    return df         "
   ]
  },
  {
   "cell_type": "code",
   "execution_count": 40,
   "metadata": {
    "collapsed": true
   },
   "outputs": [],
   "source": [
    "company='https://www.allabolag.se/5567350086/sandsjo-soner-systemutveckling-ab'"
   ]
  },
  {
   "cell_type": "code",
   "execution_count": 145,
   "metadata": {
    "collapsed": false
   },
   "outputs": [
    {
     "data": {
      "text/html": [
       "<div>\n",
       "<table border=\"1\" class=\"dataframe\">\n",
       "  <thead>\n",
       "    <tr style=\"text-align: right;\">\n",
       "      <th></th>\n",
       "      <th>Antal anställda</th>\n",
       "      <th>Kassalikviditet</th>\n",
       "      <th>Löner till styrelse &amp; VD (tkr)</th>\n",
       "      <th>Löner till övriga anställda (tkr)</th>\n",
       "      <th>Omsättning (tkr)</th>\n",
       "      <th>Res. e. finansnetto (tkr)</th>\n",
       "      <th>Soliditet</th>\n",
       "      <th>Summa tillgångar (tkr)</th>\n",
       "      <th>Vinstmarginal</th>\n",
       "      <th>year</th>\n",
       "      <th>Årets resultat (tkr)</th>\n",
       "    </tr>\n",
       "    <tr>\n",
       "      <th>company_name</th>\n",
       "      <th></th>\n",
       "      <th></th>\n",
       "      <th></th>\n",
       "      <th></th>\n",
       "      <th></th>\n",
       "      <th></th>\n",
       "      <th></th>\n",
       "      <th></th>\n",
       "      <th></th>\n",
       "      <th></th>\n",
       "      <th></th>\n",
       "    </tr>\n",
       "  </thead>\n",
       "  <tbody>\n",
       "    <tr>\n",
       "      <th>sandsjo soner systemutveckling ab</th>\n",
       "      <td>1.0</td>\n",
       "      <td>406.35</td>\n",
       "      <td>0</td>\n",
       "      <td>0.0</td>\n",
       "      <td>0</td>\n",
       "      <td>597.0</td>\n",
       "      <td>83.33</td>\n",
       "      <td>0</td>\n",
       "      <td>35.22</td>\n",
       "      <td>2017</td>\n",
       "      <td>422.0</td>\n",
       "    </tr>\n",
       "    <tr>\n",
       "      <th>sandsjo soner systemutveckling ab</th>\n",
       "      <td>1.0</td>\n",
       "      <td>263.90</td>\n",
       "      <td>0</td>\n",
       "      <td>416.0</td>\n",
       "      <td>0</td>\n",
       "      <td>661.0</td>\n",
       "      <td>79.51</td>\n",
       "      <td>0</td>\n",
       "      <td>36.42</td>\n",
       "      <td>2016</td>\n",
       "      <td>365.0</td>\n",
       "    </tr>\n",
       "    <tr>\n",
       "      <th>sandsjo soner systemutveckling ab</th>\n",
       "      <td>1.0</td>\n",
       "      <td>214.36</td>\n",
       "      <td>0</td>\n",
       "      <td>432.0</td>\n",
       "      <td>0</td>\n",
       "      <td>915.0</td>\n",
       "      <td>80.30</td>\n",
       "      <td>0</td>\n",
       "      <td>51.20</td>\n",
       "      <td>2015</td>\n",
       "      <td>552.0</td>\n",
       "    </tr>\n",
       "    <tr>\n",
       "      <th>sandsjo soner systemutveckling ab</th>\n",
       "      <td>1.0</td>\n",
       "      <td>270.68</td>\n",
       "      <td>0</td>\n",
       "      <td>394.0</td>\n",
       "      <td>0</td>\n",
       "      <td>721.0</td>\n",
       "      <td>76.67</td>\n",
       "      <td>0</td>\n",
       "      <td>42.29</td>\n",
       "      <td>2014</td>\n",
       "      <td>452.0</td>\n",
       "    </tr>\n",
       "    <tr>\n",
       "      <th>sandsjo soner systemutveckling ab</th>\n",
       "      <td>1.0</td>\n",
       "      <td>263.60</td>\n",
       "      <td>0</td>\n",
       "      <td>396.0</td>\n",
       "      <td>0</td>\n",
       "      <td>380.0</td>\n",
       "      <td>63.95</td>\n",
       "      <td>0</td>\n",
       "      <td>22.53</td>\n",
       "      <td>2013</td>\n",
       "      <td>190.0</td>\n",
       "    </tr>\n",
       "  </tbody>\n",
       "</table>\n",
       "</div>"
      ],
      "text/plain": [
       "                                   Antal anställda  Kassalikviditet  \\\n",
       "company_name                                                          \n",
       "sandsjo soner systemutveckling ab              1.0           406.35   \n",
       "sandsjo soner systemutveckling ab              1.0           263.90   \n",
       "sandsjo soner systemutveckling ab              1.0           214.36   \n",
       "sandsjo soner systemutveckling ab              1.0           270.68   \n",
       "sandsjo soner systemutveckling ab              1.0           263.60   \n",
       "\n",
       "                                   Löner till styrelse & VD (tkr)  \\\n",
       "company_name                                                        \n",
       "sandsjo soner systemutveckling ab                               0   \n",
       "sandsjo soner systemutveckling ab                               0   \n",
       "sandsjo soner systemutveckling ab                               0   \n",
       "sandsjo soner systemutveckling ab                               0   \n",
       "sandsjo soner systemutveckling ab                               0   \n",
       "\n",
       "                                   Löner till övriga anställda (tkr)  \\\n",
       "company_name                                                           \n",
       "sandsjo soner systemutveckling ab                                0.0   \n",
       "sandsjo soner systemutveckling ab                              416.0   \n",
       "sandsjo soner systemutveckling ab                              432.0   \n",
       "sandsjo soner systemutveckling ab                              394.0   \n",
       "sandsjo soner systemutveckling ab                              396.0   \n",
       "\n",
       "                                   Omsättning (tkr)  \\\n",
       "company_name                                          \n",
       "sandsjo soner systemutveckling ab                 0   \n",
       "sandsjo soner systemutveckling ab                 0   \n",
       "sandsjo soner systemutveckling ab                 0   \n",
       "sandsjo soner systemutveckling ab                 0   \n",
       "sandsjo soner systemutveckling ab                 0   \n",
       "\n",
       "                                   Res. e. finansnetto (tkr)  Soliditet  \\\n",
       "company_name                                                              \n",
       "sandsjo soner systemutveckling ab                      597.0      83.33   \n",
       "sandsjo soner systemutveckling ab                      661.0      79.51   \n",
       "sandsjo soner systemutveckling ab                      915.0      80.30   \n",
       "sandsjo soner systemutveckling ab                      721.0      76.67   \n",
       "sandsjo soner systemutveckling ab                      380.0      63.95   \n",
       "\n",
       "                                   Summa tillgångar (tkr)  Vinstmarginal  \\\n",
       "company_name                                                               \n",
       "sandsjo soner systemutveckling ab                       0          35.22   \n",
       "sandsjo soner systemutveckling ab                       0          36.42   \n",
       "sandsjo soner systemutveckling ab                       0          51.20   \n",
       "sandsjo soner systemutveckling ab                       0          42.29   \n",
       "sandsjo soner systemutveckling ab                       0          22.53   \n",
       "\n",
       "                                   year  Årets resultat (tkr)  \n",
       "company_name                                                   \n",
       "sandsjo soner systemutveckling ab  2017                 422.0  \n",
       "sandsjo soner systemutveckling ab  2016                 365.0  \n",
       "sandsjo soner systemutveckling ab  2015                 552.0  \n",
       "sandsjo soner systemutveckling ab  2014                 452.0  \n",
       "sandsjo soner systemutveckling ab  2013                 190.0  "
      ]
     },
     "execution_count": 145,
     "metadata": {},
     "output_type": "execute_result"
    }
   ],
   "source": [
    "get_company_info(company)"
   ]
  },
  {
   "cell_type": "code",
   "execution_count": 139,
   "metadata": {
    "collapsed": false,
    "scrolled": true
   },
   "outputs": [
    {
     "name": "stdout",
     "output_type": "stream",
     "text": [
      "   Antal anställda  Kassalikviditet  Löner till styrelse & VD (tkr)  \\\n",
      "0              1.0           406.35                               0   \n",
      "1              1.0           263.90                               0   \n",
      "2              1.0           214.36                               0   \n",
      "3              1.0           270.68                               0   \n",
      "4              1.0           263.60                               0   \n",
      "\n",
      "   Löner till övriga anställda (tkr)  Omsättning (tkr)  \\\n",
      "0                                0.0                 0   \n",
      "1                              416.0                 0   \n",
      "2                              432.0                 0   \n",
      "3                              394.0                 0   \n",
      "4                              396.0                 0   \n",
      "\n",
      "   Res. e. finansnetto (tkr)  Soliditet  Summa tillgångar (tkr)  \\\n",
      "0                      597.0      83.33                       0   \n",
      "1                      661.0      79.51                       0   \n",
      "2                      915.0      80.30                       0   \n",
      "3                      721.0      76.67                       0   \n",
      "4                      380.0      63.95                       0   \n",
      "\n",
      "   Vinstmarginal  year  Årets resultat (tkr)  \n",
      "0          35.22  2017                 422.0  \n",
      "1          36.42  2016                 365.0  \n",
      "2          51.20  2015                 552.0  \n",
      "3          42.29  2014                 452.0  \n",
      "4          22.53  2013                 190.0  \n"
     ]
    }
   ],
   "source": [
    "def scrape_pages(n):\n",
    "    n = 10\n",
    "    for i in range(1,n+1):\n",
    "        urls = get_page(i)\n",
    "\n",
    "        for url in (urls):\n",
    "            try:\n",
    "                print (get_company_info(url))\n",
    "            except:\n",
    "                pass\n"
   ]
  },
  {
   "cell_type": "code",
   "execution_count": null,
   "metadata": {
    "collapsed": true
   },
   "outputs": [],
   "source": []
  }
 ],
 "metadata": {
  "anaconda-cloud": {},
  "kernelspec": {
   "display_name": "Python [Root]",
   "language": "python",
   "name": "Python [Root]"
  },
  "language_info": {
   "codemirror_mode": {
    "name": "ipython",
    "version": 2
   },
   "file_extension": ".py",
   "mimetype": "text/x-python",
   "name": "python",
   "nbconvert_exporter": "python",
   "pygments_lexer": "ipython2",
   "version": "2.7.12"
  }
 },
 "nbformat": 4,
 "nbformat_minor": 0
}
