{
 "cells": [
  {
   "cell_type": "code",
   "execution_count": 1,
   "metadata": {
    "collapsed": false
   },
   "outputs": [],
   "source": [
    "%matplotlib inline\n",
    "\n",
    "import pandas as pd\n",
    "\n",
    "from sklearn.feature_extraction.text import CountVectorizer \n",
    "from sklearn.model_selection import train_test_split\n",
    "from sklearn.linear_model import LogisticRegression\n",
    "from sklearn.metrics import precision_recall_curve\n",
    "from sklearn.metrics import roc_curve, auc\n",
    "\n",
    "import matplotlib.pyplot as plt"
   ]
  },
  {
   "cell_type": "code",
   "execution_count": 2,
   "metadata": {
    "collapsed": false
   },
   "outputs": [
    {
     "data": {
      "text/plain": [
       "(                                                name  \\\n",
       " 0                           Planetwise Flannel Wipes   \n",
       " 1                              Planetwise Wipe Pouch   \n",
       " 2                Annas Dream Full Quilt with 2 Shams   \n",
       " 3  Stop Pacifier Sucking without tears with Thumb...   \n",
       " 4  Stop Pacifier Sucking without tears with Thumb...   \n",
       " \n",
       "                                               review  rating  \n",
       " 0  These flannel wipes are OK, but in my opinion ...       3  \n",
       " 1  it came early and was not disappointed. i love...       5  \n",
       " 2  Very soft and comfortable and warmer than it l...       5  \n",
       " 3  This is a product well worth the purchase.  I ...       5  \n",
       " 4  All of my kids have cried non-stop when I trie...       5  , 183531)"
      ]
     },
     "execution_count": 2,
     "metadata": {},
     "output_type": "execute_result"
    }
   ],
   "source": [
    "df = pd.read_csv('/Users/adonismaomao/Data sets/amazon_baby.csv')\n",
    "df.head(),len(df)"
   ]
  },
  {
   "cell_type": "code",
   "execution_count": 3,
   "metadata": {
    "collapsed": true
   },
   "outputs": [],
   "source": [
    "#build a word counter\n",
    "\n",
    "def word_count(review):\n",
    "    wordcount ={}\n",
    "    words = review.split()\n",
    "    for word in words:\n",
    "        if word not in wordcount:\n",
    "            wordcount[word] = 1\n",
    "        else:    \n",
    "            wordcount[word] += 1\n",
    "    return wordcount"
   ]
  },
  {
   "cell_type": "code",
   "execution_count": 4,
   "metadata": {
    "collapsed": false
   },
   "outputs": [],
   "source": [
    "# create the word count column by applying the word_count function\n",
    "\n",
    "df['word_count'] = df['review'].astype(str).apply(lambda x: word_count(x))"
   ]
  },
  {
   "cell_type": "code",
   "execution_count": 5,
   "metadata": {
    "collapsed": false
   },
   "outputs": [
    {
     "data": {
      "text/plain": [
       "0         {u'and': 5, u'stink': 1, u'Blue-12': 1, u'orde...\n",
       "1         {u'and': 3, u'love': 1, u'it': 2, u'highly': 1...\n",
       "2         {u'and': 2, u'quilt': 1, u'it': 1, u'comfortab...\n",
       "3         {u'and': 3, u'ingenious': 1, u'What': 1, u'lov...\n",
       "4         {u'and': 2, u'it.This': 1, u'all': 1, u'help':...\n",
       "5         {u'and': 2, u'cute': 1, u'would': 1, u'help': ...\n",
       "6         {u'Barnes': 1, u'is': 1, u'bound': 1, u'as': 1...\n",
       "7         {u'Perfect': 1, u'and': 2, u'all': 1, u'would'...\n",
       "8         {u'and': 1, u'help': 1, u'Pinterest': 1, u'is'...\n",
       "9         {u'options.I': 1, u'journal.': 1, u'all': 1, u...\n",
       "10        {u'forget': 1, u'just': 1, u'sleep': 1, u'milk...\n",
       "11        {u'and': 1, u'is': 1, u'in': 1, u'it': 1, u'ch...\n",
       "12        {u'all': 1, u'Also,': 1, u'just': 1, u'-': 6, ...\n",
       "13        {u'forget': 1, u'just': 1, u'able': 1, u'month...\n",
       "14        {u'info': 1, u'and': 1, u'what': 1, u'wanted!!...\n",
       "15        {u'and': 3, u'would': 1, u'useful': 1, u'have'...\n",
       "16        {u'and': 1, u'little': 1, u'love': 1, u'like':...\n",
       "17        {u'and': 1, u'one': 3, u'second': 1, u'are': 1...\n",
       "18        {u'and': 5, u'all': 3, u'questions': 1, u'mome...\n",
       "19        {u'and': 2, u'cute': 1, u'is': 1, u'There': 1,...\n",
       "20        {u'and': 3, u'all': 1, u'on': 1, u'memories.':...\n",
       "21        {u'and': 1, u'cute': 1, u'because': 2, u'just'...\n",
       "22        {u'and': 4, u'cute': 1, u'on': 2, u'have': 1, ...\n",
       "23        {u'just': 1, u'use.': 1, u'is': 1, u'There': 1...\n",
       "24        {u'and': 2, u'supplies': 1, u'dont': 1, u'just...\n",
       "25        {u'and': 2, u'this': 1, u'one-year': 1, u'art'...\n",
       "26        {u'and': 1, u'remembering': 1, u'tired': 1, u'...\n",
       "27        {u'and': 4, u'his': 1, u'pretend': 1, u'just':...\n",
       "28        {u'and': 2, u'because': 1, u'just': 1, u'less'...\n",
       "29        {u'family': 1, u'over': 1, u'it': 2, u'seat': ...\n",
       "                                ...                        \n",
       "183501    {u'and': 2, u'love': 2, u'weight': 1, u'evalua...\n",
       "183502    {u':)': 1, u'case!': 1, u'is': 2, u'doesn\\'t':...\n",
       "183503    {u'and': 1, u'case,': 1, u'picture': 1, u'colo...\n",
       "183504    {u'love': 1, u'color': 1, u'me....': 1, u'it':...\n",
       "183505    {u'and': 1, u'program': 1, u'it': 1, u'sample'...\n",
       "183506    {u'just': 1, u'scratch': 1, u'doesn\\'t': 3, u'...\n",
       "183507    {u'and': 1, u'would': 1, u'for': 1, u'wife': 1...\n",
       "183508    {u'and': 1, u'love': 1, u'fit': 1, u'case.': 1...\n",
       "183509    {u'case': 1, u'and': 3, u'fortun': 1, u'phone'...\n",
       "183510    {u'Great': 1, u'love': 1, u'fit.': 1, u'it': 1...\n",
       "183511    {u'and': 2, u'features': 1, u'is': 1, u'slim':...\n",
       "183512    {u'and': 3, u'evaluation.*': 1, u'few': 1, u'c...\n",
       "183513    {u'a': 1, u'this': 1, u'love': 1, u'sub': 1, u...\n",
       "183514    {u'program': 1, u'sometimes.': 1, u'evaluation...\n",
       "183515    {u'and': 2, u'love': 1, u'hand,': 1, u'is': 1,...\n",
       "183516    {u'and': 1, u'ordered': 1, u'is': 1, u'stays':...\n",
       "183517    {u'and': 3, u'hand.': 1, u'love': 1, u'absolut...\n",
       "183518    {u'and': 2, u'secure': 1, u'just': 1, u'be': 1...\n",
       "183519    {u'and': 2, u'love': 1, u'is': 2, u'it': 1, u'...\n",
       "183520    {u'vent': 1, u'valve': 2, u'there': 1, u'There...\n",
       "183521    {u'and': 1, u'uncomfortable': 1, u'feel': 2, u...\n",
       "183522    {u'and': 4, u'it.': 1, u'because': 1, u'being'...\n",
       "183523    {u'and': 4, u'right': 1, u'love': 2, u'they\\'r...\n",
       "183524    {u'and': 6, u'love': 1, u'family': 1, u'snacks...\n",
       "183525    {u'when': 1, u'doesn\\'t': 2, u'through': 1, u'...\n",
       "183526    {u'and': 1, u'help': 1, u'too,': 1, u'reduce':...\n",
       "183527    {u'and': 5, u'accessible': 1, u'concept': 1, u...\n",
       "183528    {u'and': 2, u'this': 1, u'great': 2, u'kids......\n",
       "183529    {u'just': 1, u'one.': 1, u'bright': 1, u'gener...\n",
       "183530    {u'and': 1, u'love': 1, u'well': 1, u'direct':...\n",
       "Name: word_count, dtype: object"
      ]
     },
     "execution_count": 5,
     "metadata": {},
     "output_type": "execute_result"
    }
   ],
   "source": [
    "df['word_count'] "
   ]
  },
  {
   "cell_type": "code",
   "execution_count": 6,
   "metadata": {
    "collapsed": false
   },
   "outputs": [],
   "source": [
    "#throw away the neutral ratings and classify rating 4,5 as positive ratings \n",
    "#and 1, 2 as negative ratings\n",
    "\n",
    "df = df[df['rating'] !=3]\n",
    "df['sentiment'] = df['rating'] >= 4\n",
    "df['sentiment'] = df['sentiment'].astype(int)"
   ]
  },
  {
   "cell_type": "code",
   "execution_count": 7,
   "metadata": {
    "collapsed": false
   },
   "outputs": [],
   "source": [
    "df = df.dropna()"
   ]
  },
  {
   "cell_type": "markdown",
   "metadata": {},
   "source": [
    "## using all the words in reviews"
   ]
  },
  {
   "cell_type": "code",
   "execution_count": 8,
   "metadata": {
    "collapsed": false
   },
   "outputs": [],
   "source": [
    "vect = CountVectorizer()"
   ]
  },
  {
   "cell_type": "code",
   "execution_count": 9,
   "metadata": {
    "collapsed": false
   },
   "outputs": [],
   "source": [
    "X = vect.fit_transform(df['review'])\n",
    "y = df['sentiment']\n",
    "X_train, X_test, y_train, y_test = train_test_split(X, y, test_size=0.2, random_state=0)"
   ]
  },
  {
   "cell_type": "code",
   "execution_count": 10,
   "metadata": {
    "collapsed": false
   },
   "outputs": [
    {
     "data": {
      "text/plain": [
       "<132543x64130 sparse matrix of type '<type 'numpy.int64'>'\n",
       "\twith 7062424 stored elements in Compressed Sparse Row format>"
      ]
     },
     "execution_count": 10,
     "metadata": {},
     "output_type": "execute_result"
    }
   ],
   "source": [
    "X_train"
   ]
  },
  {
   "cell_type": "code",
   "execution_count": 11,
   "metadata": {
    "collapsed": true
   },
   "outputs": [],
   "source": [
    "clf1 = LogisticRegression(n_jobs=-1)"
   ]
  },
  {
   "cell_type": "code",
   "execution_count": 12,
   "metadata": {
    "collapsed": false
   },
   "outputs": [
    {
     "name": "stderr",
     "output_type": "stream",
     "text": [
      "/Users/adonismaomao/anaconda/lib/python2.7/site-packages/sklearn/linear_model/logistic.py:1228: UserWarning: 'n_jobs' > 1 does not have any effect when 'solver' is set to 'liblinear'. Got 'n_jobs' = -1.\n",
      "  \" = {}.\".format(self.n_jobs))\n"
     ]
    },
    {
     "data": {
      "text/plain": [
       "LogisticRegression(C=1.0, class_weight=None, dual=False, fit_intercept=True,\n",
       "          intercept_scaling=1, max_iter=100, multi_class='ovr', n_jobs=-1,\n",
       "          penalty='l2', random_state=None, solver='liblinear', tol=0.0001,\n",
       "          verbose=0, warm_start=False)"
      ]
     },
     "execution_count": 12,
     "metadata": {},
     "output_type": "execute_result"
    }
   ],
   "source": [
    "clf1.fit(X_train, y_train)"
   ]
  },
  {
   "cell_type": "code",
   "execution_count": 13,
   "metadata": {
    "collapsed": true
   },
   "outputs": [],
   "source": [
    "y_test_hat = clf1.predict(X_test)"
   ]
  },
  {
   "cell_type": "code",
   "execution_count": 14,
   "metadata": {
    "collapsed": false
   },
   "outputs": [
    {
     "data": {
      "text/plain": [
       "0.93161516175760506"
      ]
     },
     "execution_count": 14,
     "metadata": {},
     "output_type": "execute_result"
    }
   ],
   "source": [
    "clf1.score(X_test, y_test)"
   ]
  },
  {
   "cell_type": "code",
   "execution_count": 15,
   "metadata": {
    "collapsed": false
   },
   "outputs": [],
   "source": [
    " #roc\n",
    "def plot_roc(y_test, y_test_hat):   \n",
    "    fpr_lr, tpr_lr, _ = roc_curve(y_test, y_test_hat)\n",
    "    roc_auc_lr = auc(fpr_lr, tpr_lr)\n",
    "    \n",
    "    #plotting\n",
    "    \n",
    "    plt.figure(1)\n",
    "    plt.xlim([-0.01, 1.00])\n",
    "    plt.ylim([-0.01, 1.01])\n",
    "    plt.plot(fpr_lr, tpr_lr, lw=3, label='LogRegr ROC curve (area = {:0.2f})'.format(roc_auc_lr))\n",
    "    plt.xlabel('False Positive Rate', fontsize=16)\n",
    "    plt.ylabel('True Positive Rate', fontsize=16)\n",
    "    plt.title('ROC curve', fontsize=16)\n",
    "    plt.legend(loc='best', fontsize=10)\n",
    "    plt.plot([0, 1], [0, 1], color='navy', lw=3, linestyle='--')\n",
    "    plt.axes().set_aspect('equal')\n",
    "    plt.show()\n",
    "    "
   ]
  },
  {
   "cell_type": "code",
   "execution_count": 16,
   "metadata": {
    "collapsed": false,
    "scrolled": true
   },
   "outputs": [
    {
     "data": {
      "image/png": "[encoded data removed]",
      "text/plain": [
       "<matplotlib.figure.Figure at 0x10fd9b490>"
      ]
     },
     "metadata": {},
     "output_type": "display_data"
    }
   ],
   "source": [
    "plot_roc(y_test, y_test_hat)"
   ]
  },
  {
   "cell_type": "markdown",
   "metadata": {},
   "source": [
    "## using a selection of words"
   ]
  },
  {
   "cell_type": "code",
   "execution_count": 17,
   "metadata": {
    "collapsed": true
   },
   "outputs": [],
   "source": [
    "selected_words = ['awesome', 'great', 'fantastic', 'amazing', 'love', 'horrible', 'bad', 'terrible', 'awful', 'wow', 'hate']"
   ]
  },
  {
   "cell_type": "code",
   "execution_count": 18,
   "metadata": {
    "collapsed": false
   },
   "outputs": [],
   "source": [
    "def count_selected_word(word, review):\n",
    "    if word in review.keys():\n",
    "        return review[word]\n",
    "    else:\n",
    "        return 0"
   ]
  },
  {
   "cell_type": "code",
   "execution_count": 19,
   "metadata": {
    "collapsed": false
   },
   "outputs": [],
   "source": [
    "for word in selected_words:\n",
    "    df[word] = df['word_count'].apply(lambda x: count_selected_word(word, x))\n",
    "   "
   ]
  },
  {
   "cell_type": "code",
   "execution_count": 20,
   "metadata": {
    "collapsed": false
   },
   "outputs": [
    {
     "data": {
      "text/html": [
       "<div>\n",
       "<table border=\"1\" class=\"dataframe\">\n",
       "  <thead>\n",
       "    <tr style=\"text-align: right;\">\n",
       "      <th></th>\n",
       "      <th>name</th>\n",
       "      <th>review</th>\n",
       "      <th>rating</th>\n",
       "      <th>word_count</th>\n",
       "      <th>sentiment</th>\n",
       "      <th>awesome</th>\n",
       "      <th>great</th>\n",
       "      <th>fantastic</th>\n",
       "      <th>amazing</th>\n",
       "      <th>love</th>\n",
       "      <th>horrible</th>\n",
       "      <th>bad</th>\n",
       "      <th>terrible</th>\n",
       "      <th>awful</th>\n",
       "      <th>wow</th>\n",
       "      <th>hate</th>\n",
       "    </tr>\n",
       "  </thead>\n",
       "  <tbody>\n",
       "    <tr>\n",
       "      <th>1</th>\n",
       "      <td>Planetwise Wipe Pouch</td>\n",
       "      <td>it came early and was not disappointed. i love...</td>\n",
       "      <td>5</td>\n",
       "      <td>{u'and': 3, u'love': 1, u'it': 2, u'highly': 1...</td>\n",
       "      <td>1</td>\n",
       "      <td>0</td>\n",
       "      <td>0</td>\n",
       "      <td>0</td>\n",
       "      <td>0</td>\n",
       "      <td>1</td>\n",
       "      <td>0</td>\n",
       "      <td>0</td>\n",
       "      <td>0</td>\n",
       "      <td>0</td>\n",
       "      <td>0</td>\n",
       "      <td>0</td>\n",
       "    </tr>\n",
       "    <tr>\n",
       "      <th>2</th>\n",
       "      <td>Annas Dream Full Quilt with 2 Shams</td>\n",
       "      <td>Very soft and comfortable and warmer than it l...</td>\n",
       "      <td>5</td>\n",
       "      <td>{u'and': 2, u'quilt': 1, u'it': 1, u'comfortab...</td>\n",
       "      <td>1</td>\n",
       "      <td>0</td>\n",
       "      <td>0</td>\n",
       "      <td>0</td>\n",
       "      <td>0</td>\n",
       "      <td>0</td>\n",
       "      <td>0</td>\n",
       "      <td>0</td>\n",
       "      <td>0</td>\n",
       "      <td>0</td>\n",
       "      <td>0</td>\n",
       "      <td>0</td>\n",
       "    </tr>\n",
       "    <tr>\n",
       "      <th>3</th>\n",
       "      <td>Stop Pacifier Sucking without tears with Thumb...</td>\n",
       "      <td>This is a product well worth the purchase.  I ...</td>\n",
       "      <td>5</td>\n",
       "      <td>{u'and': 3, u'ingenious': 1, u'What': 1, u'lov...</td>\n",
       "      <td>1</td>\n",
       "      <td>0</td>\n",
       "      <td>0</td>\n",
       "      <td>0</td>\n",
       "      <td>0</td>\n",
       "      <td>2</td>\n",
       "      <td>0</td>\n",
       "      <td>0</td>\n",
       "      <td>0</td>\n",
       "      <td>0</td>\n",
       "      <td>0</td>\n",
       "      <td>0</td>\n",
       "    </tr>\n",
       "    <tr>\n",
       "      <th>4</th>\n",
       "      <td>Stop Pacifier Sucking without tears with Thumb...</td>\n",
       "      <td>All of my kids have cried non-stop when I trie...</td>\n",
       "      <td>5</td>\n",
       "      <td>{u'and': 2, u'it.This': 1, u'all': 1, u'help':...</td>\n",
       "      <td>1</td>\n",
       "      <td>0</td>\n",
       "      <td>1</td>\n",
       "      <td>0</td>\n",
       "      <td>0</td>\n",
       "      <td>0</td>\n",
       "      <td>0</td>\n",
       "      <td>0</td>\n",
       "      <td>0</td>\n",
       "      <td>0</td>\n",
       "      <td>0</td>\n",
       "      <td>0</td>\n",
       "    </tr>\n",
       "    <tr>\n",
       "      <th>5</th>\n",
       "      <td>Stop Pacifier Sucking without tears with Thumb...</td>\n",
       "      <td>When the Binky Fairy came to our house, we did...</td>\n",
       "      <td>5</td>\n",
       "      <td>{u'and': 2, u'cute': 1, u'would': 1, u'help': ...</td>\n",
       "      <td>1</td>\n",
       "      <td>0</td>\n",
       "      <td>1</td>\n",
       "      <td>0</td>\n",
       "      <td>0</td>\n",
       "      <td>0</td>\n",
       "      <td>0</td>\n",
       "      <td>0</td>\n",
       "      <td>0</td>\n",
       "      <td>0</td>\n",
       "      <td>0</td>\n",
       "      <td>0</td>\n",
       "    </tr>\n",
       "  </tbody>\n",
       "</table>\n",
       "</div>"
      ],
      "text/plain": [
       "                                                name  \\\n",
       "1                              Planetwise Wipe Pouch   \n",
       "2                Annas Dream Full Quilt with 2 Shams   \n",
       "3  Stop Pacifier Sucking without tears with Thumb...   \n",
       "4  Stop Pacifier Sucking without tears with Thumb...   \n",
       "5  Stop Pacifier Sucking without tears with Thumb...   \n",
       "\n",
       "                                              review  rating  \\\n",
       "1  it came early and was not disappointed. i love...       5   \n",
       "2  Very soft and comfortable and warmer than it l...       5   \n",
       "3  This is a product well worth the purchase.  I ...       5   \n",
       "4  All of my kids have cried non-stop when I trie...       5   \n",
       "5  When the Binky Fairy came to our house, we did...       5   \n",
       "\n",
       "                                          word_count  sentiment  awesome  \\\n",
       "1  {u'and': 3, u'love': 1, u'it': 2, u'highly': 1...          1        0   \n",
       "2  {u'and': 2, u'quilt': 1, u'it': 1, u'comfortab...          1        0   \n",
       "3  {u'and': 3, u'ingenious': 1, u'What': 1, u'lov...          1        0   \n",
       "4  {u'and': 2, u'it.This': 1, u'all': 1, u'help':...          1        0   \n",
       "5  {u'and': 2, u'cute': 1, u'would': 1, u'help': ...          1        0   \n",
       "\n",
       "   great  fantastic  amazing  love  horrible  bad  terrible  awful  wow  hate  \n",
       "1      0          0        0     1         0    0         0      0    0     0  \n",
       "2      0          0        0     0         0    0         0      0    0     0  \n",
       "3      0          0        0     2         0    0         0      0    0     0  \n",
       "4      1          0        0     0         0    0         0      0    0     0  \n",
       "5      1          0        0     0         0    0         0      0    0     0  "
      ]
     },
     "execution_count": 20,
     "metadata": {},
     "output_type": "execute_result"
    }
   ],
   "source": [
    "df.head()"
   ]
  },
  {
   "cell_type": "code",
   "execution_count": 21,
   "metadata": {
    "collapsed": false
   },
   "outputs": [
    {
     "name": "stdout",
     "output_type": "stream",
     "text": [
      "('awesome', 1600)\n",
      "('great', 34442)\n",
      "('fantastic', 752)\n",
      "('amazing', 1111)\n",
      "('love', 32077)\n",
      "('horrible', 566)\n",
      "('bad', 3091)\n",
      "('terrible', 587)\n",
      "('awful', 303)\n",
      "('wow', 48)\n",
      "('hate', 945)\n"
     ]
    }
   ],
   "source": [
    "import numpy as np\n",
    "\n",
    "for word in selected_words:\n",
    "    print(word, df[word].sum())\n",
    "    "
   ]
  },
  {
   "cell_type": "code",
   "execution_count": 22,
   "metadata": {
    "collapsed": true
   },
   "outputs": [],
   "source": [
    "x = df[selected_words]\n",
    "y = df['sentiment']\n",
    "X_train, X_test, y_train, y_test = train_test_split(x, y, test_size=0.2, random_state=0)"
   ]
  },
  {
   "cell_type": "code",
   "execution_count": 23,
   "metadata": {
    "collapsed": false
   },
   "outputs": [
    {
     "data": {
      "text/plain": [
       "LogisticRegression(C=1.0, class_weight=None, dual=False, fit_intercept=True,\n",
       "          intercept_scaling=1, max_iter=100, multi_class='ovr', n_jobs=1,\n",
       "          penalty='l2', random_state=None, solver='liblinear', tol=0.0001,\n",
       "          verbose=0, warm_start=False)"
      ]
     },
     "execution_count": 23,
     "metadata": {},
     "output_type": "execute_result"
    }
   ],
   "source": [
    "clf2 = LogisticRegression()\n",
    "clf2.fit(X_train, y_train)"
   ]
  },
  {
   "cell_type": "code",
   "execution_count": 24,
   "metadata": {
    "collapsed": false
   },
   "outputs": [
    {
     "data": {
      "text/plain": [
       "0.84445919845485273"
      ]
     },
     "execution_count": 24,
     "metadata": {},
     "output_type": "execute_result"
    }
   ],
   "source": [
    "clf2.score(X_test, y_test)"
   ]
  },
  {
   "cell_type": "code",
   "execution_count": 25,
   "metadata": {
    "collapsed": false
   },
   "outputs": [
    {
     "data": {
      "text/plain": [
       "array([[ 0.98998499,  0.74351038,  0.64858147,  0.80143886,  1.34872799,\n",
       "        -1.85709502, -0.91815079, -1.81746463, -1.5566213 ,  0.04068762,\n",
       "        -1.39197445]])"
      ]
     },
     "execution_count": 25,
     "metadata": {},
     "output_type": "execute_result"
    }
   ],
   "source": [
    "clf2.coef_ "
   ]
  },
  {
   "cell_type": "code",
   "execution_count": 26,
   "metadata": {
    "collapsed": false
   },
   "outputs": [
    {
     "data": {
      "text/plain": [
       "0.15759295026557218"
      ]
     },
     "execution_count": 26,
     "metadata": {},
     "output_type": "execute_result"
    }
   ],
   "source": [
    "len(y_test[y_test == 0])/float(len(y_test))"
   ]
  },
  {
   "cell_type": "markdown",
   "metadata": {},
   "source": [
    "## Comparing the two models"
   ]
  },
  {
   "cell_type": "markdown",
   "metadata": {},
   "source": [
    "We can conclude that the model using all the words is much better than the model using only a selected amont of words."
   ]
  },
  {
   "cell_type": "code",
   "execution_count": 27,
   "metadata": {
    "collapsed": false
   },
   "outputs": [],
   "source": [
    "df['proba1'] = pd.Series(index = df.index, data = clf1.predict_proba(X)[:, 1])\n",
    "df['proba2'] = pd.Series(index = df.index, data = clf2.predict_proba(x)[:, 1])"
   ]
  },
  {
   "cell_type": "code",
   "execution_count": 28,
   "metadata": {
    "collapsed": false
   },
   "outputs": [
    {
     "name": "stderr",
     "output_type": "stream",
     "text": [
      "/Users/adonismaomao/anaconda/lib/python2.7/site-packages/ipykernel/__main__.py:1: UserWarning: Boolean Series key will be reindexed to match DataFrame index.\n",
      "  if __name__ == '__main__':\n"
     ]
    },
    {
     "data": {
      "text/html": [
       "<div>\n",
       "<table border=\"1\" class=\"dataframe\">\n",
       "  <thead>\n",
       "    <tr style=\"text-align: right;\">\n",
       "      <th></th>\n",
       "      <th>name</th>\n",
       "      <th>review</th>\n",
       "      <th>rating</th>\n",
       "      <th>word_count</th>\n",
       "      <th>sentiment</th>\n",
       "      <th>awesome</th>\n",
       "      <th>great</th>\n",
       "      <th>fantastic</th>\n",
       "      <th>amazing</th>\n",
       "      <th>love</th>\n",
       "      <th>horrible</th>\n",
       "      <th>bad</th>\n",
       "      <th>terrible</th>\n",
       "      <th>awful</th>\n",
       "      <th>wow</th>\n",
       "      <th>hate</th>\n",
       "      <th>proba1</th>\n",
       "      <th>proba2</th>\n",
       "    </tr>\n",
       "  </thead>\n",
       "  <tbody>\n",
       "    <tr>\n",
       "      <th>320</th>\n",
       "      <td>Baby Trend Diaper Champ</td>\n",
       "      <td>I originally put this item on my baby registry...</td>\n",
       "      <td>5</td>\n",
       "      <td>{u'bags.': 1, u'CLEAN': 1, u'just': 1, u'less'...</td>\n",
       "      <td>1</td>\n",
       "      <td>0</td>\n",
       "      <td>0</td>\n",
       "      <td>0</td>\n",
       "      <td>0</td>\n",
       "      <td>0</td>\n",
       "      <td>0</td>\n",
       "      <td>0</td>\n",
       "      <td>0</td>\n",
       "      <td>0</td>\n",
       "      <td>0</td>\n",
       "      <td>0</td>\n",
       "      <td>1.0</td>\n",
       "      <td>0.808299</td>\n",
       "    </tr>\n",
       "    <tr>\n",
       "      <th>376</th>\n",
       "      <td>Baby Trend Diaper Champ</td>\n",
       "      <td>This is absolutely, by far, the best diaper pa...</td>\n",
       "      <td>5</td>\n",
       "      <td>{u'bags,': 1, u'money': 1, u'still': 2, u'job....</td>\n",
       "      <td>1</td>\n",
       "      <td>0</td>\n",
       "      <td>0</td>\n",
       "      <td>0</td>\n",
       "      <td>0</td>\n",
       "      <td>2</td>\n",
       "      <td>0</td>\n",
       "      <td>0</td>\n",
       "      <td>0</td>\n",
       "      <td>0</td>\n",
       "      <td>0</td>\n",
       "      <td>0</td>\n",
       "      <td>1.0</td>\n",
       "      <td>0.984272</td>\n",
       "    </tr>\n",
       "  </tbody>\n",
       "</table>\n",
       "</div>"
      ],
      "text/plain": [
       "                        name  \\\n",
       "320  Baby Trend Diaper Champ   \n",
       "376  Baby Trend Diaper Champ   \n",
       "\n",
       "                                                review  rating  \\\n",
       "320  I originally put this item on my baby registry...       5   \n",
       "376  This is absolutely, by far, the best diaper pa...       5   \n",
       "\n",
       "                                            word_count  sentiment  awesome  \\\n",
       "320  {u'bags.': 1, u'CLEAN': 1, u'just': 1, u'less'...          1        0   \n",
       "376  {u'bags,': 1, u'money': 1, u'still': 2, u'job....          1        0   \n",
       "\n",
       "     great  fantastic  amazing  love  horrible  bad  terrible  awful  wow  \\\n",
       "320      0          0        0     0         0    0         0      0    0   \n",
       "376      0          0        0     2         0    0         0      0    0   \n",
       "\n",
       "     hate  proba1    proba2  \n",
       "320     0     1.0  0.808299  \n",
       "376     0     1.0  0.984272  "
      ]
     },
     "execution_count": 28,
     "metadata": {},
     "output_type": "execute_result"
    }
   ],
   "source": [
    "df[df.name == 'Baby Trend Diaper Champ'][df.proba1 >0.9999999]"
   ]
  },
  {
   "cell_type": "code",
   "execution_count": null,
   "metadata": {
    "collapsed": true
   },
   "outputs": [],
   "source": []
  }
 ],
 "metadata": {
  "anaconda-cloud": {},
  "kernelspec": {
   "display_name": "Python [Root]",
   "language": "python",
   "name": "Python [Root]"
  },
  "language_info": {
   "codemirror_mode": {
    "name": "ipython",
    "version": 2
   },
   "file_extension": ".py",
   "mimetype": "text/x-python",
   "name": "python",
   "nbconvert_exporter": "python",
   "pygments_lexer": "ipython2",
   "version": "2.7.12"
  }
 },
 "nbformat": 4,
 "nbformat_minor": 0
}
