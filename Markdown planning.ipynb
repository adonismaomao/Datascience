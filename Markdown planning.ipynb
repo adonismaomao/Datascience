{
 "cells": [
  {
   "cell_type": "code",
   "execution_count": 1,
   "metadata": {
    "collapsed": true
   },
   "outputs": [],
   "source": [
    "%matplotlib inline\n",
    "import pandas as pd\n",
    "import numpy as np\n",
    "from matplotlib import pyplot as plt\n",
    "\n",
    "from sklearn.preprocessing import OneHotEncoder\n",
    "from sklearn.model_selection import train_test_split\n",
    "from sklearn.ensemble import RandomForestRegressor\n",
    "from sklearn.linear_model import LinearRegression\n"
   ]
  },
  {
   "cell_type": "code",
   "execution_count": 2,
   "metadata": {
    "collapsed": false
   },
   "outputs": [],
   "source": [
    "sales = pd.read_csv('sales_master.csv', parse_dates=['date'])\n",
    "articles = pd.read_csv('product_table.csv')"
   ]
  },
  {
   "cell_type": "code",
   "execution_count": 3,
   "metadata": {
    "collapsed": false
   },
   "outputs": [
    {
     "data": {
      "text/html": [
       "<div>\n",
       "<table border=\"1\" class=\"dataframe\">\n",
       "  <thead>\n",
       "    <tr style=\"text-align: right;\">\n",
       "      <th></th>\n",
       "      <th>date</th>\n",
       "      <th>variant</th>\n",
       "      <th>purchases</th>\n",
       "      <th>net_amount</th>\n",
       "      <th>gross_amount</th>\n",
       "    </tr>\n",
       "  </thead>\n",
       "  <tbody>\n",
       "    <tr>\n",
       "      <th>0</th>\n",
       "      <td>2017-10-02</td>\n",
       "      <td>494340001004</td>\n",
       "      <td>1.0</td>\n",
       "      <td>19.282061</td>\n",
       "      <td>19.99</td>\n",
       "    </tr>\n",
       "    <tr>\n",
       "      <th>1</th>\n",
       "      <td>2017-10-02</td>\n",
       "      <td>236505002074</td>\n",
       "      <td>2.0</td>\n",
       "      <td>15.411960</td>\n",
       "      <td>15.98</td>\n",
       "    </tr>\n",
       "    <tr>\n",
       "      <th>2</th>\n",
       "      <td>2017-10-02</td>\n",
       "      <td>236505002092</td>\n",
       "      <td>1.0</td>\n",
       "      <td>7.603579</td>\n",
       "      <td>7.99</td>\n",
       "    </tr>\n",
       "    <tr>\n",
       "      <th>3</th>\n",
       "      <td>2017-10-02</td>\n",
       "      <td>434045002034</td>\n",
       "      <td>1.0</td>\n",
       "      <td>34.678851</td>\n",
       "      <td>34.99</td>\n",
       "    </tr>\n",
       "    <tr>\n",
       "      <th>4</th>\n",
       "      <td>2017-10-02</td>\n",
       "      <td>434045002036</td>\n",
       "      <td>4.0</td>\n",
       "      <td>132.961475</td>\n",
       "      <td>139.96</td>\n",
       "    </tr>\n",
       "  </tbody>\n",
       "</table>\n",
       "</div>"
      ],
      "text/plain": [
       "        date       variant  purchases  net_amount  gross_amount\n",
       "0 2017-10-02  494340001004        1.0   19.282061         19.99\n",
       "1 2017-10-02  236505002074        2.0   15.411960         15.98\n",
       "2 2017-10-02  236505002092        1.0    7.603579          7.99\n",
       "3 2017-10-02  434045002034        1.0   34.678851         34.99\n",
       "4 2017-10-02  434045002036        4.0  132.961475        139.96"
      ]
     },
     "execution_count": 3,
     "metadata": {},
     "output_type": "execute_result"
    }
   ],
   "source": [
    "sales.head()"
   ]
  },
  {
   "cell_type": "code",
   "execution_count": 4,
   "metadata": {
    "collapsed": false
   },
   "outputs": [
    {
     "data": {
      "text/html": [
       "<div>\n",
       "<table border=\"1\" class=\"dataframe\">\n",
       "  <thead>\n",
       "    <tr style=\"text-align: right;\">\n",
       "      <th></th>\n",
       "      <th>PRODUCT_CODE</th>\n",
       "      <th>PRODUCT_TYPE_NAME</th>\n",
       "      <th>DEPARTMENT_ID</th>\n",
       "      <th>DEPARTMENT_NAME</th>\n",
       "      <th>INDEX_GROUP_NAME</th>\n",
       "      <th>SECTION_NAME</th>\n",
       "      <th>article</th>\n",
       "    </tr>\n",
       "  </thead>\n",
       "  <tbody>\n",
       "    <tr>\n",
       "      <th>0</th>\n",
       "      <td>526432</td>\n",
       "      <td>Pillow case</td>\n",
       "      <td>504</td>\n",
       "      <td>Sheets and pillowcases</td>\n",
       "      <td>Home</td>\n",
       "      <td>Sleep</td>\n",
       "      <td>526432001</td>\n",
       "    </tr>\n",
       "    <tr>\n",
       "      <th>1</th>\n",
       "      <td>381038</td>\n",
       "      <td>Bed skirt</td>\n",
       "      <td>508</td>\n",
       "      <td>Bedspreads/bedskirts</td>\n",
       "      <td>Home</td>\n",
       "      <td>Sleep</td>\n",
       "      <td>381038009</td>\n",
       "    </tr>\n",
       "    <tr>\n",
       "      <th>2</th>\n",
       "      <td>418545</td>\n",
       "      <td>T-shirt</td>\n",
       "      <td>176</td>\n",
       "      <td>Basics</td>\n",
       "      <td>Menswear</td>\n",
       "      <td>Men Underwear</td>\n",
       "      <td>418545028</td>\n",
       "    </tr>\n",
       "    <tr>\n",
       "      <th>3</th>\n",
       "      <td>467302</td>\n",
       "      <td>Storage</td>\n",
       "      <td>521</td>\n",
       "      <td>Textile kids</td>\n",
       "      <td>Home</td>\n",
       "      <td>Kids</td>\n",
       "      <td>467302028</td>\n",
       "    </tr>\n",
       "    <tr>\n",
       "      <th>4</th>\n",
       "      <td>452516</td>\n",
       "      <td>Socks</td>\n",
       "      <td>137</td>\n",
       "      <td>Socks</td>\n",
       "      <td>Ladieswear</td>\n",
       "      <td>Women Nightwear, Socks &amp; Tight</td>\n",
       "      <td>452516001</td>\n",
       "    </tr>\n",
       "  </tbody>\n",
       "</table>\n",
       "</div>"
      ],
      "text/plain": [
       "   PRODUCT_CODE PRODUCT_TYPE_NAME  DEPARTMENT_ID         DEPARTMENT_NAME  \\\n",
       "0        526432       Pillow case            504  Sheets and pillowcases   \n",
       "1        381038         Bed skirt            508    Bedspreads/bedskirts   \n",
       "2        418545           T-shirt            176                  Basics   \n",
       "3        467302           Storage            521            Textile kids   \n",
       "4        452516             Socks            137                   Socks   \n",
       "\n",
       "  INDEX_GROUP_NAME                    SECTION_NAME    article  \n",
       "0             Home                           Sleep  526432001  \n",
       "1             Home                           Sleep  381038009  \n",
       "2         Menswear                   Men Underwear  418545028  \n",
       "3             Home                            Kids  467302028  \n",
       "4       Ladieswear  Women Nightwear, Socks & Tight  452516001  "
      ]
     },
     "execution_count": 4,
     "metadata": {},
     "output_type": "execute_result"
    }
   ],
   "source": [
    "articles.head()"
   ]
  },
  {
   "cell_type": "code",
   "execution_count": 5,
   "metadata": {
    "collapsed": false
   },
   "outputs": [],
   "source": [
    "sales['week'] = sales['date'].dt.week"
   ]
  },
  {
   "cell_type": "code",
   "execution_count": 6,
   "metadata": {
    "collapsed": false
   },
   "outputs": [
    {
     "name": "stderr",
     "output_type": "stream",
     "text": [
      "/Users/adonismaomao/anaconda/lib/python2.7/site-packages/numpy/lib/function_base.py:4269: RuntimeWarning: Invalid value encountered in percentile\n",
      "  interpolation=interpolation)\n"
     ]
    },
    {
     "data": {
      "text/html": [
       "<div>\n",
       "<table border=\"1\" class=\"dataframe\">\n",
       "  <thead>\n",
       "    <tr style=\"text-align: right;\">\n",
       "      <th></th>\n",
       "      <th>count</th>\n",
       "      <th>mean</th>\n",
       "      <th>std</th>\n",
       "      <th>min</th>\n",
       "      <th>25%</th>\n",
       "      <th>50%</th>\n",
       "      <th>75%</th>\n",
       "      <th>max</th>\n",
       "    </tr>\n",
       "  </thead>\n",
       "  <tbody>\n",
       "    <tr>\n",
       "      <th>variant</th>\n",
       "      <td>46694.0</td>\n",
       "      <td>4.630616e+11</td>\n",
       "      <td>8.020259e+10</td>\n",
       "      <td>1.077130e+11</td>\n",
       "      <td>4.380700e+11</td>\n",
       "      <td>4.813050e+11</td>\n",
       "      <td>5.157300e+11</td>\n",
       "      <td>5.980310e+11</td>\n",
       "    </tr>\n",
       "    <tr>\n",
       "      <th>purchases</th>\n",
       "      <td>46694.0</td>\n",
       "      <td>9.659871e+00</td>\n",
       "      <td>2.655433e+01</td>\n",
       "      <td>0.000000e+00</td>\n",
       "      <td>1.000000e+00</td>\n",
       "      <td>3.000000e+00</td>\n",
       "      <td>9.000000e+00</td>\n",
       "      <td>1.535000e+03</td>\n",
       "    </tr>\n",
       "    <tr>\n",
       "      <th>net_amount</th>\n",
       "      <td>46072.0</td>\n",
       "      <td>1.076032e+02</td>\n",
       "      <td>2.764828e+02</td>\n",
       "      <td>0.000000e+00</td>\n",
       "      <td>NaN</td>\n",
       "      <td>NaN</td>\n",
       "      <td>NaN</td>\n",
       "      <td>2.045746e+04</td>\n",
       "    </tr>\n",
       "    <tr>\n",
       "      <th>gross_amount</th>\n",
       "      <td>46072.0</td>\n",
       "      <td>1.802883e+02</td>\n",
       "      <td>4.558773e+02</td>\n",
       "      <td>0.000000e+00</td>\n",
       "      <td>NaN</td>\n",
       "      <td>NaN</td>\n",
       "      <td>NaN</td>\n",
       "      <td>3.068465e+04</td>\n",
       "    </tr>\n",
       "    <tr>\n",
       "      <th>week</th>\n",
       "      <td>46694.0</td>\n",
       "      <td>4.110258e+01</td>\n",
       "      <td>7.867065e-01</td>\n",
       "      <td>4.000000e+01</td>\n",
       "      <td>4.000000e+01</td>\n",
       "      <td>4.100000e+01</td>\n",
       "      <td>4.200000e+01</td>\n",
       "      <td>4.200000e+01</td>\n",
       "    </tr>\n",
       "  </tbody>\n",
       "</table>\n",
       "</div>"
      ],
      "text/plain": [
       "                count          mean           std           min           25%  \\\n",
       "variant       46694.0  4.630616e+11  8.020259e+10  1.077130e+11  4.380700e+11   \n",
       "purchases     46694.0  9.659871e+00  2.655433e+01  0.000000e+00  1.000000e+00   \n",
       "net_amount    46072.0  1.076032e+02  2.764828e+02  0.000000e+00           NaN   \n",
       "gross_amount  46072.0  1.802883e+02  4.558773e+02  0.000000e+00           NaN   \n",
       "week          46694.0  4.110258e+01  7.867065e-01  4.000000e+01  4.000000e+01   \n",
       "\n",
       "                       50%           75%           max  \n",
       "variant       4.813050e+11  5.157300e+11  5.980310e+11  \n",
       "purchases     3.000000e+00  9.000000e+00  1.535000e+03  \n",
       "net_amount             NaN           NaN  2.045746e+04  \n",
       "gross_amount           NaN           NaN  3.068465e+04  \n",
       "week          4.100000e+01  4.200000e+01  4.200000e+01  "
      ]
     },
     "execution_count": 6,
     "metadata": {},
     "output_type": "execute_result"
    }
   ],
   "source": [
    "sales.describe().T"
   ]
  },
  {
   "cell_type": "code",
   "execution_count": 7,
   "metadata": {
    "collapsed": false
   },
   "outputs": [],
   "source": [
    "sales['variant'] = sales['variant'].astype(str)"
   ]
  },
  {
   "cell_type": "code",
   "execution_count": 8,
   "metadata": {
    "collapsed": false
   },
   "outputs": [],
   "source": [
    "sales['product'] = sales['variant'].apply(lambda x: x[0:6])\n",
    "sales['article'] = sales['variant'].apply(lambda x: x[0:9])"
   ]
  },
  {
   "cell_type": "code",
   "execution_count": 9,
   "metadata": {
    "collapsed": false
   },
   "outputs": [
    {
     "data": {
      "text/html": [
       "<div>\n",
       "<table border=\"1\" class=\"dataframe\">\n",
       "  <thead>\n",
       "    <tr style=\"text-align: right;\">\n",
       "      <th></th>\n",
       "      <th>date</th>\n",
       "      <th>variant</th>\n",
       "      <th>purchases</th>\n",
       "      <th>net_amount</th>\n",
       "      <th>gross_amount</th>\n",
       "      <th>week</th>\n",
       "      <th>product</th>\n",
       "      <th>article</th>\n",
       "    </tr>\n",
       "  </thead>\n",
       "  <tbody>\n",
       "    <tr>\n",
       "      <th>0</th>\n",
       "      <td>2017-10-02</td>\n",
       "      <td>494340001004</td>\n",
       "      <td>1.0</td>\n",
       "      <td>19.282061</td>\n",
       "      <td>19.99</td>\n",
       "      <td>40</td>\n",
       "      <td>494340</td>\n",
       "      <td>494340001</td>\n",
       "    </tr>\n",
       "    <tr>\n",
       "      <th>1</th>\n",
       "      <td>2017-10-02</td>\n",
       "      <td>236505002074</td>\n",
       "      <td>2.0</td>\n",
       "      <td>15.411960</td>\n",
       "      <td>15.98</td>\n",
       "      <td>40</td>\n",
       "      <td>236505</td>\n",
       "      <td>236505002</td>\n",
       "    </tr>\n",
       "    <tr>\n",
       "      <th>2</th>\n",
       "      <td>2017-10-02</td>\n",
       "      <td>236505002092</td>\n",
       "      <td>1.0</td>\n",
       "      <td>7.603579</td>\n",
       "      <td>7.99</td>\n",
       "      <td>40</td>\n",
       "      <td>236505</td>\n",
       "      <td>236505002</td>\n",
       "    </tr>\n",
       "    <tr>\n",
       "      <th>3</th>\n",
       "      <td>2017-10-02</td>\n",
       "      <td>434045002034</td>\n",
       "      <td>1.0</td>\n",
       "      <td>34.678851</td>\n",
       "      <td>34.99</td>\n",
       "      <td>40</td>\n",
       "      <td>434045</td>\n",
       "      <td>434045002</td>\n",
       "    </tr>\n",
       "    <tr>\n",
       "      <th>4</th>\n",
       "      <td>2017-10-02</td>\n",
       "      <td>434045002036</td>\n",
       "      <td>4.0</td>\n",
       "      <td>132.961475</td>\n",
       "      <td>139.96</td>\n",
       "      <td>40</td>\n",
       "      <td>434045</td>\n",
       "      <td>434045002</td>\n",
       "    </tr>\n",
       "  </tbody>\n",
       "</table>\n",
       "</div>"
      ],
      "text/plain": [
       "        date       variant  purchases  net_amount  gross_amount  week product  \\\n",
       "0 2017-10-02  494340001004        1.0   19.282061         19.99    40  494340   \n",
       "1 2017-10-02  236505002074        2.0   15.411960         15.98    40  236505   \n",
       "2 2017-10-02  236505002092        1.0    7.603579          7.99    40  236505   \n",
       "3 2017-10-02  434045002034        1.0   34.678851         34.99    40  434045   \n",
       "4 2017-10-02  434045002036        4.0  132.961475        139.96    40  434045   \n",
       "\n",
       "     article  \n",
       "0  494340001  \n",
       "1  236505002  \n",
       "2  236505002  \n",
       "3  434045002  \n",
       "4  434045002  "
      ]
     },
     "execution_count": 9,
     "metadata": {},
     "output_type": "execute_result"
    }
   ],
   "source": [
    "sales.head()"
   ]
  },
  {
   "cell_type": "code",
   "execution_count": 10,
   "metadata": {
    "collapsed": false
   },
   "outputs": [],
   "source": [
    "products = sales.groupby(['product', 'week']).sum()"
   ]
  },
  {
   "cell_type": "code",
   "execution_count": 11,
   "metadata": {
    "collapsed": false
   },
   "outputs": [
    {
     "data": {
      "text/html": [
       "<div>\n",
       "<table border=\"1\" class=\"dataframe\">\n",
       "  <thead>\n",
       "    <tr style=\"text-align: right;\">\n",
       "      <th></th>\n",
       "      <th></th>\n",
       "      <th>purchases</th>\n",
       "      <th>net_amount</th>\n",
       "      <th>gross_amount</th>\n",
       "    </tr>\n",
       "    <tr>\n",
       "      <th>product</th>\n",
       "      <th>week</th>\n",
       "      <th></th>\n",
       "      <th></th>\n",
       "      <th></th>\n",
       "    </tr>\n",
       "  </thead>\n",
       "  <tbody>\n",
       "    <tr>\n",
       "      <th rowspan=\"3\" valign=\"top\">107713</th>\n",
       "      <th>40</th>\n",
       "      <td>1.0</td>\n",
       "      <td>19.931457</td>\n",
       "      <td>19.99</td>\n",
       "    </tr>\n",
       "    <tr>\n",
       "      <th>41</th>\n",
       "      <td>7.0</td>\n",
       "      <td>48.933521</td>\n",
       "      <td>139.93</td>\n",
       "    </tr>\n",
       "    <tr>\n",
       "      <th>42</th>\n",
       "      <td>3.0</td>\n",
       "      <td>14.974509</td>\n",
       "      <td>59.97</td>\n",
       "    </tr>\n",
       "    <tr>\n",
       "      <th rowspan=\"2\" valign=\"top\">117369</th>\n",
       "      <th>40</th>\n",
       "      <td>106.0</td>\n",
       "      <td>593.514644</td>\n",
       "      <td>634.94</td>\n",
       "    </tr>\n",
       "    <tr>\n",
       "      <th>41</th>\n",
       "      <td>105.0</td>\n",
       "      <td>569.765805</td>\n",
       "      <td>628.95</td>\n",
       "    </tr>\n",
       "  </tbody>\n",
       "</table>\n",
       "</div>"
      ],
      "text/plain": [
       "              purchases  net_amount  gross_amount\n",
       "product week                                     \n",
       "107713  40          1.0   19.931457         19.99\n",
       "        41          7.0   48.933521        139.93\n",
       "        42          3.0   14.974509         59.97\n",
       "117369  40        106.0  593.514644        634.94\n",
       "        41        105.0  569.765805        628.95"
      ]
     },
     "execution_count": 11,
     "metadata": {},
     "output_type": "execute_result"
    }
   ],
   "source": [
    "products.head()"
   ]
  },
  {
   "cell_type": "code",
   "execution_count": 12,
   "metadata": {
    "collapsed": false
   },
   "outputs": [],
   "source": [
    "products['price'] = products['net_amount']/products['purchases']\n",
    "products['markdown'] = 1 - products['net_amount']/products['gross_amount']\n"
   ]
  },
  {
   "cell_type": "code",
   "execution_count": 13,
   "metadata": {
    "collapsed": false
   },
   "outputs": [
    {
     "data": {
      "text/html": [
       "<div>\n",
       "<table border=\"1\" class=\"dataframe\">\n",
       "  <thead>\n",
       "    <tr style=\"text-align: right;\">\n",
       "      <th></th>\n",
       "      <th></th>\n",
       "      <th>purchases</th>\n",
       "      <th>net_amount</th>\n",
       "      <th>gross_amount</th>\n",
       "      <th>price</th>\n",
       "      <th>markdown</th>\n",
       "    </tr>\n",
       "    <tr>\n",
       "      <th>product</th>\n",
       "      <th>week</th>\n",
       "      <th></th>\n",
       "      <th></th>\n",
       "      <th></th>\n",
       "      <th></th>\n",
       "      <th></th>\n",
       "    </tr>\n",
       "  </thead>\n",
       "  <tbody>\n",
       "    <tr>\n",
       "      <th rowspan=\"3\" valign=\"top\">107713</th>\n",
       "      <th>40</th>\n",
       "      <td>1.0</td>\n",
       "      <td>19.931457</td>\n",
       "      <td>19.99</td>\n",
       "      <td>19.931457</td>\n",
       "      <td>0.002929</td>\n",
       "    </tr>\n",
       "    <tr>\n",
       "      <th>41</th>\n",
       "      <td>7.0</td>\n",
       "      <td>48.933521</td>\n",
       "      <td>139.93</td>\n",
       "      <td>6.990503</td>\n",
       "      <td>0.650300</td>\n",
       "    </tr>\n",
       "    <tr>\n",
       "      <th>42</th>\n",
       "      <td>3.0</td>\n",
       "      <td>14.974509</td>\n",
       "      <td>59.97</td>\n",
       "      <td>4.991503</td>\n",
       "      <td>0.750300</td>\n",
       "    </tr>\n",
       "    <tr>\n",
       "      <th rowspan=\"2\" valign=\"top\">117369</th>\n",
       "      <th>40</th>\n",
       "      <td>106.0</td>\n",
       "      <td>593.514644</td>\n",
       "      <td>634.94</td>\n",
       "      <td>5.599195</td>\n",
       "      <td>0.065243</td>\n",
       "    </tr>\n",
       "    <tr>\n",
       "      <th>41</th>\n",
       "      <td>105.0</td>\n",
       "      <td>569.765805</td>\n",
       "      <td>628.95</td>\n",
       "      <td>5.426341</td>\n",
       "      <td>0.094100</td>\n",
       "    </tr>\n",
       "  </tbody>\n",
       "</table>\n",
       "</div>"
      ],
      "text/plain": [
       "              purchases  net_amount  gross_amount      price  markdown\n",
       "product week                                                          \n",
       "107713  40          1.0   19.931457         19.99  19.931457  0.002929\n",
       "        41          7.0   48.933521        139.93   6.990503  0.650300\n",
       "        42          3.0   14.974509         59.97   4.991503  0.750300\n",
       "117369  40        106.0  593.514644        634.94   5.599195  0.065243\n",
       "        41        105.0  569.765805        628.95   5.426341  0.094100"
      ]
     },
     "execution_count": 13,
     "metadata": {},
     "output_type": "execute_result"
    }
   ],
   "source": [
    "products.head()"
   ]
  },
  {
   "cell_type": "code",
   "execution_count": 14,
   "metadata": {
    "collapsed": false
   },
   "outputs": [],
   "source": [
    "products.reset_index(level=[0, 1], inplace=True)"
   ]
  },
  {
   "cell_type": "code",
   "execution_count": 15,
   "metadata": {
    "collapsed": false
   },
   "outputs": [
    {
     "data": {
      "text/plain": [
       "<matplotlib.axes._subplots.AxesSubplot at 0x1119980d0>"
      ]
     },
     "execution_count": 15,
     "metadata": {},
     "output_type": "execute_result"
    },
    {
     "data": {
      "image/png": "[encoded data removed]",
      "text/plain": [
       "<matplotlib.figure.Figure at 0x1102ac590>"
      ]
     },
     "metadata": {},
     "output_type": "display_data"
    }
   ],
   "source": [
    "products.plot('week', 'purchases')"
   ]
  },
  {
   "cell_type": "code",
   "execution_count": 16,
   "metadata": {
    "collapsed": false
   },
   "outputs": [
    {
     "data": {
      "text/plain": [
       "<matplotlib.axes._subplots.AxesSubplot at 0x110c92590>"
      ]
     },
     "execution_count": 16,
     "metadata": {},
     "output_type": "execute_result"
    },
    {
     "data": {
      "image/png": "[encoded data removed]",
      "text/plain": [
       "<matplotlib.figure.Figure at 0x110ce6e90>"
      ]
     },
     "metadata": {},
     "output_type": "display_data"
    }
   ],
   "source": [
    "products.plot('week', 'markdown')"
   ]
  },
  {
   "cell_type": "code",
   "execution_count": 17,
   "metadata": {
    "collapsed": false
   },
   "outputs": [],
   "source": [
    "prod_week = pd.pivot_table(products, values=['purchases', 'price', 'markdown'], \n",
    "               index = ['product'], columns=['week'], aggfunc=np.sum)"
   ]
  },
  {
   "cell_type": "code",
   "execution_count": 18,
   "metadata": {
    "collapsed": false
   },
   "outputs": [
    {
     "data": {
      "text/html": [
       "<div>\n",
       "<table border=\"1\" class=\"dataframe\">\n",
       "  <thead>\n",
       "    <tr>\n",
       "      <th></th>\n",
       "      <th colspan=\"3\" halign=\"left\">purchases</th>\n",
       "      <th colspan=\"3\" halign=\"left\">price</th>\n",
       "      <th colspan=\"3\" halign=\"left\">markdown</th>\n",
       "    </tr>\n",
       "    <tr>\n",
       "      <th>week</th>\n",
       "      <th>40</th>\n",
       "      <th>41</th>\n",
       "      <th>42</th>\n",
       "      <th>40</th>\n",
       "      <th>41</th>\n",
       "      <th>42</th>\n",
       "      <th>40</th>\n",
       "      <th>41</th>\n",
       "      <th>42</th>\n",
       "    </tr>\n",
       "    <tr>\n",
       "      <th>product</th>\n",
       "      <th></th>\n",
       "      <th></th>\n",
       "      <th></th>\n",
       "      <th></th>\n",
       "      <th></th>\n",
       "      <th></th>\n",
       "      <th></th>\n",
       "      <th></th>\n",
       "      <th></th>\n",
       "    </tr>\n",
       "  </thead>\n",
       "  <tbody>\n",
       "    <tr>\n",
       "      <th>107713</th>\n",
       "      <td>1.0</td>\n",
       "      <td>7.0</td>\n",
       "      <td>3.0</td>\n",
       "      <td>19.931457</td>\n",
       "      <td>6.990503</td>\n",
       "      <td>4.991503</td>\n",
       "      <td>0.002929</td>\n",
       "      <td>0.6503</td>\n",
       "      <td>0.7503</td>\n",
       "    </tr>\n",
       "    <tr>\n",
       "      <th>117369</th>\n",
       "      <td>106.0</td>\n",
       "      <td>105.0</td>\n",
       "      <td>81.0</td>\n",
       "      <td>5.599195</td>\n",
       "      <td>5.426341</td>\n",
       "      <td>4.827341</td>\n",
       "      <td>0.065243</td>\n",
       "      <td>0.0941</td>\n",
       "      <td>0.1941</td>\n",
       "    </tr>\n",
       "    <tr>\n",
       "      <th>141645</th>\n",
       "      <td>4.0</td>\n",
       "      <td>31.0</td>\n",
       "      <td>19.0</td>\n",
       "      <td>7.767762</td>\n",
       "      <td>4.411279</td>\n",
       "      <td>3.612279</td>\n",
       "      <td>0.027815</td>\n",
       "      <td>0.4479</td>\n",
       "      <td>0.5479</td>\n",
       "    </tr>\n",
       "    <tr>\n",
       "      <th>153175</th>\n",
       "      <td>81.0</td>\n",
       "      <td>656.0</td>\n",
       "      <td>358.0</td>\n",
       "      <td>38.207687</td>\n",
       "      <td>9.825543</td>\n",
       "      <td>3.999000</td>\n",
       "      <td>0.044569</td>\n",
       "      <td>0.7543</td>\n",
       "      <td>0.9000</td>\n",
       "    </tr>\n",
       "    <tr>\n",
       "      <th>179393</th>\n",
       "      <td>3.0</td>\n",
       "      <td>13.0</td>\n",
       "      <td>7.0</td>\n",
       "      <td>4.896394</td>\n",
       "      <td>3.639207</td>\n",
       "      <td>3.140207</td>\n",
       "      <td>0.018759</td>\n",
       "      <td>0.2707</td>\n",
       "      <td>0.3707</td>\n",
       "    </tr>\n",
       "  </tbody>\n",
       "</table>\n",
       "</div>"
      ],
      "text/plain": [
       "        purchases                    price                      markdown  \\\n",
       "week           40     41     42         40        41        42        40   \n",
       "product                                                                    \n",
       "107713        1.0    7.0    3.0  19.931457  6.990503  4.991503  0.002929   \n",
       "117369      106.0  105.0   81.0   5.599195  5.426341  4.827341  0.065243   \n",
       "141645        4.0   31.0   19.0   7.767762  4.411279  3.612279  0.027815   \n",
       "153175       81.0  656.0  358.0  38.207687  9.825543  3.999000  0.044569   \n",
       "179393        3.0   13.0    7.0   4.896394  3.639207  3.140207  0.018759   \n",
       "\n",
       "                         \n",
       "week         41      42  \n",
       "product                  \n",
       "107713   0.6503  0.7503  \n",
       "117369   0.0941  0.1941  \n",
       "141645   0.4479  0.5479  \n",
       "153175   0.7543  0.9000  \n",
       "179393   0.2707  0.3707  "
      ]
     },
     "execution_count": 18,
     "metadata": {},
     "output_type": "execute_result"
    }
   ],
   "source": [
    "prod_week.head()"
   ]
  },
  {
   "cell_type": "code",
   "execution_count": 19,
   "metadata": {
    "collapsed": true
   },
   "outputs": [],
   "source": [
    "prod_week['uplift_week41'] = prod_week['purchases'][41]/prod_week['purchases'][40]\n",
    "prod_week['uplift_week42'] = prod_week['purchases'][42]/prod_week['purchases'][40]"
   ]
  },
  {
   "cell_type": "code",
   "execution_count": 20,
   "metadata": {
    "collapsed": false
   },
   "outputs": [
    {
     "data": {
      "text/html": [
       "<div>\n",
       "<table border=\"1\" class=\"dataframe\">\n",
       "  <thead>\n",
       "    <tr>\n",
       "      <th></th>\n",
       "      <th colspan=\"3\" halign=\"left\">purchases</th>\n",
       "      <th colspan=\"3\" halign=\"left\">price</th>\n",
       "      <th colspan=\"3\" halign=\"left\">markdown</th>\n",
       "      <th>uplift_week41</th>\n",
       "      <th>uplift_week42</th>\n",
       "    </tr>\n",
       "    <tr>\n",
       "      <th>week</th>\n",
       "      <th>40</th>\n",
       "      <th>41</th>\n",
       "      <th>42</th>\n",
       "      <th>40</th>\n",
       "      <th>41</th>\n",
       "      <th>42</th>\n",
       "      <th>40</th>\n",
       "      <th>41</th>\n",
       "      <th>42</th>\n",
       "      <th></th>\n",
       "      <th></th>\n",
       "    </tr>\n",
       "    <tr>\n",
       "      <th>product</th>\n",
       "      <th></th>\n",
       "      <th></th>\n",
       "      <th></th>\n",
       "      <th></th>\n",
       "      <th></th>\n",
       "      <th></th>\n",
       "      <th></th>\n",
       "      <th></th>\n",
       "      <th></th>\n",
       "      <th></th>\n",
       "      <th></th>\n",
       "    </tr>\n",
       "  </thead>\n",
       "  <tbody>\n",
       "    <tr>\n",
       "      <th>107713</th>\n",
       "      <td>1.0</td>\n",
       "      <td>7.0</td>\n",
       "      <td>3.0</td>\n",
       "      <td>19.931457</td>\n",
       "      <td>6.990503</td>\n",
       "      <td>4.991503</td>\n",
       "      <td>0.002929</td>\n",
       "      <td>0.6503</td>\n",
       "      <td>0.7503</td>\n",
       "      <td>7.000000</td>\n",
       "      <td>3.000000</td>\n",
       "    </tr>\n",
       "    <tr>\n",
       "      <th>117369</th>\n",
       "      <td>106.0</td>\n",
       "      <td>105.0</td>\n",
       "      <td>81.0</td>\n",
       "      <td>5.599195</td>\n",
       "      <td>5.426341</td>\n",
       "      <td>4.827341</td>\n",
       "      <td>0.065243</td>\n",
       "      <td>0.0941</td>\n",
       "      <td>0.1941</td>\n",
       "      <td>0.990566</td>\n",
       "      <td>0.764151</td>\n",
       "    </tr>\n",
       "    <tr>\n",
       "      <th>141645</th>\n",
       "      <td>4.0</td>\n",
       "      <td>31.0</td>\n",
       "      <td>19.0</td>\n",
       "      <td>7.767762</td>\n",
       "      <td>4.411279</td>\n",
       "      <td>3.612279</td>\n",
       "      <td>0.027815</td>\n",
       "      <td>0.4479</td>\n",
       "      <td>0.5479</td>\n",
       "      <td>7.750000</td>\n",
       "      <td>4.750000</td>\n",
       "    </tr>\n",
       "    <tr>\n",
       "      <th>153175</th>\n",
       "      <td>81.0</td>\n",
       "      <td>656.0</td>\n",
       "      <td>358.0</td>\n",
       "      <td>38.207687</td>\n",
       "      <td>9.825543</td>\n",
       "      <td>3.999000</td>\n",
       "      <td>0.044569</td>\n",
       "      <td>0.7543</td>\n",
       "      <td>0.9000</td>\n",
       "      <td>8.098765</td>\n",
       "      <td>4.419753</td>\n",
       "    </tr>\n",
       "    <tr>\n",
       "      <th>179393</th>\n",
       "      <td>3.0</td>\n",
       "      <td>13.0</td>\n",
       "      <td>7.0</td>\n",
       "      <td>4.896394</td>\n",
       "      <td>3.639207</td>\n",
       "      <td>3.140207</td>\n",
       "      <td>0.018759</td>\n",
       "      <td>0.2707</td>\n",
       "      <td>0.3707</td>\n",
       "      <td>4.333333</td>\n",
       "      <td>2.333333</td>\n",
       "    </tr>\n",
       "  </tbody>\n",
       "</table>\n",
       "</div>"
      ],
      "text/plain": [
       "        purchases                    price                      markdown  \\\n",
       "week           40     41     42         40        41        42        40   \n",
       "product                                                                    \n",
       "107713        1.0    7.0    3.0  19.931457  6.990503  4.991503  0.002929   \n",
       "117369      106.0  105.0   81.0   5.599195  5.426341  4.827341  0.065243   \n",
       "141645        4.0   31.0   19.0   7.767762  4.411279  3.612279  0.027815   \n",
       "153175       81.0  656.0  358.0  38.207687  9.825543  3.999000  0.044569   \n",
       "179393        3.0   13.0    7.0   4.896394  3.639207  3.140207  0.018759   \n",
       "\n",
       "                        uplift_week41 uplift_week42  \n",
       "week         41      42                              \n",
       "product                                              \n",
       "107713   0.6503  0.7503      7.000000      3.000000  \n",
       "117369   0.0941  0.1941      0.990566      0.764151  \n",
       "141645   0.4479  0.5479      7.750000      4.750000  \n",
       "153175   0.7543  0.9000      8.098765      4.419753  \n",
       "179393   0.2707  0.3707      4.333333      2.333333  "
      ]
     },
     "execution_count": 20,
     "metadata": {},
     "output_type": "execute_result"
    }
   ],
   "source": [
    "prod_week.head()"
   ]
  },
  {
   "cell_type": "code",
   "execution_count": 21,
   "metadata": {
    "collapsed": false
   },
   "outputs": [
    {
     "data": {
      "text/html": [
       "<div>\n",
       "<table border=\"1\" class=\"dataframe\">\n",
       "  <thead>\n",
       "    <tr>\n",
       "      <th></th>\n",
       "      <th colspan=\"3\" halign=\"left\">purchases</th>\n",
       "      <th colspan=\"3\" halign=\"left\">price</th>\n",
       "      <th colspan=\"3\" halign=\"left\">markdown</th>\n",
       "      <th>uplift_week41</th>\n",
       "      <th>uplift_week42</th>\n",
       "    </tr>\n",
       "    <tr>\n",
       "      <th>week</th>\n",
       "      <th>40</th>\n",
       "      <th>41</th>\n",
       "      <th>42</th>\n",
       "      <th>40</th>\n",
       "      <th>41</th>\n",
       "      <th>42</th>\n",
       "      <th>40</th>\n",
       "      <th>41</th>\n",
       "      <th>42</th>\n",
       "      <th></th>\n",
       "      <th></th>\n",
       "    </tr>\n",
       "  </thead>\n",
       "  <tbody>\n",
       "    <tr>\n",
       "      <th>count</th>\n",
       "      <td>681.000000</td>\n",
       "      <td>681.000000</td>\n",
       "      <td>681.000000</td>\n",
       "      <td>681.000000</td>\n",
       "      <td>640.000000</td>\n",
       "      <td>583.000000</td>\n",
       "      <td>681.000000</td>\n",
       "      <td>639.000000</td>\n",
       "      <td>583.000000</td>\n",
       "      <td>681.000000</td>\n",
       "      <td>681.000000</td>\n",
       "    </tr>\n",
       "    <tr>\n",
       "      <th>mean</th>\n",
       "      <td>96.143906</td>\n",
       "      <td>340.929515</td>\n",
       "      <td>225.273128</td>\n",
       "      <td>19.023922</td>\n",
       "      <td>11.890668</td>\n",
       "      <td>9.519856</td>\n",
       "      <td>0.049708</td>\n",
       "      <td>0.404219</td>\n",
       "      <td>0.510093</td>\n",
       "      <td>4.555753</td>\n",
       "      <td>2.512551</td>\n",
       "    </tr>\n",
       "    <tr>\n",
       "      <th>std</th>\n",
       "      <td>182.324565</td>\n",
       "      <td>644.308670</td>\n",
       "      <td>488.161610</td>\n",
       "      <td>14.846951</td>\n",
       "      <td>12.222364</td>\n",
       "      <td>9.465496</td>\n",
       "      <td>0.012482</td>\n",
       "      <td>0.239935</td>\n",
       "      <td>0.237793</td>\n",
       "      <td>3.648139</td>\n",
       "      <td>1.839036</td>\n",
       "    </tr>\n",
       "    <tr>\n",
       "      <th>min</th>\n",
       "      <td>1.000000</td>\n",
       "      <td>0.000000</td>\n",
       "      <td>0.000000</td>\n",
       "      <td>0.932065</td>\n",
       "      <td>0.000000</td>\n",
       "      <td>0.299000</td>\n",
       "      <td>0.002486</td>\n",
       "      <td>0.040200</td>\n",
       "      <td>0.046000</td>\n",
       "      <td>0.000000</td>\n",
       "      <td>0.000000</td>\n",
       "    </tr>\n",
       "    <tr>\n",
       "      <th>25%</th>\n",
       "      <td>12.000000</td>\n",
       "      <td>34.000000</td>\n",
       "      <td>13.000000</td>\n",
       "      <td>9.475672</td>\n",
       "      <td>NaN</td>\n",
       "      <td>NaN</td>\n",
       "      <td>0.043431</td>\n",
       "      <td>NaN</td>\n",
       "      <td>NaN</td>\n",
       "      <td>1.820965</td>\n",
       "      <td>1.095652</td>\n",
       "    </tr>\n",
       "    <tr>\n",
       "      <th>50%</th>\n",
       "      <td>39.000000</td>\n",
       "      <td>123.000000</td>\n",
       "      <td>74.000000</td>\n",
       "      <td>14.357908</td>\n",
       "      <td>NaN</td>\n",
       "      <td>NaN</td>\n",
       "      <td>0.049729</td>\n",
       "      <td>NaN</td>\n",
       "      <td>NaN</td>\n",
       "      <td>3.636364</td>\n",
       "      <td>2.333333</td>\n",
       "    </tr>\n",
       "    <tr>\n",
       "      <th>75%</th>\n",
       "      <td>107.000000</td>\n",
       "      <td>356.000000</td>\n",
       "      <td>217.000000</td>\n",
       "      <td>23.816193</td>\n",
       "      <td>NaN</td>\n",
       "      <td>NaN</td>\n",
       "      <td>0.055983</td>\n",
       "      <td>NaN</td>\n",
       "      <td>NaN</td>\n",
       "      <td>6.913043</td>\n",
       "      <td>3.730769</td>\n",
       "    </tr>\n",
       "    <tr>\n",
       "      <th>max</th>\n",
       "      <td>2302.000000</td>\n",
       "      <td>7555.000000</td>\n",
       "      <td>6597.000000</td>\n",
       "      <td>142.044125</td>\n",
       "      <td>119.200000</td>\n",
       "      <td>81.908898</td>\n",
       "      <td>0.095313</td>\n",
       "      <td>0.900000</td>\n",
       "      <td>0.900000</td>\n",
       "      <td>21.093023</td>\n",
       "      <td>10.000000</td>\n",
       "    </tr>\n",
       "  </tbody>\n",
       "</table>\n",
       "</div>"
      ],
      "text/plain": [
       "         purchases                                 price              \\\n",
       "week            40           41           42          40          41   \n",
       "count   681.000000   681.000000   681.000000  681.000000  640.000000   \n",
       "mean     96.143906   340.929515   225.273128   19.023922   11.890668   \n",
       "std     182.324565   644.308670   488.161610   14.846951   12.222364   \n",
       "min       1.000000     0.000000     0.000000    0.932065    0.000000   \n",
       "25%      12.000000    34.000000    13.000000    9.475672         NaN   \n",
       "50%      39.000000   123.000000    74.000000   14.357908         NaN   \n",
       "75%     107.000000   356.000000   217.000000   23.816193         NaN   \n",
       "max    2302.000000  7555.000000  6597.000000  142.044125  119.200000   \n",
       "\n",
       "                     markdown                         uplift_week41  \\\n",
       "week           42          40          41          42                 \n",
       "count  583.000000  681.000000  639.000000  583.000000    681.000000   \n",
       "mean     9.519856    0.049708    0.404219    0.510093      4.555753   \n",
       "std      9.465496    0.012482    0.239935    0.237793      3.648139   \n",
       "min      0.299000    0.002486    0.040200    0.046000      0.000000   \n",
       "25%           NaN    0.043431         NaN         NaN      1.820965   \n",
       "50%           NaN    0.049729         NaN         NaN      3.636364   \n",
       "75%           NaN    0.055983         NaN         NaN      6.913043   \n",
       "max     81.908898    0.095313    0.900000    0.900000     21.093023   \n",
       "\n",
       "      uplift_week42  \n",
       "week                 \n",
       "count    681.000000  \n",
       "mean       2.512551  \n",
       "std        1.839036  \n",
       "min        0.000000  \n",
       "25%        1.095652  \n",
       "50%        2.333333  \n",
       "75%        3.730769  \n",
       "max       10.000000  "
      ]
     },
     "execution_count": 21,
     "metadata": {},
     "output_type": "execute_result"
    }
   ],
   "source": [
    "prod_week.describe()"
   ]
  },
  {
   "cell_type": "code",
   "execution_count": 22,
   "metadata": {
    "collapsed": false
   },
   "outputs": [
    {
     "data": {
      "image/png": "[encoded data removed]",
      "text/plain": [
       "<matplotlib.figure.Figure at 0x114e81c50>"
      ]
     },
     "metadata": {},
     "output_type": "display_data"
    }
   ],
   "source": [
    "#Uplift_week41 vs. markdown (elasticity)\n",
    "plt.scatter(prod_week['markdown'][41], prod_week['uplift_week41'])\n",
    "plt.ylabel('uplift_factor_w01')\n",
    "plt.xlabel('markdown')\n",
    "plt.show()"
   ]
  },
  {
   "cell_type": "markdown",
   "metadata": {},
   "source": [
    "Looks quite linear or exponential."
   ]
  },
  {
   "cell_type": "code",
   "execution_count": 23,
   "metadata": {
    "collapsed": false
   },
   "outputs": [
    {
     "data": {
      "image/png": "[encoded data removed]",
      "text/plain": [
       "<matplotlib.figure.Figure at 0x1165f0050>"
      ]
     },
     "metadata": {},
     "output_type": "display_data"
    }
   ],
   "source": [
    "#Uplift_week42 vs. markdown\n",
    "plt.scatter(prod_week['markdown'][42], prod_week['uplift_week42'])\n",
    "plt.ylabel('uplift_factor_w02')\n",
    "plt.xlabel('markdown')\n",
    "plt.show()"
   ]
  },
  {
   "cell_type": "code",
   "execution_count": 24,
   "metadata": {
    "collapsed": true
   },
   "outputs": [],
   "source": [
    "prod_week['sold_tot'] = prod_week['purchases'][40]+prod_week['purchases'][41]+prod_week['purchases'][42]"
   ]
  },
  {
   "cell_type": "code",
   "execution_count": 25,
   "metadata": {
    "collapsed": false
   },
   "outputs": [
    {
     "data": {
      "text/html": [
       "<div>\n",
       "<table border=\"1\" class=\"dataframe\">\n",
       "  <thead>\n",
       "    <tr>\n",
       "      <th></th>\n",
       "      <th colspan=\"3\" halign=\"left\">purchases</th>\n",
       "      <th colspan=\"3\" halign=\"left\">price</th>\n",
       "      <th colspan=\"3\" halign=\"left\">markdown</th>\n",
       "      <th>uplift_week41</th>\n",
       "      <th>uplift_week42</th>\n",
       "      <th>sold_tot</th>\n",
       "    </tr>\n",
       "    <tr>\n",
       "      <th>week</th>\n",
       "      <th>40</th>\n",
       "      <th>41</th>\n",
       "      <th>42</th>\n",
       "      <th>40</th>\n",
       "      <th>41</th>\n",
       "      <th>42</th>\n",
       "      <th>40</th>\n",
       "      <th>41</th>\n",
       "      <th>42</th>\n",
       "      <th></th>\n",
       "      <th></th>\n",
       "      <th></th>\n",
       "    </tr>\n",
       "    <tr>\n",
       "      <th>product</th>\n",
       "      <th></th>\n",
       "      <th></th>\n",
       "      <th></th>\n",
       "      <th></th>\n",
       "      <th></th>\n",
       "      <th></th>\n",
       "      <th></th>\n",
       "      <th></th>\n",
       "      <th></th>\n",
       "      <th></th>\n",
       "      <th></th>\n",
       "      <th></th>\n",
       "    </tr>\n",
       "  </thead>\n",
       "  <tbody>\n",
       "    <tr>\n",
       "      <th>107713</th>\n",
       "      <td>1.0</td>\n",
       "      <td>7.0</td>\n",
       "      <td>3.0</td>\n",
       "      <td>19.931457</td>\n",
       "      <td>6.990503</td>\n",
       "      <td>4.991503</td>\n",
       "      <td>0.002929</td>\n",
       "      <td>0.6503</td>\n",
       "      <td>0.7503</td>\n",
       "      <td>7.000000</td>\n",
       "      <td>3.000000</td>\n",
       "      <td>11.0</td>\n",
       "    </tr>\n",
       "    <tr>\n",
       "      <th>117369</th>\n",
       "      <td>106.0</td>\n",
       "      <td>105.0</td>\n",
       "      <td>81.0</td>\n",
       "      <td>5.599195</td>\n",
       "      <td>5.426341</td>\n",
       "      <td>4.827341</td>\n",
       "      <td>0.065243</td>\n",
       "      <td>0.0941</td>\n",
       "      <td>0.1941</td>\n",
       "      <td>0.990566</td>\n",
       "      <td>0.764151</td>\n",
       "      <td>292.0</td>\n",
       "    </tr>\n",
       "    <tr>\n",
       "      <th>141645</th>\n",
       "      <td>4.0</td>\n",
       "      <td>31.0</td>\n",
       "      <td>19.0</td>\n",
       "      <td>7.767762</td>\n",
       "      <td>4.411279</td>\n",
       "      <td>3.612279</td>\n",
       "      <td>0.027815</td>\n",
       "      <td>0.4479</td>\n",
       "      <td>0.5479</td>\n",
       "      <td>7.750000</td>\n",
       "      <td>4.750000</td>\n",
       "      <td>54.0</td>\n",
       "    </tr>\n",
       "    <tr>\n",
       "      <th>153175</th>\n",
       "      <td>81.0</td>\n",
       "      <td>656.0</td>\n",
       "      <td>358.0</td>\n",
       "      <td>38.207687</td>\n",
       "      <td>9.825543</td>\n",
       "      <td>3.999000</td>\n",
       "      <td>0.044569</td>\n",
       "      <td>0.7543</td>\n",
       "      <td>0.9000</td>\n",
       "      <td>8.098765</td>\n",
       "      <td>4.419753</td>\n",
       "      <td>1095.0</td>\n",
       "    </tr>\n",
       "    <tr>\n",
       "      <th>179393</th>\n",
       "      <td>3.0</td>\n",
       "      <td>13.0</td>\n",
       "      <td>7.0</td>\n",
       "      <td>4.896394</td>\n",
       "      <td>3.639207</td>\n",
       "      <td>3.140207</td>\n",
       "      <td>0.018759</td>\n",
       "      <td>0.2707</td>\n",
       "      <td>0.3707</td>\n",
       "      <td>4.333333</td>\n",
       "      <td>2.333333</td>\n",
       "      <td>23.0</td>\n",
       "    </tr>\n",
       "  </tbody>\n",
       "</table>\n",
       "</div>"
      ],
      "text/plain": [
       "        purchases                    price                      markdown  \\\n",
       "week           40     41     42         40        41        42        40   \n",
       "product                                                                    \n",
       "107713        1.0    7.0    3.0  19.931457  6.990503  4.991503  0.002929   \n",
       "117369      106.0  105.0   81.0   5.599195  5.426341  4.827341  0.065243   \n",
       "141645        4.0   31.0   19.0   7.767762  4.411279  3.612279  0.027815   \n",
       "153175       81.0  656.0  358.0  38.207687  9.825543  3.999000  0.044569   \n",
       "179393        3.0   13.0    7.0   4.896394  3.639207  3.140207  0.018759   \n",
       "\n",
       "                        uplift_week41 uplift_week42 sold_tot  \n",
       "week         41      42                                       \n",
       "product                                                       \n",
       "107713   0.6503  0.7503      7.000000      3.000000     11.0  \n",
       "117369   0.0941  0.1941      0.990566      0.764151    292.0  \n",
       "141645   0.4479  0.5479      7.750000      4.750000     54.0  \n",
       "153175   0.7543  0.9000      8.098765      4.419753   1095.0  \n",
       "179393   0.2707  0.3707      4.333333      2.333333     23.0  "
      ]
     },
     "execution_count": 25,
     "metadata": {},
     "output_type": "execute_result"
    }
   ],
   "source": [
    "prod_week.head()"
   ]
  },
  {
   "cell_type": "code",
   "execution_count": 26,
   "metadata": {
    "collapsed": false
   },
   "outputs": [],
   "source": [
    "prod_week['sold_w40'] = prod_week['purchases'][40]/prod_week['sold_tot']\n",
    "prod_week['sold_w41'] = (prod_week['purchases'][40] + prod_week['purchases'][41])/prod_week['sold_tot']\n",
    "prod_week['sold_w42'] = 1"
   ]
  },
  {
   "cell_type": "code",
   "execution_count": 27,
   "metadata": {
    "collapsed": false
   },
   "outputs": [
    {
     "data": {
      "text/html": [
       "<div>\n",
       "<table border=\"1\" class=\"dataframe\">\n",
       "  <thead>\n",
       "    <tr>\n",
       "      <th></th>\n",
       "      <th colspan=\"3\" halign=\"left\">purchases</th>\n",
       "      <th colspan=\"3\" halign=\"left\">price</th>\n",
       "      <th colspan=\"3\" halign=\"left\">markdown</th>\n",
       "      <th>uplift_week41</th>\n",
       "      <th>uplift_week42</th>\n",
       "      <th>sold_tot</th>\n",
       "      <th>sold_w40</th>\n",
       "      <th>sold_w41</th>\n",
       "      <th>sold_w42</th>\n",
       "    </tr>\n",
       "    <tr>\n",
       "      <th>week</th>\n",
       "      <th>40</th>\n",
       "      <th>41</th>\n",
       "      <th>42</th>\n",
       "      <th>40</th>\n",
       "      <th>41</th>\n",
       "      <th>42</th>\n",
       "      <th>40</th>\n",
       "      <th>41</th>\n",
       "      <th>42</th>\n",
       "      <th></th>\n",
       "      <th></th>\n",
       "      <th></th>\n",
       "      <th></th>\n",
       "      <th></th>\n",
       "      <th></th>\n",
       "    </tr>\n",
       "    <tr>\n",
       "      <th>product</th>\n",
       "      <th></th>\n",
       "      <th></th>\n",
       "      <th></th>\n",
       "      <th></th>\n",
       "      <th></th>\n",
       "      <th></th>\n",
       "      <th></th>\n",
       "      <th></th>\n",
       "      <th></th>\n",
       "      <th></th>\n",
       "      <th></th>\n",
       "      <th></th>\n",
       "      <th></th>\n",
       "      <th></th>\n",
       "      <th></th>\n",
       "    </tr>\n",
       "  </thead>\n",
       "  <tbody>\n",
       "    <tr>\n",
       "      <th>107713</th>\n",
       "      <td>1.0</td>\n",
       "      <td>7.0</td>\n",
       "      <td>3.0</td>\n",
       "      <td>19.931457</td>\n",
       "      <td>6.990503</td>\n",
       "      <td>4.991503</td>\n",
       "      <td>0.002929</td>\n",
       "      <td>0.6503</td>\n",
       "      <td>0.7503</td>\n",
       "      <td>7.000000</td>\n",
       "      <td>3.000000</td>\n",
       "      <td>11.0</td>\n",
       "      <td>0.090909</td>\n",
       "      <td>0.727273</td>\n",
       "      <td>1</td>\n",
       "    </tr>\n",
       "    <tr>\n",
       "      <th>117369</th>\n",
       "      <td>106.0</td>\n",
       "      <td>105.0</td>\n",
       "      <td>81.0</td>\n",
       "      <td>5.599195</td>\n",
       "      <td>5.426341</td>\n",
       "      <td>4.827341</td>\n",
       "      <td>0.065243</td>\n",
       "      <td>0.0941</td>\n",
       "      <td>0.1941</td>\n",
       "      <td>0.990566</td>\n",
       "      <td>0.764151</td>\n",
       "      <td>292.0</td>\n",
       "      <td>0.363014</td>\n",
       "      <td>0.722603</td>\n",
       "      <td>1</td>\n",
       "    </tr>\n",
       "    <tr>\n",
       "      <th>141645</th>\n",
       "      <td>4.0</td>\n",
       "      <td>31.0</td>\n",
       "      <td>19.0</td>\n",
       "      <td>7.767762</td>\n",
       "      <td>4.411279</td>\n",
       "      <td>3.612279</td>\n",
       "      <td>0.027815</td>\n",
       "      <td>0.4479</td>\n",
       "      <td>0.5479</td>\n",
       "      <td>7.750000</td>\n",
       "      <td>4.750000</td>\n",
       "      <td>54.0</td>\n",
       "      <td>0.074074</td>\n",
       "      <td>0.648148</td>\n",
       "      <td>1</td>\n",
       "    </tr>\n",
       "    <tr>\n",
       "      <th>153175</th>\n",
       "      <td>81.0</td>\n",
       "      <td>656.0</td>\n",
       "      <td>358.0</td>\n",
       "      <td>38.207687</td>\n",
       "      <td>9.825543</td>\n",
       "      <td>3.999000</td>\n",
       "      <td>0.044569</td>\n",
       "      <td>0.7543</td>\n",
       "      <td>0.9000</td>\n",
       "      <td>8.098765</td>\n",
       "      <td>4.419753</td>\n",
       "      <td>1095.0</td>\n",
       "      <td>0.073973</td>\n",
       "      <td>0.673059</td>\n",
       "      <td>1</td>\n",
       "    </tr>\n",
       "    <tr>\n",
       "      <th>179393</th>\n",
       "      <td>3.0</td>\n",
       "      <td>13.0</td>\n",
       "      <td>7.0</td>\n",
       "      <td>4.896394</td>\n",
       "      <td>3.639207</td>\n",
       "      <td>3.140207</td>\n",
       "      <td>0.018759</td>\n",
       "      <td>0.2707</td>\n",
       "      <td>0.3707</td>\n",
       "      <td>4.333333</td>\n",
       "      <td>2.333333</td>\n",
       "      <td>23.0</td>\n",
       "      <td>0.130435</td>\n",
       "      <td>0.695652</td>\n",
       "      <td>1</td>\n",
       "    </tr>\n",
       "  </tbody>\n",
       "</table>\n",
       "</div>"
      ],
      "text/plain": [
       "        purchases                    price                      markdown  \\\n",
       "week           40     41     42         40        41        42        40   \n",
       "product                                                                    \n",
       "107713        1.0    7.0    3.0  19.931457  6.990503  4.991503  0.002929   \n",
       "117369      106.0  105.0   81.0   5.599195  5.426341  4.827341  0.065243   \n",
       "141645        4.0   31.0   19.0   7.767762  4.411279  3.612279  0.027815   \n",
       "153175       81.0  656.0  358.0  38.207687  9.825543  3.999000  0.044569   \n",
       "179393        3.0   13.0    7.0   4.896394  3.639207  3.140207  0.018759   \n",
       "\n",
       "                        uplift_week41 uplift_week42 sold_tot  sold_w40  \\\n",
       "week         41      42                                                  \n",
       "product                                                                  \n",
       "107713   0.6503  0.7503      7.000000      3.000000     11.0  0.090909   \n",
       "117369   0.0941  0.1941      0.990566      0.764151    292.0  0.363014   \n",
       "141645   0.4479  0.5479      7.750000      4.750000     54.0  0.074074   \n",
       "153175   0.7543  0.9000      8.098765      4.419753   1095.0  0.073973   \n",
       "179393   0.2707  0.3707      4.333333      2.333333     23.0  0.130435   \n",
       "\n",
       "         sold_w41 sold_w42  \n",
       "week                        \n",
       "product                     \n",
       "107713   0.727273        1  \n",
       "117369   0.722603        1  \n",
       "141645   0.648148        1  \n",
       "153175   0.673059        1  \n",
       "179393   0.695652        1  "
      ]
     },
     "execution_count": 27,
     "metadata": {},
     "output_type": "execute_result"
    }
   ],
   "source": [
    "prod_week.head()"
   ]
  },
  {
   "cell_type": "code",
   "execution_count": 28,
   "metadata": {
    "collapsed": false
   },
   "outputs": [
    {
     "data": {
      "image/png": "[encoded data removed]",
      "text/plain": [
       "<matplotlib.figure.Figure at 0x114e6a710>"
      ]
     },
     "metadata": {},
     "output_type": "display_data"
    }
   ],
   "source": [
    "plt.plot([prod_week['sold_w40'], prod_week['sold_w41'], prod_week['sold_w42']])\n",
    "plt.ylabel('sold_percentage')\n",
    "plt.xlabel('week')\n",
    "plt.show()"
   ]
  },
  {
   "cell_type": "markdown",
   "metadata": {},
   "source": [
    "## Predict uplift factor of week1"
   ]
  },
  {
   "cell_type": "code",
   "execution_count": 29,
   "metadata": {
    "collapsed": false
   },
   "outputs": [
    {
     "data": {
      "text/html": [
       "<div>\n",
       "<table border=\"1\" class=\"dataframe\">\n",
       "  <thead>\n",
       "    <tr style=\"text-align: right;\">\n",
       "      <th></th>\n",
       "      <th>PRODUCT_CODE</th>\n",
       "      <th>PRODUCT_TYPE_NAME</th>\n",
       "      <th>DEPARTMENT_ID</th>\n",
       "      <th>DEPARTMENT_NAME</th>\n",
       "      <th>INDEX_GROUP_NAME</th>\n",
       "      <th>SECTION_NAME</th>\n",
       "      <th>article</th>\n",
       "    </tr>\n",
       "  </thead>\n",
       "  <tbody>\n",
       "    <tr>\n",
       "      <th>0</th>\n",
       "      <td>526432</td>\n",
       "      <td>Pillow case</td>\n",
       "      <td>504</td>\n",
       "      <td>Sheets and pillowcases</td>\n",
       "      <td>Home</td>\n",
       "      <td>Sleep</td>\n",
       "      <td>526432001</td>\n",
       "    </tr>\n",
       "    <tr>\n",
       "      <th>1</th>\n",
       "      <td>381038</td>\n",
       "      <td>Bed skirt</td>\n",
       "      <td>508</td>\n",
       "      <td>Bedspreads/bedskirts</td>\n",
       "      <td>Home</td>\n",
       "      <td>Sleep</td>\n",
       "      <td>381038009</td>\n",
       "    </tr>\n",
       "    <tr>\n",
       "      <th>2</th>\n",
       "      <td>418545</td>\n",
       "      <td>T-shirt</td>\n",
       "      <td>176</td>\n",
       "      <td>Basics</td>\n",
       "      <td>Menswear</td>\n",
       "      <td>Men Underwear</td>\n",
       "      <td>418545028</td>\n",
       "    </tr>\n",
       "    <tr>\n",
       "      <th>3</th>\n",
       "      <td>467302</td>\n",
       "      <td>Storage</td>\n",
       "      <td>521</td>\n",
       "      <td>Textile kids</td>\n",
       "      <td>Home</td>\n",
       "      <td>Kids</td>\n",
       "      <td>467302028</td>\n",
       "    </tr>\n",
       "    <tr>\n",
       "      <th>4</th>\n",
       "      <td>452516</td>\n",
       "      <td>Socks</td>\n",
       "      <td>137</td>\n",
       "      <td>Socks</td>\n",
       "      <td>Ladieswear</td>\n",
       "      <td>Women Nightwear, Socks &amp; Tight</td>\n",
       "      <td>452516001</td>\n",
       "    </tr>\n",
       "  </tbody>\n",
       "</table>\n",
       "</div>"
      ],
      "text/plain": [
       "   PRODUCT_CODE PRODUCT_TYPE_NAME  DEPARTMENT_ID         DEPARTMENT_NAME  \\\n",
       "0        526432       Pillow case            504  Sheets and pillowcases   \n",
       "1        381038         Bed skirt            508    Bedspreads/bedskirts   \n",
       "2        418545           T-shirt            176                  Basics   \n",
       "3        467302           Storage            521            Textile kids   \n",
       "4        452516             Socks            137                   Socks   \n",
       "\n",
       "  INDEX_GROUP_NAME                    SECTION_NAME    article  \n",
       "0             Home                           Sleep  526432001  \n",
       "1             Home                           Sleep  381038009  \n",
       "2         Menswear                   Men Underwear  418545028  \n",
       "3             Home                            Kids  467302028  \n",
       "4       Ladieswear  Women Nightwear, Socks & Tight  452516001  "
      ]
     },
     "execution_count": 29,
     "metadata": {},
     "output_type": "execute_result"
    }
   ],
   "source": [
    "articles.head()"
   ]
  },
  {
   "cell_type": "code",
   "execution_count": 30,
   "metadata": {
    "collapsed": false
   },
   "outputs": [],
   "source": [
    "product_types = articles.drop(['article', 'DEPARTMENT_ID'], axis=1).drop_duplicates()\n",
    "product_types['PRODUCT_CODE'] = product_types['PRODUCT_CODE'].astype(str)\n",
    "product_types = product_types.set_index('PRODUCT_CODE')"
   ]
  },
  {
   "cell_type": "code",
   "execution_count": 31,
   "metadata": {
    "collapsed": false
   },
   "outputs": [
    {
     "data": {
      "text/html": [
       "<div>\n",
       "<table border=\"1\" class=\"dataframe\">\n",
       "  <thead>\n",
       "    <tr style=\"text-align: right;\">\n",
       "      <th></th>\n",
       "      <th>PRODUCT_TYPE_NAME</th>\n",
       "      <th>DEPARTMENT_NAME</th>\n",
       "      <th>INDEX_GROUP_NAME</th>\n",
       "      <th>SECTION_NAME</th>\n",
       "    </tr>\n",
       "    <tr>\n",
       "      <th>PRODUCT_CODE</th>\n",
       "      <th></th>\n",
       "      <th></th>\n",
       "      <th></th>\n",
       "      <th></th>\n",
       "    </tr>\n",
       "  </thead>\n",
       "  <tbody>\n",
       "    <tr>\n",
       "      <th>526432</th>\n",
       "      <td>Pillow case</td>\n",
       "      <td>Sheets and pillowcases</td>\n",
       "      <td>Home</td>\n",
       "      <td>Sleep</td>\n",
       "    </tr>\n",
       "    <tr>\n",
       "      <th>381038</th>\n",
       "      <td>Bed skirt</td>\n",
       "      <td>Bedspreads/bedskirts</td>\n",
       "      <td>Home</td>\n",
       "      <td>Sleep</td>\n",
       "    </tr>\n",
       "    <tr>\n",
       "      <th>418545</th>\n",
       "      <td>T-shirt</td>\n",
       "      <td>Basics</td>\n",
       "      <td>Menswear</td>\n",
       "      <td>Men Underwear</td>\n",
       "    </tr>\n",
       "    <tr>\n",
       "      <th>467302</th>\n",
       "      <td>Storage</td>\n",
       "      <td>Textile kids</td>\n",
       "      <td>Home</td>\n",
       "      <td>Kids</td>\n",
       "    </tr>\n",
       "    <tr>\n",
       "      <th>452516</th>\n",
       "      <td>Socks</td>\n",
       "      <td>Socks</td>\n",
       "      <td>Ladieswear</td>\n",
       "      <td>Women Nightwear, Socks &amp; Tight</td>\n",
       "    </tr>\n",
       "  </tbody>\n",
       "</table>\n",
       "</div>"
      ],
      "text/plain": [
       "             PRODUCT_TYPE_NAME         DEPARTMENT_NAME INDEX_GROUP_NAME  \\\n",
       "PRODUCT_CODE                                                              \n",
       "526432             Pillow case  Sheets and pillowcases             Home   \n",
       "381038               Bed skirt    Bedspreads/bedskirts             Home   \n",
       "418545                 T-shirt                  Basics         Menswear   \n",
       "467302                 Storage            Textile kids             Home   \n",
       "452516                   Socks                   Socks       Ladieswear   \n",
       "\n",
       "                                SECTION_NAME  \n",
       "PRODUCT_CODE                                  \n",
       "526432                                 Sleep  \n",
       "381038                                 Sleep  \n",
       "418545                         Men Underwear  \n",
       "467302                                  Kids  \n",
       "452516        Women Nightwear, Socks & Tight  "
      ]
     },
     "execution_count": 31,
     "metadata": {},
     "output_type": "execute_result"
    }
   ],
   "source": [
    "product_types.head()"
   ]
  },
  {
   "cell_type": "code",
   "execution_count": 32,
   "metadata": {
    "collapsed": false
   },
   "outputs": [
    {
     "name": "stderr",
     "output_type": "stream",
     "text": [
      "/Users/adonismaomao/anaconda/lib/python2.7/site-packages/pandas/tools/merge.py:205: UserWarning: merging between different levels can give an unintended result (1 levels on the left, 2 on the right)\n",
      "  warnings.warn(msg, UserWarning)\n"
     ]
    }
   ],
   "source": [
    "product_all = product_types.join(prod_week, how='right')"
   ]
  },
  {
   "cell_type": "code",
   "execution_count": 33,
   "metadata": {
    "collapsed": false
   },
   "outputs": [],
   "source": [
    "product_all['markdown', 41] = product_all['markdown', 41].fillna(0)"
   ]
  },
  {
   "cell_type": "code",
   "execution_count": 34,
   "metadata": {
    "collapsed": false
   },
   "outputs": [],
   "source": [
    "features = ['PRODUCT_TYPE_NAME', 'DEPARTMENT_NAME', 'INDEX_GROUP_NAME', 'SECTION_NAME']\n",
    "num_fea = [('purchases', 40), ('price', 40), ('markdown', 41)]"
   ]
  },
  {
   "cell_type": "code",
   "execution_count": 35,
   "metadata": {
    "collapsed": false
   },
   "outputs": [],
   "source": [
    "X_cat = pd.get_dummies(product_all[features], prefix='is_')\n",
    "X = pd.concat([X_cat, product_all[num_fea]], axis=1)"
   ]
  },
  {
   "cell_type": "code",
   "execution_count": 36,
   "metadata": {
    "collapsed": false
   },
   "outputs": [
    {
     "data": {
      "text/html": [
       "<div>\n",
       "<table border=\"1\" class=\"dataframe\">\n",
       "  <thead>\n",
       "    <tr style=\"text-align: right;\">\n",
       "      <th></th>\n",
       "      <th>is__Bag</th>\n",
       "      <th>is__Ballerina</th>\n",
       "      <th>is__Bed linen</th>\n",
       "      <th>is__Bed skirt</th>\n",
       "      <th>is__Bed spread</th>\n",
       "      <th>is__Belt</th>\n",
       "      <th>is__Bikini</th>\n",
       "      <th>is__Blazer</th>\n",
       "      <th>is__Blouse</th>\n",
       "      <th>is__Body</th>\n",
       "      <th>...</th>\n",
       "      <th>is__Sleep</th>\n",
       "      <th>is__Storages</th>\n",
       "      <th>is__Women Lingerie</th>\n",
       "      <th>is__Women Nightwear, Socks &amp; Tight</th>\n",
       "      <th>is__Women Swimwear, Functional &amp; M</th>\n",
       "      <th>is__Young Boy</th>\n",
       "      <th>is__Young Girl</th>\n",
       "      <th>(purchases, 40)</th>\n",
       "      <th>(price, 40)</th>\n",
       "      <th>(markdown, 41)</th>\n",
       "    </tr>\n",
       "    <tr>\n",
       "      <th>product</th>\n",
       "      <th></th>\n",
       "      <th></th>\n",
       "      <th></th>\n",
       "      <th></th>\n",
       "      <th></th>\n",
       "      <th></th>\n",
       "      <th></th>\n",
       "      <th></th>\n",
       "      <th></th>\n",
       "      <th></th>\n",
       "      <th></th>\n",
       "      <th></th>\n",
       "      <th></th>\n",
       "      <th></th>\n",
       "      <th></th>\n",
       "      <th></th>\n",
       "      <th></th>\n",
       "      <th></th>\n",
       "      <th></th>\n",
       "      <th></th>\n",
       "      <th></th>\n",
       "    </tr>\n",
       "  </thead>\n",
       "  <tbody>\n",
       "    <tr>\n",
       "      <th>107713</th>\n",
       "      <td>0.0</td>\n",
       "      <td>0.0</td>\n",
       "      <td>0.0</td>\n",
       "      <td>0.0</td>\n",
       "      <td>0.0</td>\n",
       "      <td>0.0</td>\n",
       "      <td>0.0</td>\n",
       "      <td>0.0</td>\n",
       "      <td>0.0</td>\n",
       "      <td>0.0</td>\n",
       "      <td>...</td>\n",
       "      <td>0.0</td>\n",
       "      <td>0.0</td>\n",
       "      <td>0.0</td>\n",
       "      <td>0.0</td>\n",
       "      <td>0.0</td>\n",
       "      <td>0.0</td>\n",
       "      <td>0.0</td>\n",
       "      <td>1.0</td>\n",
       "      <td>19.931457</td>\n",
       "      <td>0.6503</td>\n",
       "    </tr>\n",
       "    <tr>\n",
       "      <th>117369</th>\n",
       "      <td>0.0</td>\n",
       "      <td>0.0</td>\n",
       "      <td>0.0</td>\n",
       "      <td>0.0</td>\n",
       "      <td>0.0</td>\n",
       "      <td>0.0</td>\n",
       "      <td>0.0</td>\n",
       "      <td>0.0</td>\n",
       "      <td>0.0</td>\n",
       "      <td>0.0</td>\n",
       "      <td>...</td>\n",
       "      <td>0.0</td>\n",
       "      <td>0.0</td>\n",
       "      <td>0.0</td>\n",
       "      <td>0.0</td>\n",
       "      <td>0.0</td>\n",
       "      <td>0.0</td>\n",
       "      <td>0.0</td>\n",
       "      <td>106.0</td>\n",
       "      <td>5.599195</td>\n",
       "      <td>0.0941</td>\n",
       "    </tr>\n",
       "    <tr>\n",
       "      <th>141645</th>\n",
       "      <td>0.0</td>\n",
       "      <td>0.0</td>\n",
       "      <td>0.0</td>\n",
       "      <td>0.0</td>\n",
       "      <td>0.0</td>\n",
       "      <td>0.0</td>\n",
       "      <td>0.0</td>\n",
       "      <td>0.0</td>\n",
       "      <td>0.0</td>\n",
       "      <td>0.0</td>\n",
       "      <td>...</td>\n",
       "      <td>0.0</td>\n",
       "      <td>0.0</td>\n",
       "      <td>0.0</td>\n",
       "      <td>0.0</td>\n",
       "      <td>0.0</td>\n",
       "      <td>0.0</td>\n",
       "      <td>0.0</td>\n",
       "      <td>4.0</td>\n",
       "      <td>7.767762</td>\n",
       "      <td>0.4479</td>\n",
       "    </tr>\n",
       "    <tr>\n",
       "      <th>153175</th>\n",
       "      <td>0.0</td>\n",
       "      <td>0.0</td>\n",
       "      <td>0.0</td>\n",
       "      <td>0.0</td>\n",
       "      <td>0.0</td>\n",
       "      <td>0.0</td>\n",
       "      <td>0.0</td>\n",
       "      <td>1.0</td>\n",
       "      <td>0.0</td>\n",
       "      <td>0.0</td>\n",
       "      <td>...</td>\n",
       "      <td>0.0</td>\n",
       "      <td>0.0</td>\n",
       "      <td>0.0</td>\n",
       "      <td>0.0</td>\n",
       "      <td>0.0</td>\n",
       "      <td>0.0</td>\n",
       "      <td>0.0</td>\n",
       "      <td>81.0</td>\n",
       "      <td>38.207687</td>\n",
       "      <td>0.7543</td>\n",
       "    </tr>\n",
       "    <tr>\n",
       "      <th>179393</th>\n",
       "      <td>0.0</td>\n",
       "      <td>0.0</td>\n",
       "      <td>0.0</td>\n",
       "      <td>0.0</td>\n",
       "      <td>0.0</td>\n",
       "      <td>0.0</td>\n",
       "      <td>0.0</td>\n",
       "      <td>0.0</td>\n",
       "      <td>0.0</td>\n",
       "      <td>0.0</td>\n",
       "      <td>...</td>\n",
       "      <td>0.0</td>\n",
       "      <td>0.0</td>\n",
       "      <td>0.0</td>\n",
       "      <td>0.0</td>\n",
       "      <td>0.0</td>\n",
       "      <td>0.0</td>\n",
       "      <td>0.0</td>\n",
       "      <td>3.0</td>\n",
       "      <td>4.896394</td>\n",
       "      <td>0.2707</td>\n",
       "    </tr>\n",
       "  </tbody>\n",
       "</table>\n",
       "<p>5 rows × 308 columns</p>\n",
       "</div>"
      ],
      "text/plain": [
       "         is__Bag  is__Ballerina  is__Bed linen  is__Bed skirt  is__Bed spread  \\\n",
       "product                                                                         \n",
       "107713       0.0            0.0            0.0            0.0             0.0   \n",
       "117369       0.0            0.0            0.0            0.0             0.0   \n",
       "141645       0.0            0.0            0.0            0.0             0.0   \n",
       "153175       0.0            0.0            0.0            0.0             0.0   \n",
       "179393       0.0            0.0            0.0            0.0             0.0   \n",
       "\n",
       "         is__Belt  is__Bikini  is__Blazer  is__Blouse  is__Body  \\\n",
       "product                                                           \n",
       "107713        0.0         0.0         0.0         0.0       0.0   \n",
       "117369        0.0         0.0         0.0         0.0       0.0   \n",
       "141645        0.0         0.0         0.0         0.0       0.0   \n",
       "153175        0.0         0.0         1.0         0.0       0.0   \n",
       "179393        0.0         0.0         0.0         0.0       0.0   \n",
       "\n",
       "              ...        is__Sleep  is__Storages  is__Women Lingerie  \\\n",
       "product       ...                                                      \n",
       "107713        ...              0.0           0.0                 0.0   \n",
       "117369        ...              0.0           0.0                 0.0   \n",
       "141645        ...              0.0           0.0                 0.0   \n",
       "153175        ...              0.0           0.0                 0.0   \n",
       "179393        ...              0.0           0.0                 0.0   \n",
       "\n",
       "         is__Women Nightwear, Socks & Tight  \\\n",
       "product                                       \n",
       "107713                                  0.0   \n",
       "117369                                  0.0   \n",
       "141645                                  0.0   \n",
       "153175                                  0.0   \n",
       "179393                                  0.0   \n",
       "\n",
       "         is__Women Swimwear, Functional & M  is__Young Boy  is__Young Girl  \\\n",
       "product                                                                      \n",
       "107713                                  0.0            0.0             0.0   \n",
       "117369                                  0.0            0.0             0.0   \n",
       "141645                                  0.0            0.0             0.0   \n",
       "153175                                  0.0            0.0             0.0   \n",
       "179393                                  0.0            0.0             0.0   \n",
       "\n",
       "         (purchases, 40)  (price, 40)  (markdown, 41)  \n",
       "product                                                \n",
       "107713               1.0    19.931457          0.6503  \n",
       "117369             106.0     5.599195          0.0941  \n",
       "141645               4.0     7.767762          0.4479  \n",
       "153175              81.0    38.207687          0.7543  \n",
       "179393               3.0     4.896394          0.2707  \n",
       "\n",
       "[5 rows x 308 columns]"
      ]
     },
     "execution_count": 36,
     "metadata": {},
     "output_type": "execute_result"
    }
   ],
   "source": [
    "X.head()"
   ]
  },
  {
   "cell_type": "code",
   "execution_count": 37,
   "metadata": {
    "collapsed": false
   },
   "outputs": [],
   "source": [
    "y = product_all['uplift_week41','']"
   ]
  },
  {
   "cell_type": "code",
   "execution_count": 38,
   "metadata": {
    "collapsed": false
   },
   "outputs": [
    {
     "name": "stdout",
     "output_type": "stream",
     "text": [
      "Training length: 544\n",
      "Test length: 137\n"
     ]
    }
   ],
   "source": [
    "X_train, X_test, y_train, y_test = train_test_split(X, y, test_size=0.2)\n",
    "\n",
    "print(\"Training length: \" +str(len(y_train)))\n",
    "print(\"Test length: \" +str(len(y_test)))"
   ]
  },
  {
   "cell_type": "code",
   "execution_count": 39,
   "metadata": {
    "collapsed": true
   },
   "outputs": [],
   "source": [
    "regr = RandomForestRegressor(n_estimators=200, min_samples_leaf=10, random_state=0)"
   ]
  },
  {
   "cell_type": "code",
   "execution_count": 40,
   "metadata": {
    "collapsed": false
   },
   "outputs": [
    {
     "data": {
      "text/plain": [
       "RandomForestRegressor(bootstrap=True, criterion='mse', max_depth=None,\n",
       "           max_features='auto', max_leaf_nodes=None,\n",
       "           min_impurity_decrease=0.0, min_impurity_split=None,\n",
       "           min_samples_leaf=10, min_samples_split=2,\n",
       "           min_weight_fraction_leaf=0.0, n_estimators=200, n_jobs=1,\n",
       "           oob_score=False, random_state=0, verbose=0, warm_start=False)"
      ]
     },
     "execution_count": 40,
     "metadata": {},
     "output_type": "execute_result"
    }
   ],
   "source": [
    "regr.fit(X_train, y_train)"
   ]
  },
  {
   "cell_type": "code",
   "execution_count": 41,
   "metadata": {
    "collapsed": false
   },
   "outputs": [
    {
     "data": {
      "text/plain": [
       "(0.84519523053964629, 0.87187174695648817)"
      ]
     },
     "execution_count": 41,
     "metadata": {},
     "output_type": "execute_result"
    }
   ],
   "source": [
    "regr.score(X_train, y_train), regr.score(X_test, y_test)"
   ]
  },
  {
   "cell_type": "code",
   "execution_count": 42,
   "metadata": {
    "collapsed": true
   },
   "outputs": [],
   "source": [
    "y_hat = regr.predict(X)"
   ]
  },
  {
   "cell_type": "code",
   "execution_count": 43,
   "metadata": {
    "collapsed": false
   },
   "outputs": [
    {
     "data": {
      "text/plain": [
       "<matplotlib.collections.PathCollection at 0x11aa25b90>"
      ]
     },
     "execution_count": 43,
     "metadata": {},
     "output_type": "execute_result"
    },
    {
     "data": {
      "image/png": "[encoded data removed]",
      "text/plain": [
       "<matplotlib.figure.Figure at 0x110c6bb10>"
      ]
     },
     "metadata": {},
     "output_type": "display_data"
    }
   ],
   "source": [
    "plt.scatter(y, y_hat)"
   ]
  },
  {
   "cell_type": "code",
   "execution_count": 44,
   "metadata": {
    "collapsed": false
   },
   "outputs": [],
   "source": [
    "X_names = X_cat.columns.tolist()\n",
    "X_names.extend(['popularity','price', 'markdown'])"
   ]
  },
  {
   "cell_type": "code",
   "execution_count": 45,
   "metadata": {
    "collapsed": false
   },
   "outputs": [
    {
     "data": {
      "image/png": "[encoded data removed]",
      "text/plain": [
       "<matplotlib.figure.Figure at 0x11aa56c50>"
      ]
     },
     "metadata": {},
     "output_type": "display_data"
    }
   ],
   "source": [
    "imp = regr.feature_importances_\n",
    "sortNames = [y for (x,y) in sorted(zip(imp,X_names)) if x >0]\n",
    "sortImp = [x for (x,y) in sorted(zip(imp,X_names)) if x >0]\n",
    "\n",
    "fig = plt.figure()\n",
    "ind = np.arange(len(sortImp))\n",
    "width = .75\n",
    "plt.bar(ind, sortImp, width=width)\n",
    "plt.xticks(ind + width / 2, sortNames)\n",
    "fig.autofmt_xdate()\n",
    "plt.grid(True)\n",
    "plt.title('Feature ranking (high values more influential)')\n",
    "plt.show()\n"
   ]
  },
  {
   "cell_type": "markdown",
   "metadata": {},
   "source": [
    "## Planning for Oct 2018"
   ]
  },
  {
   "cell_type": "markdown",
   "metadata": {},
   "source": [
    "One goal is to get the maximum profit possible in the sale season to balance between markdown and quantity sold.\n",
    "\n",
    "For each product:\n",
    "### Profit = purchases_w40 x uplift_factor x price_w40 x (1 - markdown) - purchases_w40 x price_w40\n",
    "\n",
    "We can maximize profit for each product/article assuming they are independant from each other."
   ]
  },
  {
   "cell_type": "code",
   "execution_count": 46,
   "metadata": {
    "collapsed": true
   },
   "outputs": [],
   "source": [
    "#Assuming each product is independant \n",
    "def get_profit(products):\n",
    "    plan = {'product':[], 'profit':[], 'markdown':[], 'uplift':[]}\n",
    "    for index, item in products.iterrows():\n",
    "        item = pd.DataFrame(item).T\n",
    "        profit = []\n",
    "        for markdown in range(0, 100, 10):\n",
    "            item[('markdown', 41)] = markdown*0.01\n",
    "            uplift = regr.predict(item)\n",
    "            p = item['purchases', 40]*uplift*item['price', 40]*(1-markdown*0.01)-item['purchases', 40]*item['price', 40]\n",
    "            p = p.values\n",
    "            profit.append([index, p, markdown, uplift])            \n",
    "        max_profit = max(profit, key=lambda x: x[1])\n",
    "        plan['product'].append(max_profit[0])\n",
    "        plan['profit'].append(max_profit[1][0])\n",
    "        plan['markdown'].append(max_profit[2])\n",
    "        plan['uplift'].append(max_profit[3][0])\n",
    "        \n",
    "    plan = pd.DataFrame(plan)\n",
    "    return plan\n",
    "              "
   ]
  },
  {
   "cell_type": "code",
   "execution_count": 47,
   "metadata": {
    "collapsed": false
   },
   "outputs": [
    {
     "name": "stdout",
     "output_type": "stream",
     "text": [
      "CPU times: user 3 µs, sys: 1 µs, total: 4 µs\n",
      "Wall time: 7.15 µs\n"
     ]
    }
   ],
   "source": [
    "#Drop the original markdown \n",
    "new_products = X.drop(('markdown', 41), axis=1)\n",
    "\n",
    "%time\n",
    "plan = get_profit(new_products)"
   ]
  },
  {
   "cell_type": "code",
   "execution_count": 48,
   "metadata": {
    "collapsed": false
   },
   "outputs": [
    {
     "data": {
      "text/html": [
       "<div>\n",
       "<table border=\"1\" class=\"dataframe\">\n",
       "  <thead>\n",
       "    <tr style=\"text-align: right;\">\n",
       "      <th></th>\n",
       "      <th>markdown</th>\n",
       "      <th>profit</th>\n",
       "      <th>uplift</th>\n",
       "    </tr>\n",
       "  </thead>\n",
       "  <tbody>\n",
       "    <tr>\n",
       "      <th>count</th>\n",
       "      <td>681.000000</td>\n",
       "      <td>681.000000</td>\n",
       "      <td>681.000000</td>\n",
       "    </tr>\n",
       "    <tr>\n",
       "      <th>mean</th>\n",
       "      <td>45.770925</td>\n",
       "      <td>3628.035007</td>\n",
       "      <td>6.459594</td>\n",
       "    </tr>\n",
       "    <tr>\n",
       "      <th>std</th>\n",
       "      <td>11.221058</td>\n",
       "      <td>7519.608240</td>\n",
       "      <td>2.703796</td>\n",
       "    </tr>\n",
       "    <tr>\n",
       "      <th>min</th>\n",
       "      <td>20.000000</td>\n",
       "      <td>9.524059</td>\n",
       "      <td>2.643505</td>\n",
       "    </tr>\n",
       "    <tr>\n",
       "      <th>25%</th>\n",
       "      <td>30.000000</td>\n",
       "      <td>330.085508</td>\n",
       "      <td>4.302212</td>\n",
       "    </tr>\n",
       "    <tr>\n",
       "      <th>50%</th>\n",
       "      <td>50.000000</td>\n",
       "      <td>1292.696793</td>\n",
       "      <td>5.939788</td>\n",
       "    </tr>\n",
       "    <tr>\n",
       "      <th>75%</th>\n",
       "      <td>50.000000</td>\n",
       "      <td>3799.698814</td>\n",
       "      <td>6.905111</td>\n",
       "    </tr>\n",
       "    <tr>\n",
       "      <th>max</th>\n",
       "      <td>60.000000</td>\n",
       "      <td>95668.273282</td>\n",
       "      <td>12.161967</td>\n",
       "    </tr>\n",
       "  </tbody>\n",
       "</table>\n",
       "</div>"
      ],
      "text/plain": [
       "         markdown        profit      uplift\n",
       "count  681.000000    681.000000  681.000000\n",
       "mean    45.770925   3628.035007    6.459594\n",
       "std     11.221058   7519.608240    2.703796\n",
       "min     20.000000      9.524059    2.643505\n",
       "25%     30.000000    330.085508    4.302212\n",
       "50%     50.000000   1292.696793    5.939788\n",
       "75%     50.000000   3799.698814    6.905111\n",
       "max     60.000000  95668.273282   12.161967"
      ]
     },
     "execution_count": 48,
     "metadata": {},
     "output_type": "execute_result"
    }
   ],
   "source": [
    "plan.describe()"
   ]
  },
  {
   "cell_type": "markdown",
   "metadata": {},
   "source": [
    "If inventory data is available, the percentages of number of items in storage can be studied against time, and we can calculate the uplist factor from the inventory data and then derive the correct markdown by using the uplift factor-markdown model.\n",
    "\n",
    "In addition, we can also add the cost calculation of the storage into consideration so the profit part will become:\n",
    "### *profit = profit_sale - cost_storage*\n",
    "\n",
    "And if we maximize it, it will have a impact on the quantity we should sell which will have an impact on the uplift factor."
   ]
  },
  {
   "cell_type": "code",
   "execution_count": null,
   "metadata": {
    "collapsed": true
   },
   "outputs": [],
   "source": []
  }
 ],
 "metadata": {
  "anaconda-cloud": {},
  "kernelspec": {
   "display_name": "Python [Root]",
   "language": "python",
   "name": "Python [Root]"
  },
  "language_info": {
   "codemirror_mode": {
    "name": "ipython",
    "version": 2
   },
   "file_extension": ".py",
   "mimetype": "text/x-python",
   "name": "python",
   "nbconvert_exporter": "python",
   "pygments_lexer": "ipython2",
   "version": "2.7.12"
  }
 },
 "nbformat": 4,
 "nbformat_minor": 0
}
