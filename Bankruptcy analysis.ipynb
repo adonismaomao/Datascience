{
 "cells": [
  {
   "cell_type": "code",
   "execution_count": 1,
   "metadata": {
    "collapsed": true,
    "nbpresent": {
     "id": "1452b5ec-f854-4bd5-a2cd-8ef34b73dcee"
    }
   },
   "outputs": [],
   "source": [
    "%matplotlib inline\n",
    "import pandas as pd\n",
    "import numpy as np\n",
    "from matplotlib import pyplot as plt\n",
    "\n",
    "from sklearn import preprocessing\n",
    "from sklearn.model_selection import train_test_split\n",
    "from sklearn.ensemble import RandomForestRegressor, RandomForestClassifier\n",
    "from sklearn.linear_model import LinearRegression\n",
    "from sklearn.metrics import mean_squared_error\n",
    "\n",
    "from sklearn import metrics\n",
    "from sklearn.metrics import roc_curve, auc\n",
    "from sklearn.metrics import confusion_matrix\n"
   ]
  },
  {
   "cell_type": "code",
   "execution_count": 2,
   "metadata": {
    "collapsed": false,
    "nbpresent": {
     "id": "e662a2d0-e9a7-4c5e-82a8-5c6ed0520b58"
    }
   },
   "outputs": [
    {
     "name": "stderr",
     "output_type": "stream",
     "text": [
      "/Users/adonismaomao/anaconda/lib/python2.7/site-packages/IPython/core/interactiveshell.py:2723: DtypeWarning: Columns (19,55) have mixed types. Specify dtype option on import or set low_memory=False.\n",
      "  interactivity=interactivity, compiler=compiler, result=result)\n"
     ]
    }
   ],
   "source": [
    "df = pd.read_csv('/Users/adonismaomao/Data sets/ft_us_bank/data.csv')"
   ]
  },
  {
   "cell_type": "code",
   "execution_count": 3,
   "metadata": {
    "collapsed": false,
    "nbpresent": {
     "id": "1e8e09ef-dc37-4703-8e30-640c5b332c29"
    }
   },
   "outputs": [
    {
     "data": {
      "text/html": [
       "<div>\n",
       "<table border=\"1\" class=\"dataframe\">\n",
       "  <thead>\n",
       "    <tr style=\"text-align: right;\">\n",
       "      <th></th>\n",
       "      <th>id</th>\n",
       "      <th>member_id</th>\n",
       "      <th>loan_amnt</th>\n",
       "      <th>funded_amnt</th>\n",
       "      <th>funded_amnt_inv</th>\n",
       "      <th>term</th>\n",
       "      <th>int_rate</th>\n",
       "      <th>installment</th>\n",
       "      <th>grade</th>\n",
       "      <th>sub_grade</th>\n",
       "      <th>...</th>\n",
       "      <th>total_bal_il</th>\n",
       "      <th>il_util</th>\n",
       "      <th>open_rv_12m</th>\n",
       "      <th>open_rv_24m</th>\n",
       "      <th>max_bal_bc</th>\n",
       "      <th>all_util</th>\n",
       "      <th>total_rev_hi_lim</th>\n",
       "      <th>inq_fi</th>\n",
       "      <th>total_cu_tl</th>\n",
       "      <th>inq_last_12m</th>\n",
       "    </tr>\n",
       "  </thead>\n",
       "  <tbody>\n",
       "    <tr>\n",
       "      <th>0</th>\n",
       "      <td>1077501</td>\n",
       "      <td>1296599</td>\n",
       "      <td>5000.0</td>\n",
       "      <td>5000.0</td>\n",
       "      <td>4975.0</td>\n",
       "      <td>36 months</td>\n",
       "      <td>10.65</td>\n",
       "      <td>162.87</td>\n",
       "      <td>B</td>\n",
       "      <td>B2</td>\n",
       "      <td>...</td>\n",
       "      <td>NaN</td>\n",
       "      <td>NaN</td>\n",
       "      <td>NaN</td>\n",
       "      <td>NaN</td>\n",
       "      <td>NaN</td>\n",
       "      <td>NaN</td>\n",
       "      <td>NaN</td>\n",
       "      <td>NaN</td>\n",
       "      <td>NaN</td>\n",
       "      <td>NaN</td>\n",
       "    </tr>\n",
       "    <tr>\n",
       "      <th>1</th>\n",
       "      <td>1077430</td>\n",
       "      <td>1314167</td>\n",
       "      <td>2500.0</td>\n",
       "      <td>2500.0</td>\n",
       "      <td>2500.0</td>\n",
       "      <td>60 months</td>\n",
       "      <td>15.27</td>\n",
       "      <td>59.83</td>\n",
       "      <td>C</td>\n",
       "      <td>C4</td>\n",
       "      <td>...</td>\n",
       "      <td>NaN</td>\n",
       "      <td>NaN</td>\n",
       "      <td>NaN</td>\n",
       "      <td>NaN</td>\n",
       "      <td>NaN</td>\n",
       "      <td>NaN</td>\n",
       "      <td>NaN</td>\n",
       "      <td>NaN</td>\n",
       "      <td>NaN</td>\n",
       "      <td>NaN</td>\n",
       "    </tr>\n",
       "    <tr>\n",
       "      <th>2</th>\n",
       "      <td>1077175</td>\n",
       "      <td>1313524</td>\n",
       "      <td>2400.0</td>\n",
       "      <td>2400.0</td>\n",
       "      <td>2400.0</td>\n",
       "      <td>36 months</td>\n",
       "      <td>15.96</td>\n",
       "      <td>84.33</td>\n",
       "      <td>C</td>\n",
       "      <td>C5</td>\n",
       "      <td>...</td>\n",
       "      <td>NaN</td>\n",
       "      <td>NaN</td>\n",
       "      <td>NaN</td>\n",
       "      <td>NaN</td>\n",
       "      <td>NaN</td>\n",
       "      <td>NaN</td>\n",
       "      <td>NaN</td>\n",
       "      <td>NaN</td>\n",
       "      <td>NaN</td>\n",
       "      <td>NaN</td>\n",
       "    </tr>\n",
       "    <tr>\n",
       "      <th>3</th>\n",
       "      <td>1076863</td>\n",
       "      <td>1277178</td>\n",
       "      <td>10000.0</td>\n",
       "      <td>10000.0</td>\n",
       "      <td>10000.0</td>\n",
       "      <td>36 months</td>\n",
       "      <td>13.49</td>\n",
       "      <td>339.31</td>\n",
       "      <td>C</td>\n",
       "      <td>C1</td>\n",
       "      <td>...</td>\n",
       "      <td>NaN</td>\n",
       "      <td>NaN</td>\n",
       "      <td>NaN</td>\n",
       "      <td>NaN</td>\n",
       "      <td>NaN</td>\n",
       "      <td>NaN</td>\n",
       "      <td>NaN</td>\n",
       "      <td>NaN</td>\n",
       "      <td>NaN</td>\n",
       "      <td>NaN</td>\n",
       "    </tr>\n",
       "    <tr>\n",
       "      <th>4</th>\n",
       "      <td>1075358</td>\n",
       "      <td>1311748</td>\n",
       "      <td>3000.0</td>\n",
       "      <td>3000.0</td>\n",
       "      <td>3000.0</td>\n",
       "      <td>60 months</td>\n",
       "      <td>12.69</td>\n",
       "      <td>67.79</td>\n",
       "      <td>B</td>\n",
       "      <td>B5</td>\n",
       "      <td>...</td>\n",
       "      <td>NaN</td>\n",
       "      <td>NaN</td>\n",
       "      <td>NaN</td>\n",
       "      <td>NaN</td>\n",
       "      <td>NaN</td>\n",
       "      <td>NaN</td>\n",
       "      <td>NaN</td>\n",
       "      <td>NaN</td>\n",
       "      <td>NaN</td>\n",
       "      <td>NaN</td>\n",
       "    </tr>\n",
       "  </tbody>\n",
       "</table>\n",
       "<p>5 rows × 74 columns</p>\n",
       "</div>"
      ],
      "text/plain": [
       "        id  member_id  loan_amnt  funded_amnt  funded_amnt_inv        term  \\\n",
       "0  1077501    1296599     5000.0       5000.0           4975.0   36 months   \n",
       "1  1077430    1314167     2500.0       2500.0           2500.0   60 months   \n",
       "2  1077175    1313524     2400.0       2400.0           2400.0   36 months   \n",
       "3  1076863    1277178    10000.0      10000.0          10000.0   36 months   \n",
       "4  1075358    1311748     3000.0       3000.0           3000.0   60 months   \n",
       "\n",
       "   int_rate  installment grade sub_grade     ...      total_bal_il il_util  \\\n",
       "0     10.65       162.87     B        B2     ...               NaN     NaN   \n",
       "1     15.27        59.83     C        C4     ...               NaN     NaN   \n",
       "2     15.96        84.33     C        C5     ...               NaN     NaN   \n",
       "3     13.49       339.31     C        C1     ...               NaN     NaN   \n",
       "4     12.69        67.79     B        B5     ...               NaN     NaN   \n",
       "\n",
       "  open_rv_12m  open_rv_24m max_bal_bc all_util total_rev_hi_lim inq_fi  \\\n",
       "0         NaN          NaN        NaN      NaN              NaN    NaN   \n",
       "1         NaN          NaN        NaN      NaN              NaN    NaN   \n",
       "2         NaN          NaN        NaN      NaN              NaN    NaN   \n",
       "3         NaN          NaN        NaN      NaN              NaN    NaN   \n",
       "4         NaN          NaN        NaN      NaN              NaN    NaN   \n",
       "\n",
       "  total_cu_tl inq_last_12m  \n",
       "0         NaN          NaN  \n",
       "1         NaN          NaN  \n",
       "2         NaN          NaN  \n",
       "3         NaN          NaN  \n",
       "4         NaN          NaN  \n",
       "\n",
       "[5 rows x 74 columns]"
      ]
     },
     "execution_count": 3,
     "metadata": {},
     "output_type": "execute_result"
    }
   ],
   "source": [
    "df.head()"
   ]
  },
  {
   "cell_type": "code",
   "execution_count": 4,
   "metadata": {
    "collapsed": false,
    "nbpresent": {
     "id": "7bb107c3-9e70-424e-8db7-ecc13cc8a77a"
    }
   },
   "outputs": [
    {
     "data": {
      "text/plain": [
       "Index([u'id', u'member_id', u'loan_amnt', u'funded_amnt', u'funded_amnt_inv',\n",
       "       u'term', u'int_rate', u'installment', u'grade', u'sub_grade',\n",
       "       u'emp_title', u'emp_length', u'home_ownership', u'annual_inc',\n",
       "       u'verification_status', u'issue_d', u'loan_status', u'pymnt_plan',\n",
       "       u'url', u'desc', u'purpose', u'title', u'zip_code', u'addr_state',\n",
       "       u'dti', u'delinq_2yrs', u'earliest_cr_line', u'inq_last_6mths',\n",
       "       u'mths_since_last_delinq', u'mths_since_last_record', u'open_acc',\n",
       "       u'pub_rec', u'revol_bal', u'revol_util', u'total_acc',\n",
       "       u'initial_list_status', u'out_prncp', u'out_prncp_inv', u'total_pymnt',\n",
       "       u'total_pymnt_inv', u'total_rec_prncp', u'total_rec_int',\n",
       "       u'total_rec_late_fee', u'recoveries', u'collection_recovery_fee',\n",
       "       u'last_pymnt_d', u'last_pymnt_amnt', u'next_pymnt_d',\n",
       "       u'last_credit_pull_d', u'collections_12_mths_ex_med',\n",
       "       u'mths_since_last_major_derog', u'policy_code', u'application_type',\n",
       "       u'annual_inc_joint', u'dti_joint', u'verification_status_joint',\n",
       "       u'acc_now_delinq', u'tot_coll_amt', u'tot_cur_bal', u'open_acc_6m',\n",
       "       u'open_il_6m', u'open_il_12m', u'open_il_24m', u'mths_since_rcnt_il',\n",
       "       u'total_bal_il', u'il_util', u'open_rv_12m', u'open_rv_24m',\n",
       "       u'max_bal_bc', u'all_util', u'total_rev_hi_lim', u'inq_fi',\n",
       "       u'total_cu_tl', u'inq_last_12m'],\n",
       "      dtype='object')"
      ]
     },
     "execution_count": 4,
     "metadata": {},
     "output_type": "execute_result"
    }
   ],
   "source": [
    "df.columns"
   ]
  },
  {
   "cell_type": "code",
   "execution_count": 5,
   "metadata": {
    "collapsed": true,
    "nbpresent": {
     "id": "34dfe8f0-3160-4264-bf1a-38158628e52a"
    }
   },
   "outputs": [],
   "source": [
    "def plot_correlation_matrix(df):\n",
    "    \"\"\"Takes a pandas dataframe as input\"\"\"\n",
    "    fig, ax = plt.subplots(nrows=1, ncols=1, figsize=(20,20))\n",
    "    \n",
    "    cax = ax.matshow(df.corr())\n",
    "\n",
    "    ticks = list(range(len(df.columns)))\n",
    "    ax.set_xticks(ticks)\n",
    "    ax.set_yticks(ticks)\n",
    "\n",
    "    ax.set_xticklabels(df.columns, rotation=20, horizontalalignment='left')\n",
    "    ax.set_yticklabels(df.columns)\n",
    "\n",
    "    plt.tight_layout()\n",
    "    plt.show()"
   ]
  },
  {
   "cell_type": "code",
   "execution_count": 6,
   "metadata": {
    "collapsed": false,
    "nbpresent": {
     "id": "06f98559-0234-43d1-a5c0-72833b41ffa6"
    }
   },
   "outputs": [
    {
     "name": "stderr",
     "output_type": "stream",
     "text": [
      "/Users/adonismaomao/anaconda/lib/python2.7/site-packages/numpy/lib/function_base.py:4269: RuntimeWarning: Invalid value encountered in percentile\n",
      "  interpolation=interpolation)\n"
     ]
    },
    {
     "data": {
      "image/png": "[encoded data removed]",
      "text/plain": [
       "<matplotlib.figure.Figure at 0x104a28810>"
      ]
     },
     "metadata": {},
     "output_type": "display_data"
    }
   ],
   "source": [
    "plot_correlation_matrix(df[df.describe().columns.tolist()])"
   ]
  },
  {
   "cell_type": "code",
   "execution_count": 7,
   "metadata": {
    "collapsed": false,
    "nbpresent": {
     "id": "1bb76c7e-7aac-42ad-bd9e-aca9793a3721"
    }
   },
   "outputs": [
    {
     "data": {
      "text/plain": [
       "id                                                                       1077501\n",
       "member_id                                                                1296599\n",
       "loan_amnt                                                                   5000\n",
       "funded_amnt                                                                 5000\n",
       "funded_amnt_inv                                                             4975\n",
       "term                                                                   36 months\n",
       "int_rate                                                                   10.65\n",
       "installment                                                               162.87\n",
       "grade                                                                          B\n",
       "sub_grade                                                                     B2\n",
       "emp_title                                                                    NaN\n",
       "emp_length                                                             10+ years\n",
       "home_ownership                                                              RENT\n",
       "annual_inc                                                                 24000\n",
       "verification_status                                                     Verified\n",
       "issue_d                                                                 Dec-2011\n",
       "loan_status                                                           Fully Paid\n",
       "pymnt_plan                                                                     n\n",
       "url                            https://www.lendingclub.com/browse/loanDetail....\n",
       "desc                             Borrower added on 12/22/11 > I need to upgra...\n",
       "purpose                                                              credit_card\n",
       "title                                                                   Computer\n",
       "zip_code                                                                   860xx\n",
       "addr_state                                                                    AZ\n",
       "dti                                                                        27.65\n",
       "delinq_2yrs                                                                    0\n",
       "earliest_cr_line                                                        Jan-1985\n",
       "inq_last_6mths                                                                 1\n",
       "mths_since_last_delinq                                                       NaN\n",
       "mths_since_last_record                                                       NaN\n",
       "                                                     ...                        \n",
       "collection_recovery_fee                                                        0\n",
       "last_pymnt_d                                                            Jan-2015\n",
       "last_pymnt_amnt                                                           171.62\n",
       "next_pymnt_d                                                                 NaN\n",
       "last_credit_pull_d                                                      Jan-2016\n",
       "collections_12_mths_ex_med                                                     0\n",
       "mths_since_last_major_derog                                                  NaN\n",
       "policy_code                                                                    1\n",
       "application_type                                                      INDIVIDUAL\n",
       "annual_inc_joint                                                             NaN\n",
       "dti_joint                                                                    NaN\n",
       "verification_status_joint                                                    NaN\n",
       "acc_now_delinq                                                                 0\n",
       "tot_coll_amt                                                                 NaN\n",
       "tot_cur_bal                                                                  NaN\n",
       "open_acc_6m                                                                  NaN\n",
       "open_il_6m                                                                   NaN\n",
       "open_il_12m                                                                  NaN\n",
       "open_il_24m                                                                  NaN\n",
       "mths_since_rcnt_il                                                           NaN\n",
       "total_bal_il                                                                 NaN\n",
       "il_util                                                                      NaN\n",
       "open_rv_12m                                                                  NaN\n",
       "open_rv_24m                                                                  NaN\n",
       "max_bal_bc                                                                   NaN\n",
       "all_util                                                                     NaN\n",
       "total_rev_hi_lim                                                             NaN\n",
       "inq_fi                                                                       NaN\n",
       "total_cu_tl                                                                  NaN\n",
       "inq_last_12m                                                                 NaN\n",
       "Name: 0, dtype: object"
      ]
     },
     "execution_count": 7,
     "metadata": {},
     "output_type": "execute_result"
    }
   ],
   "source": [
    "df.iloc[0]"
   ]
  },
  {
   "cell_type": "code",
   "execution_count": 8,
   "metadata": {
    "collapsed": false,
    "nbpresent": {
     "id": "3b294a59-8814-41d8-8f4c-9b892539b754"
    }
   },
   "outputs": [
    {
     "name": "stdout",
     "output_type": "stream",
     "text": [
      "['id', 'member_id', 'loan_amnt', 'funded_amnt', 'funded_amnt_inv', 'int_rate', 'installment', 'annual_inc', 'dti', 'delinq_2yrs', 'inq_last_6mths', 'mths_since_last_delinq', 'mths_since_last_record', 'open_acc', 'pub_rec', 'revol_bal', 'revol_util', 'total_acc', 'out_prncp', 'out_prncp_inv', 'total_pymnt', 'total_pymnt_inv', 'total_rec_prncp', 'total_rec_int', 'total_rec_late_fee', 'recoveries', 'collection_recovery_fee', 'last_pymnt_amnt', 'collections_12_mths_ex_med', 'mths_since_last_major_derog', 'policy_code', 'annual_inc_joint', 'dti_joint', 'acc_now_delinq', 'tot_coll_amt', 'tot_cur_bal', 'open_acc_6m', 'open_il_6m', 'open_il_12m', 'open_il_24m', 'mths_since_rcnt_il', 'total_bal_il', 'il_util', 'open_rv_12m', 'open_rv_24m', 'max_bal_bc', 'all_util', 'total_rev_hi_lim', 'inq_fi', 'total_cu_tl', 'inq_last_12m']\n"
     ]
    }
   ],
   "source": [
    "num_fea = df.describe().columns.tolist()\n",
    "print num_fea"
   ]
  },
  {
   "cell_type": "code",
   "execution_count": 9,
   "metadata": {
    "collapsed": false,
    "nbpresent": {
     "id": "aeaafc83-82cb-4f14-8cc5-5d76c81da288"
    }
   },
   "outputs": [
    {
     "data": {
      "text/plain": [
       "True"
      ]
     },
     "execution_count": 9,
     "metadata": {},
     "output_type": "execute_result"
    }
   ],
   "source": [
    "# to see if member_ids are unique\n",
    "len(set(df.member_id))==len(df.member_id)"
   ]
  },
  {
   "cell_type": "code",
   "execution_count": 10,
   "metadata": {
    "collapsed": false,
    "nbpresent": {
     "id": "8556e632-c46d-4198-895a-9cf54f9b66c8"
    }
   },
   "outputs": [
    {
     "data": {
      "text/plain": [
       "array(['B', 'C', 'A', 'E', 'F', 'D', 'G'], dtype=object)"
      ]
     },
     "execution_count": 10,
     "metadata": {},
     "output_type": "execute_result"
    }
   ],
   "source": [
    "# Looking at the type of grades being assigned\n",
    "df['grade'].unique()"
   ]
  },
  {
   "cell_type": "code",
   "execution_count": 11,
   "metadata": {
    "collapsed": false,
    "nbpresent": {
     "id": "71f022c3-bfc9-4637-91f8-e7d7ae5c9f71"
    }
   },
   "outputs": [
    {
     "data": {
      "text/plain": [
       "array([' 36 months', ' 60 months'], dtype=object)"
      ]
     },
     "execution_count": 11,
     "metadata": {},
     "output_type": "execute_result"
    }
   ],
   "source": [
    "df.term.unique()"
   ]
  },
  {
   "cell_type": "code",
   "execution_count": 12,
   "metadata": {
    "collapsed": false,
    "nbpresent": {
     "id": "28af906f-a5a3-45b9-91b5-28ea68d53fd5"
    }
   },
   "outputs": [
    {
     "data": {
      "text/plain": [
       "(13093511950.0, 13081632625.0, 13046658141.926006)"
      ]
     },
     "execution_count": 12,
     "metadata": {},
     "output_type": "execute_result"
    }
   ],
   "source": [
    "sum(df.loan_amnt), sum(df.funded_amnt), sum(df.funded_amnt_inv)"
   ]
  },
  {
   "cell_type": "code",
   "execution_count": 13,
   "metadata": {
    "collapsed": false,
    "nbpresent": {
     "id": "bf0357c1-d0ee-4fc4-a7b3-b681a85fa0b7"
    }
   },
   "outputs": [
    {
     "data": {
      "text/plain": [
       "-11173094604.521759"
      ]
     },
     "execution_count": 13,
     "metadata": {},
     "output_type": "execute_result"
    }
   ],
   "source": [
    "#Last total payment amount received - amount of loan \n",
    "sum(df.last_pymnt_amnt)-sum(df.loan_amnt)"
   ]
  },
  {
   "cell_type": "code",
   "execution_count": 14,
   "metadata": {
    "collapsed": false,
    "nbpresent": {
     "id": "9e20292e-d5db-4af9-b545-595d0ef67f86"
    }
   },
   "outputs": [
    {
     "data": {
      "text/plain": [
       "-6374088561.2964535"
      ]
     },
     "execution_count": 14,
     "metadata": {},
     "output_type": "execute_result"
    }
   ],
   "source": [
    "#Payments received to date - total amount funded\n",
    "sum(df.total_pymnt)-sum(df.funded_amnt)"
   ]
  },
  {
   "cell_type": "code",
   "execution_count": 15,
   "metadata": {
    "collapsed": false,
    "nbpresent": {
     "id": "d836b1aa-dbb1-460b-aeb1-b9751eb66a36"
    }
   },
   "outputs": [
    {
     "data": {
      "text/plain": [
       "<matplotlib.axes._subplots.AxesSubplot at 0x11e24ca90>"
      ]
     },
     "execution_count": 15,
     "metadata": {},
     "output_type": "execute_result"
    },
    {
     "data": {
      "image/png": "[encoded data removed]",
      "text/plain": [
       "<matplotlib.figure.Figure at 0x13a661410>"
      ]
     },
     "metadata": {},
     "output_type": "display_data"
    }
   ],
   "source": [
    "df.groupby('loan_status').count()['id'].plot.bar()"
   ]
  },
  {
   "cell_type": "code",
   "execution_count": 16,
   "metadata": {
    "collapsed": false,
    "nbpresent": {
     "id": "9ae9e5e6-b0c8-47a1-92c3-aedd07f0261f"
    }
   },
   "outputs": [
    {
     "data": {
      "text/plain": [
       "0.16109593837535013"
      ]
     },
     "execution_count": 16,
     "metadata": {},
     "output_type": "execute_result"
    }
   ],
   "source": [
    "df[df.loan_status.isin(['Charged Off', 'Does not meet the credit policy. Status:Charged Off'])].count()['id']/float(len(df[df.loan_status!='Current']))"
   ]
  },
  {
   "cell_type": "code",
   "execution_count": 17,
   "metadata": {
    "collapsed": false,
    "nbpresent": {
     "id": "ecc8ae98-2b96-49f0-8f45-3de224131ade"
    }
   },
   "outputs": [
    {
     "data": {
      "text/html": [
       "<div>\n",
       "<table border=\"1\" class=\"dataframe\">\n",
       "  <thead>\n",
       "    <tr style=\"text-align: right;\">\n",
       "      <th></th>\n",
       "      <th>id</th>\n",
       "      <th>member_id</th>\n",
       "      <th>loan_amnt</th>\n",
       "      <th>funded_amnt</th>\n",
       "      <th>funded_amnt_inv</th>\n",
       "      <th>int_rate</th>\n",
       "      <th>installment</th>\n",
       "      <th>annual_inc</th>\n",
       "      <th>dti</th>\n",
       "      <th>delinq_2yrs</th>\n",
       "      <th>...</th>\n",
       "      <th>total_bal_il</th>\n",
       "      <th>il_util</th>\n",
       "      <th>open_rv_12m</th>\n",
       "      <th>open_rv_24m</th>\n",
       "      <th>max_bal_bc</th>\n",
       "      <th>all_util</th>\n",
       "      <th>total_rev_hi_lim</th>\n",
       "      <th>inq_fi</th>\n",
       "      <th>total_cu_tl</th>\n",
       "      <th>inq_last_12m</th>\n",
       "    </tr>\n",
       "    <tr>\n",
       "      <th>loan_status</th>\n",
       "      <th></th>\n",
       "      <th></th>\n",
       "      <th></th>\n",
       "      <th></th>\n",
       "      <th></th>\n",
       "      <th></th>\n",
       "      <th></th>\n",
       "      <th></th>\n",
       "      <th></th>\n",
       "      <th></th>\n",
       "      <th></th>\n",
       "      <th></th>\n",
       "      <th></th>\n",
       "      <th></th>\n",
       "      <th></th>\n",
       "      <th></th>\n",
       "      <th></th>\n",
       "      <th></th>\n",
       "      <th></th>\n",
       "      <th></th>\n",
       "      <th></th>\n",
       "    </tr>\n",
       "  </thead>\n",
       "  <tbody>\n",
       "    <tr>\n",
       "      <th>Charged Off</th>\n",
       "      <td>497420626300</td>\n",
       "      <td>555815299821</td>\n",
       "      <td>6.586432e+08</td>\n",
       "      <td>6.565824e+08</td>\n",
       "      <td>6.511379e+08</td>\n",
       "      <td>7.246852e+05</td>\n",
       "      <td>1.994475e+07</td>\n",
       "      <td>2.944972e+09</td>\n",
       "      <td>832704.65</td>\n",
       "      <td>12491.0</td>\n",
       "      <td>...</td>\n",
       "      <td>NaN</td>\n",
       "      <td>NaN</td>\n",
       "      <td>NaN</td>\n",
       "      <td>NaN</td>\n",
       "      <td>NaN</td>\n",
       "      <td>NaN</td>\n",
       "      <td>9.289387e+08</td>\n",
       "      <td>NaN</td>\n",
       "      <td>NaN</td>\n",
       "      <td>NaN</td>\n",
       "    </tr>\n",
       "    <tr>\n",
       "      <th>Current</th>\n",
       "      <td>24460186371227</td>\n",
       "      <td>26283121274576</td>\n",
       "      <td>9.172243e+09</td>\n",
       "      <td>9.171215e+09</td>\n",
       "      <td>9.167090e+09</td>\n",
       "      <td>7.790492e+06</td>\n",
       "      <td>2.670854e+08</td>\n",
       "      <td>4.582716e+10</td>\n",
       "      <td>11302489.18</td>\n",
       "      <td>203055.0</td>\n",
       "      <td>...</td>\n",
       "      <td>479914789.0</td>\n",
       "      <td>820611.6</td>\n",
       "      <td>17755.0</td>\n",
       "      <td>38628.0</td>\n",
       "      <td>76813314.0</td>\n",
       "      <td>802405.8</td>\n",
       "      <td>1.971020e+10</td>\n",
       "      <td>12413.0</td>\n",
       "      <td>19952.0</td>\n",
       "      <td>24098.0</td>\n",
       "    </tr>\n",
       "    <tr>\n",
       "      <th>Default</th>\n",
       "      <td>32041847504</td>\n",
       "      <td>34871772035</td>\n",
       "      <td>1.852130e+07</td>\n",
       "      <td>1.852130e+07</td>\n",
       "      <td>1.851538e+07</td>\n",
       "      <td>1.967400e+04</td>\n",
       "      <td>5.505981e+05</td>\n",
       "      <td>8.137328e+07</td>\n",
       "      <td>24343.59</td>\n",
       "      <td>462.0</td>\n",
       "      <td>...</td>\n",
       "      <td>NaN</td>\n",
       "      <td>NaN</td>\n",
       "      <td>NaN</td>\n",
       "      <td>NaN</td>\n",
       "      <td>NaN</td>\n",
       "      <td>NaN</td>\n",
       "      <td>3.296331e+07</td>\n",
       "      <td>NaN</td>\n",
       "      <td>NaN</td>\n",
       "      <td>NaN</td>\n",
       "    </tr>\n",
       "    <tr>\n",
       "      <th>Does not meet the credit policy. Status:Charged Off</th>\n",
       "      <td>290765895</td>\n",
       "      <td>341392053</td>\n",
       "      <td>7.250225e+06</td>\n",
       "      <td>7.037825e+06</td>\n",
       "      <td>4.419128e+06</td>\n",
       "      <td>1.110843e+04</td>\n",
       "      <td>2.322259e+05</td>\n",
       "      <td>5.290922e+07</td>\n",
       "      <td>10915.58</td>\n",
       "      <td>163.0</td>\n",
       "      <td>...</td>\n",
       "      <td>NaN</td>\n",
       "      <td>NaN</td>\n",
       "      <td>NaN</td>\n",
       "      <td>NaN</td>\n",
       "      <td>NaN</td>\n",
       "      <td>NaN</td>\n",
       "      <td>NaN</td>\n",
       "      <td>NaN</td>\n",
       "      <td>NaN</td>\n",
       "      <td>NaN</td>\n",
       "    </tr>\n",
       "    <tr>\n",
       "      <th>Does not meet the credit policy. Status:Fully Paid</th>\n",
       "      <td>787626479</td>\n",
       "      <td>930188780</td>\n",
       "      <td>1.760022e+07</td>\n",
       "      <td>1.725460e+07</td>\n",
       "      <td>1.274535e+07</td>\n",
       "      <td>2.778954e+04</td>\n",
       "      <td>5.706936e+05</td>\n",
       "      <td>1.431365e+08</td>\n",
       "      <td>28045.06</td>\n",
       "      <td>487.0</td>\n",
       "      <td>...</td>\n",
       "      <td>NaN</td>\n",
       "      <td>NaN</td>\n",
       "      <td>NaN</td>\n",
       "      <td>NaN</td>\n",
       "      <td>NaN</td>\n",
       "      <td>NaN</td>\n",
       "      <td>NaN</td>\n",
       "      <td>NaN</td>\n",
       "      <td>NaN</td>\n",
       "      <td>NaN</td>\n",
       "    </tr>\n",
       "    <tr>\n",
       "      <th>Fully Paid</th>\n",
       "      <td>2607413393395</td>\n",
       "      <td>2881976686132</td>\n",
       "      <td>2.772344e+09</td>\n",
       "      <td>2.764140e+09</td>\n",
       "      <td>2.746054e+09</td>\n",
       "      <td>2.757366e+06</td>\n",
       "      <td>8.582551e+07</td>\n",
       "      <td>1.540510e+10</td>\n",
       "      <td>3352473.88</td>\n",
       "      <td>50730.0</td>\n",
       "      <td>...</td>\n",
       "      <td>5250573.0</td>\n",
       "      <td>9280.9</td>\n",
       "      <td>241.0</td>\n",
       "      <td>512.0</td>\n",
       "      <td>794497.0</td>\n",
       "      <td>8488.1</td>\n",
       "      <td>4.693898e+09</td>\n",
       "      <td>181.0</td>\n",
       "      <td>302.0</td>\n",
       "      <td>378.0</td>\n",
       "    </tr>\n",
       "    <tr>\n",
       "      <th>In Grace Period</th>\n",
       "      <td>212836204711</td>\n",
       "      <td>229492490270</td>\n",
       "      <td>1.000839e+08</td>\n",
       "      <td>1.000839e+08</td>\n",
       "      <td>1.000380e+08</td>\n",
       "      <td>9.600430e+04</td>\n",
       "      <td>3.005879e+06</td>\n",
       "      <td>4.760518e+08</td>\n",
       "      <td>121638.22</td>\n",
       "      <td>2956.0</td>\n",
       "      <td>...</td>\n",
       "      <td>3078296.0</td>\n",
       "      <td>5459.3</td>\n",
       "      <td>104.0</td>\n",
       "      <td>238.0</td>\n",
       "      <td>474412.0</td>\n",
       "      <td>5282.9</td>\n",
       "      <td>1.652691e+08</td>\n",
       "      <td>107.0</td>\n",
       "      <td>188.0</td>\n",
       "      <td>241.0</td>\n",
       "    </tr>\n",
       "    <tr>\n",
       "      <th>Issued</th>\n",
       "      <td>574932822033</td>\n",
       "      <td>615962349420</td>\n",
       "      <td>1.294260e+08</td>\n",
       "      <td>1.294260e+08</td>\n",
       "      <td>1.293832e+08</td>\n",
       "      <td>1.052456e+05</td>\n",
       "      <td>3.793621e+06</td>\n",
       "      <td>6.625715e+08</td>\n",
       "      <td>164591.03</td>\n",
       "      <td>2978.0</td>\n",
       "      <td>...</td>\n",
       "      <td>292963027.0</td>\n",
       "      <td>496421.2</td>\n",
       "      <td>11587.0</td>\n",
       "      <td>24214.0</td>\n",
       "      <td>47755680.0</td>\n",
       "      <td>483923.4</td>\n",
       "      <td>2.984442e+08</td>\n",
       "      <td>7473.0</td>\n",
       "      <td>12408.0</td>\n",
       "      <td>17542.0</td>\n",
       "    </tr>\n",
       "    <tr>\n",
       "      <th>Late (16-30 days)</th>\n",
       "      <td>78426082785</td>\n",
       "      <td>84586400858</td>\n",
       "      <td>3.693575e+07</td>\n",
       "      <td>3.693575e+07</td>\n",
       "      <td>3.691966e+07</td>\n",
       "      <td>3.701414e+04</td>\n",
       "      <td>1.112366e+06</td>\n",
       "      <td>1.727189e+08</td>\n",
       "      <td>45530.31</td>\n",
       "      <td>1101.0</td>\n",
       "      <td>...</td>\n",
       "      <td>NaN</td>\n",
       "      <td>NaN</td>\n",
       "      <td>NaN</td>\n",
       "      <td>NaN</td>\n",
       "      <td>NaN</td>\n",
       "      <td>NaN</td>\n",
       "      <td>6.333910e+07</td>\n",
       "      <td>NaN</td>\n",
       "      <td>NaN</td>\n",
       "      <td>NaN</td>\n",
       "    </tr>\n",
       "    <tr>\n",
       "      <th>Late (31-120 days)</th>\n",
       "      <td>344541564905</td>\n",
       "      <td>372786449064</td>\n",
       "      <td>1.804638e+08</td>\n",
       "      <td>1.804354e+08</td>\n",
       "      <td>1.803561e+08</td>\n",
       "      <td>1.855000e+05</td>\n",
       "      <td>5.412557e+06</td>\n",
       "      <td>8.116098e+08</td>\n",
       "      <td>229443.38</td>\n",
       "      <td>4597.0</td>\n",
       "      <td>...</td>\n",
       "      <td>NaN</td>\n",
       "      <td>NaN</td>\n",
       "      <td>NaN</td>\n",
       "      <td>NaN</td>\n",
       "      <td>NaN</td>\n",
       "      <td>NaN</td>\n",
       "      <td>3.103172e+08</td>\n",
       "      <td>NaN</td>\n",
       "      <td>NaN</td>\n",
       "      <td>NaN</td>\n",
       "    </tr>\n",
       "  </tbody>\n",
       "</table>\n",
       "<p>10 rows × 51 columns</p>\n",
       "</div>"
      ],
      "text/plain": [
       "                                                                id  \\\n",
       "loan_status                                                          \n",
       "Charged Off                                           497420626300   \n",
       "Current                                             24460186371227   \n",
       "Default                                                32041847504   \n",
       "Does not meet the credit policy. Status:Charged...       290765895   \n",
       "Does not meet the credit policy. Status:Fully Paid       787626479   \n",
       "Fully Paid                                           2607413393395   \n",
       "In Grace Period                                       212836204711   \n",
       "Issued                                                574932822033   \n",
       "Late (16-30 days)                                      78426082785   \n",
       "Late (31-120 days)                                    344541564905   \n",
       "\n",
       "                                                         member_id  \\\n",
       "loan_status                                                          \n",
       "Charged Off                                           555815299821   \n",
       "Current                                             26283121274576   \n",
       "Default                                                34871772035   \n",
       "Does not meet the credit policy. Status:Charged...       341392053   \n",
       "Does not meet the credit policy. Status:Fully Paid       930188780   \n",
       "Fully Paid                                           2881976686132   \n",
       "In Grace Period                                       229492490270   \n",
       "Issued                                                615962349420   \n",
       "Late (16-30 days)                                      84586400858   \n",
       "Late (31-120 days)                                    372786449064   \n",
       "\n",
       "                                                       loan_amnt  \\\n",
       "loan_status                                                        \n",
       "Charged Off                                         6.586432e+08   \n",
       "Current                                             9.172243e+09   \n",
       "Default                                             1.852130e+07   \n",
       "Does not meet the credit policy. Status:Charged...  7.250225e+06   \n",
       "Does not meet the credit policy. Status:Fully Paid  1.760022e+07   \n",
       "Fully Paid                                          2.772344e+09   \n",
       "In Grace Period                                     1.000839e+08   \n",
       "Issued                                              1.294260e+08   \n",
       "Late (16-30 days)                                   3.693575e+07   \n",
       "Late (31-120 days)                                  1.804638e+08   \n",
       "\n",
       "                                                     funded_amnt  \\\n",
       "loan_status                                                        \n",
       "Charged Off                                         6.565824e+08   \n",
       "Current                                             9.171215e+09   \n",
       "Default                                             1.852130e+07   \n",
       "Does not meet the credit policy. Status:Charged...  7.037825e+06   \n",
       "Does not meet the credit policy. Status:Fully Paid  1.725460e+07   \n",
       "Fully Paid                                          2.764140e+09   \n",
       "In Grace Period                                     1.000839e+08   \n",
       "Issued                                              1.294260e+08   \n",
       "Late (16-30 days)                                   3.693575e+07   \n",
       "Late (31-120 days)                                  1.804354e+08   \n",
       "\n",
       "                                                    funded_amnt_inv  \\\n",
       "loan_status                                                           \n",
       "Charged Off                                            6.511379e+08   \n",
       "Current                                                9.167090e+09   \n",
       "Default                                                1.851538e+07   \n",
       "Does not meet the credit policy. Status:Charged...     4.419128e+06   \n",
       "Does not meet the credit policy. Status:Fully Paid     1.274535e+07   \n",
       "Fully Paid                                             2.746054e+09   \n",
       "In Grace Period                                        1.000380e+08   \n",
       "Issued                                                 1.293832e+08   \n",
       "Late (16-30 days)                                      3.691966e+07   \n",
       "Late (31-120 days)                                     1.803561e+08   \n",
       "\n",
       "                                                        int_rate  \\\n",
       "loan_status                                                        \n",
       "Charged Off                                         7.246852e+05   \n",
       "Current                                             7.790492e+06   \n",
       "Default                                             1.967400e+04   \n",
       "Does not meet the credit policy. Status:Charged...  1.110843e+04   \n",
       "Does not meet the credit policy. Status:Fully Paid  2.778954e+04   \n",
       "Fully Paid                                          2.757366e+06   \n",
       "In Grace Period                                     9.600430e+04   \n",
       "Issued                                              1.052456e+05   \n",
       "Late (16-30 days)                                   3.701414e+04   \n",
       "Late (31-120 days)                                  1.855000e+05   \n",
       "\n",
       "                                                     installment  \\\n",
       "loan_status                                                        \n",
       "Charged Off                                         1.994475e+07   \n",
       "Current                                             2.670854e+08   \n",
       "Default                                             5.505981e+05   \n",
       "Does not meet the credit policy. Status:Charged...  2.322259e+05   \n",
       "Does not meet the credit policy. Status:Fully Paid  5.706936e+05   \n",
       "Fully Paid                                          8.582551e+07   \n",
       "In Grace Period                                     3.005879e+06   \n",
       "Issued                                              3.793621e+06   \n",
       "Late (16-30 days)                                   1.112366e+06   \n",
       "Late (31-120 days)                                  5.412557e+06   \n",
       "\n",
       "                                                      annual_inc          dti  \\\n",
       "loan_status                                                                     \n",
       "Charged Off                                         2.944972e+09    832704.65   \n",
       "Current                                             4.582716e+10  11302489.18   \n",
       "Default                                             8.137328e+07     24343.59   \n",
       "Does not meet the credit policy. Status:Charged...  5.290922e+07     10915.58   \n",
       "Does not meet the credit policy. Status:Fully Paid  1.431365e+08     28045.06   \n",
       "Fully Paid                                          1.540510e+10   3352473.88   \n",
       "In Grace Period                                     4.760518e+08    121638.22   \n",
       "Issued                                              6.625715e+08    164591.03   \n",
       "Late (16-30 days)                                   1.727189e+08     45530.31   \n",
       "Late (31-120 days)                                  8.116098e+08    229443.38   \n",
       "\n",
       "                                                    delinq_2yrs      ...       \\\n",
       "loan_status                                                          ...        \n",
       "Charged Off                                             12491.0      ...        \n",
       "Current                                                203055.0      ...        \n",
       "Default                                                   462.0      ...        \n",
       "Does not meet the credit policy. Status:Charged...        163.0      ...        \n",
       "Does not meet the credit policy. Status:Fully Paid        487.0      ...        \n",
       "Fully Paid                                              50730.0      ...        \n",
       "In Grace Period                                          2956.0      ...        \n",
       "Issued                                                   2978.0      ...        \n",
       "Late (16-30 days)                                        1101.0      ...        \n",
       "Late (31-120 days)                                       4597.0      ...        \n",
       "\n",
       "                                                    total_bal_il   il_util  \\\n",
       "loan_status                                                                  \n",
       "Charged Off                                                  NaN       NaN   \n",
       "Current                                              479914789.0  820611.6   \n",
       "Default                                                      NaN       NaN   \n",
       "Does not meet the credit policy. Status:Charged...           NaN       NaN   \n",
       "Does not meet the credit policy. Status:Fully Paid           NaN       NaN   \n",
       "Fully Paid                                             5250573.0    9280.9   \n",
       "In Grace Period                                        3078296.0    5459.3   \n",
       "Issued                                               292963027.0  496421.2   \n",
       "Late (16-30 days)                                            NaN       NaN   \n",
       "Late (31-120 days)                                           NaN       NaN   \n",
       "\n",
       "                                                    open_rv_12m  open_rv_24m  \\\n",
       "loan_status                                                                    \n",
       "Charged Off                                                 NaN          NaN   \n",
       "Current                                                 17755.0      38628.0   \n",
       "Default                                                     NaN          NaN   \n",
       "Does not meet the credit policy. Status:Charged...          NaN          NaN   \n",
       "Does not meet the credit policy. Status:Fully Paid          NaN          NaN   \n",
       "Fully Paid                                                241.0        512.0   \n",
       "In Grace Period                                           104.0        238.0   \n",
       "Issued                                                  11587.0      24214.0   \n",
       "Late (16-30 days)                                           NaN          NaN   \n",
       "Late (31-120 days)                                          NaN          NaN   \n",
       "\n",
       "                                                    max_bal_bc  all_util  \\\n",
       "loan_status                                                                \n",
       "Charged Off                                                NaN       NaN   \n",
       "Current                                             76813314.0  802405.8   \n",
       "Default                                                    NaN       NaN   \n",
       "Does not meet the credit policy. Status:Charged...         NaN       NaN   \n",
       "Does not meet the credit policy. Status:Fully Paid         NaN       NaN   \n",
       "Fully Paid                                            794497.0    8488.1   \n",
       "In Grace Period                                       474412.0    5282.9   \n",
       "Issued                                              47755680.0  483923.4   \n",
       "Late (16-30 days)                                          NaN       NaN   \n",
       "Late (31-120 days)                                         NaN       NaN   \n",
       "\n",
       "                                                    total_rev_hi_lim   inq_fi  \\\n",
       "loan_status                                                                     \n",
       "Charged Off                                             9.289387e+08      NaN   \n",
       "Current                                                 1.971020e+10  12413.0   \n",
       "Default                                                 3.296331e+07      NaN   \n",
       "Does not meet the credit policy. Status:Charged...               NaN      NaN   \n",
       "Does not meet the credit policy. Status:Fully Paid               NaN      NaN   \n",
       "Fully Paid                                              4.693898e+09    181.0   \n",
       "In Grace Period                                         1.652691e+08    107.0   \n",
       "Issued                                                  2.984442e+08   7473.0   \n",
       "Late (16-30 days)                                       6.333910e+07      NaN   \n",
       "Late (31-120 days)                                      3.103172e+08      NaN   \n",
       "\n",
       "                                                    total_cu_tl  inq_last_12m  \n",
       "loan_status                                                                    \n",
       "Charged Off                                                 NaN           NaN  \n",
       "Current                                                 19952.0       24098.0  \n",
       "Default                                                     NaN           NaN  \n",
       "Does not meet the credit policy. Status:Charged...          NaN           NaN  \n",
       "Does not meet the credit policy. Status:Fully Paid          NaN           NaN  \n",
       "Fully Paid                                                302.0         378.0  \n",
       "In Grace Period                                           188.0         241.0  \n",
       "Issued                                                  12408.0       17542.0  \n",
       "Late (16-30 days)                                           NaN           NaN  \n",
       "Late (31-120 days)                                          NaN           NaN  \n",
       "\n",
       "[10 rows x 51 columns]"
      ]
     },
     "execution_count": 17,
     "metadata": {},
     "output_type": "execute_result"
    }
   ],
   "source": [
    "df.groupby('loan_status').sum()"
   ]
  },
  {
   "cell_type": "markdown",
   "metadata": {
    "nbpresent": {
     "id": "8ba530b8-01e4-4870-b8fb-4debe476ca00"
    }
   },
   "source": [
    "### Building new features/KPIs"
   ]
  },
  {
   "cell_type": "code",
   "execution_count": 19,
   "metadata": {
    "collapsed": true,
    "nbpresent": {
     "id": "698a6ca9-be37-4874-87f0-1a5d34fe3dd1"
    }
   },
   "outputs": [],
   "source": [
    "#create new feature\n",
    "df['profit'] = df.total_pymnt-df.funded_amnt\n",
    "df['issue_y'] = df.issue_d.apply(lambda x: x[-4:])\n",
    "df['paid_per'] = df.total_pymnt/df.funded_amnt"
   ]
  },
  {
   "cell_type": "code",
   "execution_count": 21,
   "metadata": {
    "collapsed": false,
    "nbpresent": {
     "id": "3fa0a1cb-faf0-41bc-ba1a-8b5978bd1905"
    }
   },
   "outputs": [
    {
     "data": {
      "text/plain": [
       "<matplotlib.axes._subplots.AxesSubplot at 0x11e24c990>"
      ]
     },
     "execution_count": 21,
     "metadata": {},
     "output_type": "execute_result"
    },
    {
     "data": {
      "image/png": "[encoded data removed]",
      "text/plain": [
       "<matplotlib.figure.Figure at 0x12311be90>"
      ]
     },
     "metadata": {},
     "output_type": "display_data"
    }
   ],
   "source": [
    "df.groupby('loan_status').sum()[['funded_amnt','profit']].plot.bar()"
   ]
  },
  {
   "cell_type": "code",
   "execution_count": 22,
   "metadata": {
    "collapsed": false,
    "nbpresent": {
     "id": "4688277d-6c12-45be-a682-814d3ee41c58"
    }
   },
   "outputs": [
    {
     "data": {
      "text/plain": [
       "-303772309.34248954"
      ]
     },
     "execution_count": 22,
     "metadata": {},
     "output_type": "execute_result"
    }
   ],
   "source": [
    "sum(df[df.loan_status!='Current']['profit'])"
   ]
  },
  {
   "cell_type": "code",
   "execution_count": 23,
   "metadata": {
    "collapsed": false,
    "nbpresent": {
     "id": "7ddf81be-babc-49c3-8324-2fbc55812537"
    }
   },
   "outputs": [
    {
     "data": {
      "text/plain": [
       "<matplotlib.axes._subplots.AxesSubplot at 0x1277dcf90>"
      ]
     },
     "execution_count": 23,
     "metadata": {},
     "output_type": "execute_result"
    },
    {
     "data": {
      "image/png": "[encoded data removed]",
      "text/plain": [
       "<matplotlib.figure.Figure at 0x127f1e490>"
      ]
     },
     "metadata": {},
     "output_type": "display_data"
    }
   ],
   "source": [
    "df[df.loan_status!='Current'].groupby('loan_status').sum()[['funded_amnt','profit']].plot.bar()"
   ]
  },
  {
   "cell_type": "markdown",
   "metadata": {
    "nbpresent": {
     "id": "eb3808fd-f3c0-43a3-b606-0b103a8d1670"
    }
   },
   "source": [
    "only get out 'charged off' and 'fully paid'"
   ]
  },
  {
   "cell_type": "code",
   "execution_count": 24,
   "metadata": {
    "collapsed": false,
    "nbpresent": {
     "id": "9f0c022a-1ea5-4baf-8cd9-48046d668a13"
    }
   },
   "outputs": [
    {
     "data": {
      "text/plain": [
       "<matplotlib.axes._subplots.AxesSubplot at 0x127fc4e90>"
      ]
     },
     "execution_count": 24,
     "metadata": {},
     "output_type": "execute_result"
    },
    {
     "data": {
      "image/png": "[encoded data removed]",
      "text/plain": [
       "<matplotlib.figure.Figure at 0x110b21710>"
      ]
     },
     "metadata": {},
     "output_type": "display_data"
    }
   ],
   "source": [
    "df.groupby('application_type').count()['id'].plot.bar()"
   ]
  },
  {
   "cell_type": "code",
   "execution_count": 25,
   "metadata": {
    "collapsed": false,
    "nbpresent": {
     "id": "01089592-38d3-443c-a698-7ba7e865df4a"
    }
   },
   "outputs": [
    {
     "data": {
      "text/plain": [
       "<matplotlib.axes._subplots.AxesSubplot at 0x11072be10>"
      ]
     },
     "execution_count": 25,
     "metadata": {},
     "output_type": "execute_result"
    },
    {
     "data": {
      "image/png": "[encoded data removed]",
      "text/plain": [
       "<matplotlib.figure.Figure at 0x111b2ebd0>"
      ]
     },
     "metadata": {},
     "output_type": "display_data"
    }
   ],
   "source": [
    "df.groupby('term').count()['id'].plot.bar()"
   ]
  },
  {
   "cell_type": "code",
   "execution_count": 26,
   "metadata": {
    "collapsed": false,
    "nbpresent": {
     "id": "0556207a-1358-4b44-b3e7-ede2f420a597"
    }
   },
   "outputs": [
    {
     "data": {
      "text/plain": [
       "<matplotlib.axes._subplots.AxesSubplot at 0x110a61490>"
      ]
     },
     "execution_count": 26,
     "metadata": {},
     "output_type": "execute_result"
    },
    {
     "data": {
      "image/png": "[encoded data removed]",
      "text/plain": [
       "<matplotlib.figure.Figure at 0x110a49510>"
      ]
     },
     "metadata": {},
     "output_type": "display_data"
    }
   ],
   "source": [
    "df[df.loan_status!='Current']['paid_per'].hist(bins = 20)"
   ]
  },
  {
   "cell_type": "markdown",
   "metadata": {
    "nbpresent": {
     "id": "b7a6b4c8-3bd5-4816-b846-f8d11fdcc97b"
    }
   },
   "source": [
    "### Company profile"
   ]
  },
  {
   "cell_type": "code",
   "execution_count": 27,
   "metadata": {
    "collapsed": false,
    "nbpresent": {
     "id": "4e99467d-0185-4916-98c1-742bcdceab94"
    }
   },
   "outputs": [
    {
     "data": {
      "text/plain": [
       "<matplotlib.axes._subplots.AxesSubplot at 0x110ee0210>"
      ]
     },
     "execution_count": 27,
     "metadata": {},
     "output_type": "execute_result"
    },
    {
     "data": {
      "image/png": "[encoded data removed]",
      "text/plain": [
       "<matplotlib.figure.Figure at 0x111b2e690>"
      ]
     },
     "metadata": {},
     "output_type": "display_data"
    }
   ],
   "source": [
    "df[df.loan_status!='Current'].profit.hist(bins=50)"
   ]
  },
  {
   "cell_type": "code",
   "execution_count": 28,
   "metadata": {
    "collapsed": false,
    "nbpresent": {
     "id": "370a5d2f-eb45-4775-a5c2-eec70b92670b"
    }
   },
   "outputs": [
    {
     "data": {
      "text/plain": [
       "count     887379\n",
       "unique         9\n",
       "top         2015\n",
       "freq      421094\n",
       "Name: issue_y, dtype: object"
      ]
     },
     "execution_count": 28,
     "metadata": {},
     "output_type": "execute_result"
    }
   ],
   "source": [
    "df['issue_y'].describe()"
   ]
  },
  {
   "cell_type": "code",
   "execution_count": 29,
   "metadata": {
    "collapsed": false,
    "nbpresent": {
     "id": "e933a216-b9eb-4456-a91d-f20b62372807"
    }
   },
   "outputs": [
    {
     "data": {
      "text/plain": [
       "<matplotlib.axes._subplots.AxesSubplot at 0x111f64090>"
      ]
     },
     "execution_count": 29,
     "metadata": {},
     "output_type": "execute_result"
    },
    {
     "data": {
      "image/png": "[encoded data removed]",
      "text/plain": [
       "<matplotlib.figure.Figure at 0x111f51d10>"
      ]
     },
     "metadata": {},
     "output_type": "display_data"
    }
   ],
   "source": [
    "df.groupby('grade').mean()[['profit', 'funded_amnt']].plot.bar()"
   ]
  },
  {
   "cell_type": "code",
   "execution_count": 30,
   "metadata": {
    "collapsed": true,
    "nbpresent": {
     "id": "f7bddfcb-5c84-47a2-9c80-eb06119ebd81"
    }
   },
   "outputs": [],
   "source": [
    "# Percentage loan collected by grade"
   ]
  },
  {
   "cell_type": "code",
   "execution_count": 31,
   "metadata": {
    "collapsed": false,
    "nbpresent": {
     "id": "8327b1b2-874a-4eed-a66c-45b03fd5ad95"
    }
   },
   "outputs": [
    {
     "data": {
      "text/plain": [
       "<matplotlib.axes._subplots.AxesSubplot at 0x111191b90>"
      ]
     },
     "execution_count": 31,
     "metadata": {},
     "output_type": "execute_result"
    },
    {
     "data": {
      "image/png": "[encoded data removed]",
      "text/plain": [
       "<matplotlib.figure.Figure at 0x1111de050>"
      ]
     },
     "metadata": {},
     "output_type": "display_data"
    }
   ],
   "source": [
    "# Development of profitability through year\n",
    "df.groupby('issue_y').sum()[['funded_amnt', 'funded_amnt_inv', 'profit']].plot.bar()"
   ]
  },
  {
   "cell_type": "markdown",
   "metadata": {
    "nbpresent": {
     "id": "8f5ea494-a931-4ff9-870c-8a192e17c682"
    }
   },
   "source": [
    "Problem started from 2013, from 2014 there is large negative profit"
   ]
  },
  {
   "cell_type": "markdown",
   "metadata": {
    "nbpresent": {
     "id": "0047470f-a9cc-47f9-bcc5-0d83826355b3"
    }
   },
   "source": [
    "### A look by grade"
   ]
  },
  {
   "cell_type": "code",
   "execution_count": 32,
   "metadata": {
    "collapsed": false,
    "nbpresent": {
     "id": "80a0b995-2a00-4f3f-b362-a143436fc793"
    }
   },
   "outputs": [
    {
     "data": {
      "text/html": [
       "<div>\n",
       "<table border=\"1\" class=\"dataframe\">\n",
       "  <thead>\n",
       "    <tr style=\"text-align: right;\">\n",
       "      <th></th>\n",
       "      <th>id</th>\n",
       "      <th>member_id</th>\n",
       "      <th>loan_amnt</th>\n",
       "      <th>funded_amnt</th>\n",
       "      <th>funded_amnt_inv</th>\n",
       "      <th>int_rate</th>\n",
       "      <th>installment</th>\n",
       "      <th>annual_inc</th>\n",
       "      <th>dti</th>\n",
       "      <th>delinq_2yrs</th>\n",
       "      <th>...</th>\n",
       "      <th>open_rv_12m</th>\n",
       "      <th>open_rv_24m</th>\n",
       "      <th>max_bal_bc</th>\n",
       "      <th>all_util</th>\n",
       "      <th>total_rev_hi_lim</th>\n",
       "      <th>inq_fi</th>\n",
       "      <th>total_cu_tl</th>\n",
       "      <th>inq_last_12m</th>\n",
       "      <th>profit</th>\n",
       "      <th>paid_per</th>\n",
       "    </tr>\n",
       "    <tr>\n",
       "      <th>grade</th>\n",
       "      <th></th>\n",
       "      <th></th>\n",
       "      <th></th>\n",
       "      <th></th>\n",
       "      <th></th>\n",
       "      <th></th>\n",
       "      <th></th>\n",
       "      <th></th>\n",
       "      <th></th>\n",
       "      <th></th>\n",
       "      <th></th>\n",
       "      <th></th>\n",
       "      <th></th>\n",
       "      <th></th>\n",
       "      <th></th>\n",
       "      <th></th>\n",
       "      <th></th>\n",
       "      <th></th>\n",
       "      <th></th>\n",
       "      <th></th>\n",
       "      <th></th>\n",
       "    </tr>\n",
       "  </thead>\n",
       "  <tbody>\n",
       "    <tr>\n",
       "      <th>A</th>\n",
       "      <td>33120857</td>\n",
       "      <td>35667862</td>\n",
       "      <td>14038.860306</td>\n",
       "      <td>14023.323572</td>\n",
       "      <td>14000.506187</td>\n",
       "      <td>7.243312</td>\n",
       "      <td>427.599175</td>\n",
       "      <td>86942.651653</td>\n",
       "      <td>15.577401</td>\n",
       "      <td>0.185855</td>\n",
       "      <td>...</td>\n",
       "      <td>1.027260</td>\n",
       "      <td>2.334143</td>\n",
       "      <td>7072.432659</td>\n",
       "      <td>49.404966</td>\n",
       "      <td>47014.290774</td>\n",
       "      <td>0.633198</td>\n",
       "      <td>1.551417</td>\n",
       "      <td>0.967341</td>\n",
       "      <td>-6955.039480</td>\n",
       "      <td>0.531405</td>\n",
       "    </tr>\n",
       "    <tr>\n",
       "      <th>B</th>\n",
       "      <td>31633490</td>\n",
       "      <td>34127959</td>\n",
       "      <td>13642.965211</td>\n",
       "      <td>13630.195062</td>\n",
       "      <td>13594.642917</td>\n",
       "      <td>10.829618</td>\n",
       "      <td>408.439291</td>\n",
       "      <td>75487.389207</td>\n",
       "      <td>17.305115</td>\n",
       "      <td>0.308154</td>\n",
       "      <td>...</td>\n",
       "      <td>1.243783</td>\n",
       "      <td>2.756522</td>\n",
       "      <td>5936.938825</td>\n",
       "      <td>59.140656</td>\n",
       "      <td>32701.382733</td>\n",
       "      <td>0.778795</td>\n",
       "      <td>1.434935</td>\n",
       "      <td>1.592067</td>\n",
       "      <td>-6364.152117</td>\n",
       "      <td>0.561261</td>\n",
       "    </tr>\n",
       "    <tr>\n",
       "      <th>C</th>\n",
       "      <td>33431341</td>\n",
       "      <td>36036201</td>\n",
       "      <td>14466.306028</td>\n",
       "      <td>14458.230599</td>\n",
       "      <td>14423.251934</td>\n",
       "      <td>13.980098</td>\n",
       "      <td>421.942081</td>\n",
       "      <td>71536.950300</td>\n",
       "      <td>18.792559</td>\n",
       "      <td>0.349268</td>\n",
       "      <td>...</td>\n",
       "      <td>1.474073</td>\n",
       "      <td>3.120244</td>\n",
       "      <td>5664.896613</td>\n",
       "      <td>64.175068</td>\n",
       "      <td>28450.268219</td>\n",
       "      <td>1.029860</td>\n",
       "      <td>1.541821</td>\n",
       "      <td>2.204848</td>\n",
       "      <td>-7282.825179</td>\n",
       "      <td>0.520708</td>\n",
       "    </tr>\n",
       "    <tr>\n",
       "      <th>D</th>\n",
       "      <td>31611873</td>\n",
       "      <td>34108160</td>\n",
       "      <td>15459.506278</td>\n",
       "      <td>15450.499670</td>\n",
       "      <td>15405.780441</td>\n",
       "      <td>17.175814</td>\n",
       "      <td>455.570227</td>\n",
       "      <td>69169.272616</td>\n",
       "      <td>19.908175</td>\n",
       "      <td>0.361815</td>\n",
       "      <td>...</td>\n",
       "      <td>1.655491</td>\n",
       "      <td>3.411563</td>\n",
       "      <td>5300.444749</td>\n",
       "      <td>66.918064</td>\n",
       "      <td>26206.514839</td>\n",
       "      <td>1.189189</td>\n",
       "      <td>1.650359</td>\n",
       "      <td>2.741020</td>\n",
       "      <td>-7528.106408</td>\n",
       "      <td>0.546131</td>\n",
       "    </tr>\n",
       "    <tr>\n",
       "      <th>E</th>\n",
       "      <td>33533336</td>\n",
       "      <td>36115301</td>\n",
       "      <td>17998.146171</td>\n",
       "      <td>17970.831978</td>\n",
       "      <td>17907.977084</td>\n",
       "      <td>19.897322</td>\n",
       "      <td>514.993641</td>\n",
       "      <td>72119.152229</td>\n",
       "      <td>20.338847</td>\n",
       "      <td>0.365156</td>\n",
       "      <td>...</td>\n",
       "      <td>1.808172</td>\n",
       "      <td>3.713989</td>\n",
       "      <td>5188.916205</td>\n",
       "      <td>67.777839</td>\n",
       "      <td>26849.450016</td>\n",
       "      <td>1.380886</td>\n",
       "      <td>1.701524</td>\n",
       "      <td>3.144737</td>\n",
       "      <td>-9108.378959</td>\n",
       "      <td>0.510134</td>\n",
       "    </tr>\n",
       "    <tr>\n",
       "      <th>F</th>\n",
       "      <td>29935851</td>\n",
       "      <td>32308125</td>\n",
       "      <td>19139.160809</td>\n",
       "      <td>19098.808904</td>\n",
       "      <td>19005.420917</td>\n",
       "      <td>23.582787</td>\n",
       "      <td>565.654337</td>\n",
       "      <td>73801.170917</td>\n",
       "      <td>19.834316</td>\n",
       "      <td>0.370607</td>\n",
       "      <td>...</td>\n",
       "      <td>2.093458</td>\n",
       "      <td>4.056075</td>\n",
       "      <td>4926.726636</td>\n",
       "      <td>70.020561</td>\n",
       "      <td>25489.949626</td>\n",
       "      <td>1.595794</td>\n",
       "      <td>1.630841</td>\n",
       "      <td>3.696262</td>\n",
       "      <td>-8380.595122</td>\n",
       "      <td>0.573809</td>\n",
       "    </tr>\n",
       "    <tr>\n",
       "      <th>G</th>\n",
       "      <td>28598972</td>\n",
       "      <td>30896095</td>\n",
       "      <td>20538.563491</td>\n",
       "      <td>20497.959555</td>\n",
       "      <td>20296.247792</td>\n",
       "      <td>25.626706</td>\n",
       "      <td>627.054815</td>\n",
       "      <td>79904.591762</td>\n",
       "      <td>19.182093</td>\n",
       "      <td>0.424303</td>\n",
       "      <td>...</td>\n",
       "      <td>2.272727</td>\n",
       "      <td>4.181818</td>\n",
       "      <td>3825.352273</td>\n",
       "      <td>70.452273</td>\n",
       "      <td>25553.756678</td>\n",
       "      <td>1.761364</td>\n",
       "      <td>1.284091</td>\n",
       "      <td>4.204545</td>\n",
       "      <td>-8243.539554</td>\n",
       "      <td>0.593060</td>\n",
       "    </tr>\n",
       "  </tbody>\n",
       "</table>\n",
       "<p>7 rows × 53 columns</p>\n",
       "</div>"
      ],
      "text/plain": [
       "             id  member_id     loan_amnt   funded_amnt  funded_amnt_inv  \\\n",
       "grade                                                                     \n",
       "A      33120857   35667862  14038.860306  14023.323572     14000.506187   \n",
       "B      31633490   34127959  13642.965211  13630.195062     13594.642917   \n",
       "C      33431341   36036201  14466.306028  14458.230599     14423.251934   \n",
       "D      31611873   34108160  15459.506278  15450.499670     15405.780441   \n",
       "E      33533336   36115301  17998.146171  17970.831978     17907.977084   \n",
       "F      29935851   32308125  19139.160809  19098.808904     19005.420917   \n",
       "G      28598972   30896095  20538.563491  20497.959555     20296.247792   \n",
       "\n",
       "        int_rate  installment    annual_inc        dti  delinq_2yrs    ...     \\\n",
       "grade                                                                  ...      \n",
       "A       7.243312   427.599175  86942.651653  15.577401     0.185855    ...      \n",
       "B      10.829618   408.439291  75487.389207  17.305115     0.308154    ...      \n",
       "C      13.980098   421.942081  71536.950300  18.792559     0.349268    ...      \n",
       "D      17.175814   455.570227  69169.272616  19.908175     0.361815    ...      \n",
       "E      19.897322   514.993641  72119.152229  20.338847     0.365156    ...      \n",
       "F      23.582787   565.654337  73801.170917  19.834316     0.370607    ...      \n",
       "G      25.626706   627.054815  79904.591762  19.182093     0.424303    ...      \n",
       "\n",
       "       open_rv_12m  open_rv_24m   max_bal_bc   all_util  total_rev_hi_lim  \\\n",
       "grade                                                                       \n",
       "A         1.027260     2.334143  7072.432659  49.404966      47014.290774   \n",
       "B         1.243783     2.756522  5936.938825  59.140656      32701.382733   \n",
       "C         1.474073     3.120244  5664.896613  64.175068      28450.268219   \n",
       "D         1.655491     3.411563  5300.444749  66.918064      26206.514839   \n",
       "E         1.808172     3.713989  5188.916205  67.777839      26849.450016   \n",
       "F         2.093458     4.056075  4926.726636  70.020561      25489.949626   \n",
       "G         2.272727     4.181818  3825.352273  70.452273      25553.756678   \n",
       "\n",
       "         inq_fi  total_cu_tl  inq_last_12m       profit  paid_per  \n",
       "grade                                                              \n",
       "A      0.633198     1.551417      0.967341 -6955.039480  0.531405  \n",
       "B      0.778795     1.434935      1.592067 -6364.152117  0.561261  \n",
       "C      1.029860     1.541821      2.204848 -7282.825179  0.520708  \n",
       "D      1.189189     1.650359      2.741020 -7528.106408  0.546131  \n",
       "E      1.380886     1.701524      3.144737 -9108.378959  0.510134  \n",
       "F      1.595794     1.630841      3.696262 -8380.595122  0.573809  \n",
       "G      1.761364     1.284091      4.204545 -8243.539554  0.593060  \n",
       "\n",
       "[7 rows x 53 columns]"
      ]
     },
     "execution_count": 32,
     "metadata": {},
     "output_type": "execute_result"
    }
   ],
   "source": [
    "df.groupby('grade').mean()"
   ]
  },
  {
   "cell_type": "code",
   "execution_count": 33,
   "metadata": {
    "collapsed": false,
    "nbpresent": {
     "id": "b65bf9d2-671c-4df0-9ba8-cc1c51213d03"
    }
   },
   "outputs": [
    {
     "data": {
      "text/plain": [
       "<matplotlib.axes._subplots.AxesSubplot at 0x11242d650>"
      ]
     },
     "execution_count": 33,
     "metadata": {},
     "output_type": "execute_result"
    },
    {
     "data": {
      "image/png": "[encoded data removed]",
      "text/plain": [
       "<matplotlib.figure.Figure at 0x11243e390>"
      ]
     },
     "metadata": {},
     "output_type": "display_data"
    }
   ],
   "source": [
    "# Interest rate assigned to each grade\n",
    "df.boxplot(column='int_rate', by='grade')"
   ]
  },
  {
   "cell_type": "code",
   "execution_count": 34,
   "metadata": {
    "collapsed": false,
    "nbpresent": {
     "id": "2fd50cc4-df15-45b9-a81d-16033b5bf649"
    }
   },
   "outputs": [
    {
     "data": {
      "text/plain": [
       "<matplotlib.axes._subplots.AxesSubplot at 0x111be3a90>"
      ]
     },
     "execution_count": 34,
     "metadata": {},
     "output_type": "execute_result"
    },
    {
     "data": {
      "image/png": "[encoded data removed]",
      "text/plain": [
       "<matplotlib.figure.Figure at 0x120cf8190>"
      ]
     },
     "metadata": {},
     "output_type": "display_data"
    }
   ],
   "source": [
    "df.boxplot(column='int_rate', by='issue_y')"
   ]
  },
  {
   "cell_type": "code",
   "execution_count": 35,
   "metadata": {
    "collapsed": false,
    "nbpresent": {
     "id": "6ebdaee9-78d7-4c69-96be-c57d6adf1fea"
    }
   },
   "outputs": [
    {
     "data": {
      "text/plain": [
       "<matplotlib.legend.Legend at 0x112436490>"
      ]
     },
     "execution_count": 35,
     "metadata": {},
     "output_type": "execute_result"
    },
    {
     "data": {
      "image/png": "[encoded data removed]",
      "text/plain": [
       "<matplotlib.figure.Figure at 0x12085add0>"
      ]
     },
     "metadata": {},
     "output_type": "display_data"
    }
   ],
   "source": [
    "ax = pd.pivot_table(df, values=['int_rate'], \n",
    "               index = ['issue_y'], columns=['grade'], aggfunc=np.mean).plot(style = 'o-',\n",
    "               alpha=0.7, ylim=[0,30], figsize=(10,5), legend=False)\n",
    "patches, labels = ax.get_legend_handles_labels()\n",
    "ax.legend(patches, labels, loc='best')"
   ]
  },
  {
   "cell_type": "code",
   "execution_count": null,
   "metadata": {
    "collapsed": true,
    "nbpresent": {
     "id": "3d5c6f26-63b1-4bb9-a0b1-ebc58b5ce7fb"
    }
   },
   "outputs": [],
   "source": []
  },
  {
   "cell_type": "markdown",
   "metadata": {
    "nbpresent": {
     "id": "8c8aa991-d5e5-493d-84f6-c948b7b25a5c"
    }
   },
   "source": [
    "### Customer profile"
   ]
  },
  {
   "cell_type": "code",
   "execution_count": 36,
   "metadata": {
    "collapsed": false,
    "nbpresent": {
     "id": "2f1729c4-8287-4e7e-a586-f1d1a6a4c8b6"
    }
   },
   "outputs": [
    {
     "data": {
      "text/plain": [
       "<matplotlib.axes._subplots.AxesSubplot at 0x1205d4dd0>"
      ]
     },
     "execution_count": 36,
     "metadata": {},
     "output_type": "execute_result"
    },
    {
     "data": {
      "image/png": "[encoded data removed]",
      "text/plain": [
       "<matplotlib.figure.Figure at 0x12085a090>"
      ]
     },
     "metadata": {},
     "output_type": "display_data"
    }
   ],
   "source": [
    "df.groupby('loan_status').count()['id'].plot.bar()"
   ]
  },
  {
   "cell_type": "code",
   "execution_count": 37,
   "metadata": {
    "collapsed": false,
    "nbpresent": {
     "id": "23100d5b-a82a-482f-b5bc-0260ccc32852"
    }
   },
   "outputs": [
    {
     "data": {
      "text/plain": [
       "(<matplotlib.axes._subplots.AxesSubplot at 0x120623790>,\n",
       " <matplotlib.axes._subplots.AxesSubplot at 0x121ab0a90>)"
      ]
     },
     "execution_count": 37,
     "metadata": {},
     "output_type": "execute_result"
    },
    {
     "data": {
      "image/png": "[encoded data removed]",
      "text/plain": [
       "<matplotlib.figure.Figure at 0x1206c3550>"
      ]
     },
     "metadata": {},
     "output_type": "display_data"
    },
    {
     "data": {
      "image/png": "[encoded data removed]",
      "text/plain": [
       "<matplotlib.figure.Figure at 0x120727790>"
      ]
     },
     "metadata": {},
     "output_type": "display_data"
    }
   ],
   "source": [
    "# The number of people in each grade and the payback for each grade\n",
    "df.groupby('grade').count()['id'].plot.bar(), df.groupby('grade').sum()[['profit', 'funded_amnt']].plot.bar()"
   ]
  },
  {
   "cell_type": "code",
   "execution_count": 38,
   "metadata": {
    "collapsed": false,
    "nbpresent": {
     "id": "e937164c-0c9d-4ca3-9953-cd471881aa5f"
    }
   },
   "outputs": [],
   "source": [
    "dt=df[df.loan_status.isin(['Fully Paid','Charged Off'])]"
   ]
  },
  {
   "cell_type": "markdown",
   "metadata": {
    "nbpresent": {
     "id": "21877307-530b-46a6-a6b3-8e69c33a7467"
    }
   },
   "source": [
    "### find params that are statistically different"
   ]
  },
  {
   "cell_type": "code",
   "execution_count": 39,
   "metadata": {
    "collapsed": false,
    "nbpresent": {
     "id": "4942cdee-d869-4165-b1d4-6814b675f22b"
    }
   },
   "outputs": [
    {
     "data": {
      "text/plain": [
       "<matplotlib.axes._subplots.AxesSubplot at 0x121b15810>"
      ]
     },
     "execution_count": 39,
     "metadata": {},
     "output_type": "execute_result"
    },
    {
     "data": {
      "image/png": "[encoded data removed]",
      "text/plain": [
       "<matplotlib.figure.Figure at 0x1223c1ad0>"
      ]
     },
     "metadata": {},
     "output_type": "display_data"
    }
   ],
   "source": [
    "dt[dt.annual_inc<150000].boxplot(column='annual_inc', by='loan_status')"
   ]
  },
  {
   "cell_type": "code",
   "execution_count": 40,
   "metadata": {
    "collapsed": false,
    "nbpresent": {
     "id": "b75fe0fc-f6c8-45ea-8dc5-2cb617dc545f"
    }
   },
   "outputs": [
    {
     "data": {
      "text/plain": [
       "<matplotlib.axes._subplots.AxesSubplot at 0x1206cbf10>"
      ]
     },
     "execution_count": 40,
     "metadata": {},
     "output_type": "execute_result"
    },
    {
     "data": {
      "image/png": "[encoded data removed]",
      "text/plain": [
       "<matplotlib.figure.Figure at 0x123469450>"
      ]
     },
     "metadata": {},
     "output_type": "display_data"
    }
   ],
   "source": [
    "dt.boxplot(column='loan_amnt', by='loan_status')"
   ]
  },
  {
   "cell_type": "code",
   "execution_count": 41,
   "metadata": {
    "collapsed": false,
    "nbpresent": {
     "id": "526e69da-e074-46dd-bfa1-55a0c9f31218"
    }
   },
   "outputs": [
    {
     "data": {
      "text/plain": [
       "<matplotlib.axes._subplots.AxesSubplot at 0x1265e55d0>"
      ]
     },
     "execution_count": 41,
     "metadata": {},
     "output_type": "execute_result"
    },
    {
     "data": {
      "image/png": "[encoded data removed]",
      "text/plain": [
       "<matplotlib.figure.Figure at 0x123454dd0>"
      ]
     },
     "metadata": {},
     "output_type": "display_data"
    }
   ],
   "source": [
    "dt.boxplot(column='inq_last_6mths', by='loan_status')"
   ]
  },
  {
   "cell_type": "code",
   "execution_count": 42,
   "metadata": {
    "collapsed": false,
    "nbpresent": {
     "id": "5eeed4ce-41ee-47a0-9ef9-83b8ecb602e2"
    }
   },
   "outputs": [
    {
     "data": {
      "text/plain": [
       "<matplotlib.axes._subplots.AxesSubplot at 0x121f0aed0>"
      ]
     },
     "execution_count": 42,
     "metadata": {},
     "output_type": "execute_result"
    },
    {
     "data": {
      "image/png": "[encoded data removed]",
      "text/plain": [
       "<matplotlib.figure.Figure at 0x121f01910>"
      ]
     },
     "metadata": {},
     "output_type": "display_data"
    }
   ],
   "source": [
    "dt.boxplot(column='dti', by='loan_status')"
   ]
  },
  {
   "cell_type": "code",
   "execution_count": 43,
   "metadata": {
    "collapsed": false,
    "nbpresent": {
     "id": "6ae5f470-b285-4e15-87da-f430ed347596"
    }
   },
   "outputs": [
    {
     "data": {
      "text/plain": [
       "<matplotlib.axes._subplots.AxesSubplot at 0x121f0ad10>"
      ]
     },
     "execution_count": 43,
     "metadata": {},
     "output_type": "execute_result"
    },
    {
     "data": {
      "image/png": "[encoded data removed]",
      "text/plain": [
       "<matplotlib.figure.Figure at 0x1218244d0>"
      ]
     },
     "metadata": {},
     "output_type": "display_data"
    }
   ],
   "source": [
    "dt[dt.revol_util<120].boxplot(column='revol_util', by='loan_status')"
   ]
  },
  {
   "cell_type": "code",
   "execution_count": 44,
   "metadata": {
    "collapsed": false,
    "nbpresent": {
     "id": "28d7bbc1-65d1-4bb6-85df-93f3e8d176c3"
    }
   },
   "outputs": [
    {
     "data": {
      "text/plain": [
       "<matplotlib.axes._subplots.AxesSubplot at 0x121e4f390>"
      ]
     },
     "execution_count": 44,
     "metadata": {},
     "output_type": "execute_result"
    },
    {
     "data": {
      "image/png": "[encoded data removed]",
      "text/plain": [
       "<matplotlib.figure.Figure at 0x121ca8e90>"
      ]
     },
     "metadata": {},
     "output_type": "display_data"
    }
   ],
   "source": [
    "dt[dt.installment<1000].boxplot(column='installment', by='loan_status')"
   ]
  },
  {
   "cell_type": "code",
   "execution_count": 45,
   "metadata": {
    "collapsed": false,
    "nbpresent": {
     "id": "f6f39e96-33f3-4994-8611-4de4236fd8b6"
    }
   },
   "outputs": [
    {
     "data": {
      "text/html": [
       "<div>\n",
       "<table border=\"1\" class=\"dataframe\">\n",
       "  <thead>\n",
       "    <tr style=\"text-align: right;\">\n",
       "      <th></th>\n",
       "      <th></th>\n",
       "      <th>acc_now_delinq</th>\n",
       "      <th>all_util</th>\n",
       "      <th>annual_inc</th>\n",
       "      <th>annual_inc_joint</th>\n",
       "      <th>collection_recovery_fee</th>\n",
       "      <th>collections_12_mths_ex_med</th>\n",
       "      <th>delinq_2yrs</th>\n",
       "      <th>dti</th>\n",
       "      <th>dti_joint</th>\n",
       "      <th>funded_amnt</th>\n",
       "      <th>...</th>\n",
       "      <th>tot_cur_bal</th>\n",
       "      <th>total_acc</th>\n",
       "      <th>total_bal_il</th>\n",
       "      <th>total_cu_tl</th>\n",
       "      <th>total_pymnt</th>\n",
       "      <th>total_pymnt_inv</th>\n",
       "      <th>total_rec_int</th>\n",
       "      <th>total_rec_late_fee</th>\n",
       "      <th>total_rec_prncp</th>\n",
       "      <th>total_rev_hi_lim</th>\n",
       "    </tr>\n",
       "    <tr>\n",
       "      <th>loan_status</th>\n",
       "      <th></th>\n",
       "      <th></th>\n",
       "      <th></th>\n",
       "      <th></th>\n",
       "      <th></th>\n",
       "      <th></th>\n",
       "      <th></th>\n",
       "      <th></th>\n",
       "      <th></th>\n",
       "      <th></th>\n",
       "      <th></th>\n",
       "      <th></th>\n",
       "      <th></th>\n",
       "      <th></th>\n",
       "      <th></th>\n",
       "      <th></th>\n",
       "      <th></th>\n",
       "      <th></th>\n",
       "      <th></th>\n",
       "      <th></th>\n",
       "      <th></th>\n",
       "      <th></th>\n",
       "    </tr>\n",
       "  </thead>\n",
       "  <tbody>\n",
       "    <tr>\n",
       "      <th rowspan=\"8\" valign=\"top\">Charged Off</th>\n",
       "      <th>count</th>\n",
       "      <td>45248.000000</td>\n",
       "      <td>0.000000</td>\n",
       "      <td>4.524800e+04</td>\n",
       "      <td>0.0</td>\n",
       "      <td>45248.000000</td>\n",
       "      <td>45242.000000</td>\n",
       "      <td>45248.000000</td>\n",
       "      <td>45248.000000</td>\n",
       "      <td>0.0</td>\n",
       "      <td>45248.000000</td>\n",
       "      <td>...</td>\n",
       "      <td>3.522900e+04</td>\n",
       "      <td>45248.000000</td>\n",
       "      <td>0.000000</td>\n",
       "      <td>0.000000</td>\n",
       "      <td>45248.000000</td>\n",
       "      <td>45248.000000</td>\n",
       "      <td>45248.000000</td>\n",
       "      <td>45248.000000</td>\n",
       "      <td>45248.000000</td>\n",
       "      <td>3.522900e+04</td>\n",
       "    </tr>\n",
       "    <tr>\n",
       "      <th>mean</th>\n",
       "      <td>0.003912</td>\n",
       "      <td>NaN</td>\n",
       "      <td>6.508513e+04</td>\n",
       "      <td>NaN</td>\n",
       "      <td>93.663741</td>\n",
       "      <td>0.008068</td>\n",
       "      <td>0.276056</td>\n",
       "      <td>18.403126</td>\n",
       "      <td>NaN</td>\n",
       "      <td>14510.749094</td>\n",
       "      <td>...</td>\n",
       "      <td>1.144548e+05</td>\n",
       "      <td>24.199523</td>\n",
       "      <td>NaN</td>\n",
       "      <td>NaN</td>\n",
       "      <td>6369.612648</td>\n",
       "      <td>6307.613425</td>\n",
       "      <td>2149.980337</td>\n",
       "      <td>2.460229</td>\n",
       "      <td>3326.366919</td>\n",
       "      <td>2.636858e+04</td>\n",
       "    </tr>\n",
       "    <tr>\n",
       "      <th>std</th>\n",
       "      <td>0.070722</td>\n",
       "      <td>NaN</td>\n",
       "      <td>5.697144e+04</td>\n",
       "      <td>NaN</td>\n",
       "      <td>256.002276</td>\n",
       "      <td>0.094972</td>\n",
       "      <td>0.791679</td>\n",
       "      <td>7.939290</td>\n",
       "      <td>NaN</td>\n",
       "      <td>8366.823080</td>\n",
       "      <td>...</td>\n",
       "      <td>1.276264e+05</td>\n",
       "      <td>11.512114</td>\n",
       "      <td>NaN</td>\n",
       "      <td>NaN</td>\n",
       "      <td>5421.565870</td>\n",
       "      <td>5397.447155</td>\n",
       "      <td>2239.897335</td>\n",
       "      <td>10.126379</td>\n",
       "      <td>3282.270404</td>\n",
       "      <td>2.538069e+04</td>\n",
       "    </tr>\n",
       "    <tr>\n",
       "      <th>min</th>\n",
       "      <td>0.000000</td>\n",
       "      <td>NaN</td>\n",
       "      <td>4.080000e+03</td>\n",
       "      <td>NaN</td>\n",
       "      <td>0.000000</td>\n",
       "      <td>0.000000</td>\n",
       "      <td>0.000000</td>\n",
       "      <td>0.000000</td>\n",
       "      <td>NaN</td>\n",
       "      <td>900.000000</td>\n",
       "      <td>...</td>\n",
       "      <td>0.000000e+00</td>\n",
       "      <td>2.000000</td>\n",
       "      <td>NaN</td>\n",
       "      <td>NaN</td>\n",
       "      <td>0.000000</td>\n",
       "      <td>0.000000</td>\n",
       "      <td>0.000000</td>\n",
       "      <td>0.000000</td>\n",
       "      <td>0.000000</td>\n",
       "      <td>0.000000e+00</td>\n",
       "    </tr>\n",
       "    <tr>\n",
       "      <th>25%</th>\n",
       "      <td>0.000000</td>\n",
       "      <td>NaN</td>\n",
       "      <td>4.000000e+04</td>\n",
       "      <td>NaN</td>\n",
       "      <td>0.000000</td>\n",
       "      <td>NaN</td>\n",
       "      <td>0.000000</td>\n",
       "      <td>12.570000</td>\n",
       "      <td>NaN</td>\n",
       "      <td>8000.000000</td>\n",
       "      <td>...</td>\n",
       "      <td>NaN</td>\n",
       "      <td>16.000000</td>\n",
       "      <td>NaN</td>\n",
       "      <td>NaN</td>\n",
       "      <td>2502.757500</td>\n",
       "      <td>2460.305000</td>\n",
       "      <td>683.550000</td>\n",
       "      <td>0.000000</td>\n",
       "      <td>1103.170000</td>\n",
       "      <td>NaN</td>\n",
       "    </tr>\n",
       "    <tr>\n",
       "      <th>50%</th>\n",
       "      <td>0.000000</td>\n",
       "      <td>NaN</td>\n",
       "      <td>5.600000e+04</td>\n",
       "      <td>NaN</td>\n",
       "      <td>1.070000</td>\n",
       "      <td>NaN</td>\n",
       "      <td>0.000000</td>\n",
       "      <td>18.350000</td>\n",
       "      <td>NaN</td>\n",
       "      <td>12600.000000</td>\n",
       "      <td>...</td>\n",
       "      <td>NaN</td>\n",
       "      <td>23.000000</td>\n",
       "      <td>NaN</td>\n",
       "      <td>NaN</td>\n",
       "      <td>4873.240000</td>\n",
       "      <td>4809.995000</td>\n",
       "      <td>1430.355000</td>\n",
       "      <td>0.000000</td>\n",
       "      <td>2319.400000</td>\n",
       "      <td>NaN</td>\n",
       "    </tr>\n",
       "    <tr>\n",
       "      <th>75%</th>\n",
       "      <td>0.000000</td>\n",
       "      <td>NaN</td>\n",
       "      <td>7.800000e+04</td>\n",
       "      <td>NaN</td>\n",
       "      <td>26.640550</td>\n",
       "      <td>NaN</td>\n",
       "      <td>0.000000</td>\n",
       "      <td>24.092500</td>\n",
       "      <td>NaN</td>\n",
       "      <td>20000.000000</td>\n",
       "      <td>...</td>\n",
       "      <td>NaN</td>\n",
       "      <td>31.000000</td>\n",
       "      <td>NaN</td>\n",
       "      <td>NaN</td>\n",
       "      <td>8624.952500</td>\n",
       "      <td>8545.525000</td>\n",
       "      <td>2770.925000</td>\n",
       "      <td>0.000000</td>\n",
       "      <td>4448.952500</td>\n",
       "      <td>NaN</td>\n",
       "    </tr>\n",
       "    <tr>\n",
       "      <th>max</th>\n",
       "      <td>5.000000</td>\n",
       "      <td>NaN</td>\n",
       "      <td>8.706582e+06</td>\n",
       "      <td>NaN</td>\n",
       "      <td>7002.190000</td>\n",
       "      <td>4.000000</td>\n",
       "      <td>18.000000</td>\n",
       "      <td>39.980000</td>\n",
       "      <td>NaN</td>\n",
       "      <td>35000.000000</td>\n",
       "      <td>...</td>\n",
       "      <td>3.437283e+06</td>\n",
       "      <td>110.000000</td>\n",
       "      <td>NaN</td>\n",
       "      <td>NaN</td>\n",
       "      <td>46199.440000</td>\n",
       "      <td>46162.550000</td>\n",
       "      <td>20610.170000</td>\n",
       "      <td>358.680000</td>\n",
       "      <td>34483.270000</td>\n",
       "      <td>1.998700e+06</td>\n",
       "    </tr>\n",
       "    <tr>\n",
       "      <th rowspan=\"8\" valign=\"top\">Fully Paid</th>\n",
       "      <th>count</th>\n",
       "      <td>207723.000000</td>\n",
       "      <td>144.000000</td>\n",
       "      <td>2.077230e+05</td>\n",
       "      <td>1.0</td>\n",
       "      <td>207723.000000</td>\n",
       "      <td>207673.000000</td>\n",
       "      <td>207723.000000</td>\n",
       "      <td>207723.000000</td>\n",
       "      <td>1.0</td>\n",
       "      <td>207723.000000</td>\n",
       "      <td>...</td>\n",
       "      <td>1.540340e+05</td>\n",
       "      <td>207723.000000</td>\n",
       "      <td>144.000000</td>\n",
       "      <td>144.000000</td>\n",
       "      <td>207723.000000</td>\n",
       "      <td>207723.000000</td>\n",
       "      <td>207723.000000</td>\n",
       "      <td>207723.000000</td>\n",
       "      <td>207723.000000</td>\n",
       "      <td>1.540340e+05</td>\n",
       "    </tr>\n",
       "    <tr>\n",
       "      <th>mean</th>\n",
       "      <td>0.002941</td>\n",
       "      <td>58.945139</td>\n",
       "      <td>7.416175e+04</td>\n",
       "      <td>36000.0</td>\n",
       "      <td>0.000000</td>\n",
       "      <td>0.006433</td>\n",
       "      <td>0.244219</td>\n",
       "      <td>16.139156</td>\n",
       "      <td>17.6</td>\n",
       "      <td>13306.858172</td>\n",
       "      <td>...</td>\n",
       "      <td>1.437919e+05</td>\n",
       "      <td>25.218093</td>\n",
       "      <td>36462.312500</td>\n",
       "      <td>2.097222</td>\n",
       "      <td>15186.680773</td>\n",
       "      <td>15081.305566</td>\n",
       "      <td>1902.410501</td>\n",
       "      <td>0.335583</td>\n",
       "      <td>13283.934697</td>\n",
       "      <td>3.047313e+04</td>\n",
       "    </tr>\n",
       "    <tr>\n",
       "      <th>std</th>\n",
       "      <td>0.058101</td>\n",
       "      <td>20.356957</td>\n",
       "      <td>5.908066e+04</td>\n",
       "      <td>NaN</td>\n",
       "      <td>0.000000</td>\n",
       "      <td>0.087649</td>\n",
       "      <td>0.728877</td>\n",
       "      <td>7.696190</td>\n",
       "      <td>NaN</td>\n",
       "      <td>8035.909683</td>\n",
       "      <td>...</td>\n",
       "      <td>1.570543e+05</td>\n",
       "      <td>11.789864</td>\n",
       "      <td>38137.563875</td>\n",
       "      <td>3.903234</td>\n",
       "      <td>9446.055451</td>\n",
       "      <td>9456.822383</td>\n",
       "      <td>2022.816723</td>\n",
       "      <td>3.574886</td>\n",
       "      <td>8037.754633</td>\n",
       "      <td>3.033278e+04</td>\n",
       "    </tr>\n",
       "    <tr>\n",
       "      <th>min</th>\n",
       "      <td>0.000000</td>\n",
       "      <td>7.900000</td>\n",
       "      <td>3.000000e+03</td>\n",
       "      <td>36000.0</td>\n",
       "      <td>0.000000</td>\n",
       "      <td>0.000000</td>\n",
       "      <td>0.000000</td>\n",
       "      <td>0.000000</td>\n",
       "      <td>17.6</td>\n",
       "      <td>500.000000</td>\n",
       "      <td>...</td>\n",
       "      <td>0.000000e+00</td>\n",
       "      <td>2.000000</td>\n",
       "      <td>0.000000</td>\n",
       "      <td>0.000000</td>\n",
       "      <td>0.000000</td>\n",
       "      <td>0.000000</td>\n",
       "      <td>0.000000</td>\n",
       "      <td>0.000000</td>\n",
       "      <td>0.000000</td>\n",
       "      <td>0.000000e+00</td>\n",
       "    </tr>\n",
       "    <tr>\n",
       "      <th>25%</th>\n",
       "      <td>0.000000</td>\n",
       "      <td>NaN</td>\n",
       "      <td>4.500000e+04</td>\n",
       "      <td>NaN</td>\n",
       "      <td>0.000000</td>\n",
       "      <td>NaN</td>\n",
       "      <td>0.000000</td>\n",
       "      <td>10.420000</td>\n",
       "      <td>NaN</td>\n",
       "      <td>7150.000000</td>\n",
       "      <td>...</td>\n",
       "      <td>NaN</td>\n",
       "      <td>17.000000</td>\n",
       "      <td>NaN</td>\n",
       "      <td>NaN</td>\n",
       "      <td>8056.396456</td>\n",
       "      <td>7931.415000</td>\n",
       "      <td>619.300000</td>\n",
       "      <td>0.000000</td>\n",
       "      <td>7075.000000</td>\n",
       "      <td>NaN</td>\n",
       "    </tr>\n",
       "    <tr>\n",
       "      <th>50%</th>\n",
       "      <td>0.000000</td>\n",
       "      <td>NaN</td>\n",
       "      <td>6.416200e+04</td>\n",
       "      <td>NaN</td>\n",
       "      <td>0.000000</td>\n",
       "      <td>NaN</td>\n",
       "      <td>0.000000</td>\n",
       "      <td>15.750000</td>\n",
       "      <td>NaN</td>\n",
       "      <td>12000.000000</td>\n",
       "      <td>...</td>\n",
       "      <td>NaN</td>\n",
       "      <td>24.000000</td>\n",
       "      <td>NaN</td>\n",
       "      <td>NaN</td>\n",
       "      <td>12963.170000</td>\n",
       "      <td>12868.260000</td>\n",
       "      <td>1284.800000</td>\n",
       "      <td>0.000000</td>\n",
       "      <td>11999.970000</td>\n",
       "      <td>NaN</td>\n",
       "    </tr>\n",
       "    <tr>\n",
       "      <th>75%</th>\n",
       "      <td>0.000000</td>\n",
       "      <td>NaN</td>\n",
       "      <td>9.000000e+04</td>\n",
       "      <td>NaN</td>\n",
       "      <td>0.000000</td>\n",
       "      <td>NaN</td>\n",
       "      <td>0.000000</td>\n",
       "      <td>21.480000</td>\n",
       "      <td>NaN</td>\n",
       "      <td>18000.000000</td>\n",
       "      <td>...</td>\n",
       "      <td>NaN</td>\n",
       "      <td>32.000000</td>\n",
       "      <td>NaN</td>\n",
       "      <td>NaN</td>\n",
       "      <td>20538.335773</td>\n",
       "      <td>20430.315000</td>\n",
       "      <td>2428.315000</td>\n",
       "      <td>0.000000</td>\n",
       "      <td>18000.000000</td>\n",
       "      <td>NaN</td>\n",
       "    </tr>\n",
       "    <tr>\n",
       "      <th>max</th>\n",
       "      <td>5.000000</td>\n",
       "      <td>102.800000</td>\n",
       "      <td>7.141778e+06</td>\n",
       "      <td>36000.0</td>\n",
       "      <td>0.000000</td>\n",
       "      <td>6.000000</td>\n",
       "      <td>29.000000</td>\n",
       "      <td>57.140000</td>\n",
       "      <td>17.6</td>\n",
       "      <td>35000.000000</td>\n",
       "      <td>...</td>\n",
       "      <td>8.000078e+06</td>\n",
       "      <td>150.000000</td>\n",
       "      <td>249212.000000</td>\n",
       "      <td>21.000000</td>\n",
       "      <td>57777.579870</td>\n",
       "      <td>57777.580000</td>\n",
       "      <td>22777.580000</td>\n",
       "      <td>286.747566</td>\n",
       "      <td>35000.030000</td>\n",
       "      <td>2.013133e+06</td>\n",
       "    </tr>\n",
       "  </tbody>\n",
       "</table>\n",
       "<p>16 rows × 53 columns</p>\n",
       "</div>"
      ],
      "text/plain": [
       "                   acc_now_delinq    all_util    annual_inc  annual_inc_joint  \\\n",
       "loan_status                                                                     \n",
       "Charged Off count    45248.000000    0.000000  4.524800e+04               0.0   \n",
       "            mean         0.003912         NaN  6.508513e+04               NaN   \n",
       "            std          0.070722         NaN  5.697144e+04               NaN   \n",
       "            min          0.000000         NaN  4.080000e+03               NaN   \n",
       "            25%          0.000000         NaN  4.000000e+04               NaN   \n",
       "            50%          0.000000         NaN  5.600000e+04               NaN   \n",
       "            75%          0.000000         NaN  7.800000e+04               NaN   \n",
       "            max          5.000000         NaN  8.706582e+06               NaN   \n",
       "Fully Paid  count   207723.000000  144.000000  2.077230e+05               1.0   \n",
       "            mean         0.002941   58.945139  7.416175e+04           36000.0   \n",
       "            std          0.058101   20.356957  5.908066e+04               NaN   \n",
       "            min          0.000000    7.900000  3.000000e+03           36000.0   \n",
       "            25%          0.000000         NaN  4.500000e+04               NaN   \n",
       "            50%          0.000000         NaN  6.416200e+04               NaN   \n",
       "            75%          0.000000         NaN  9.000000e+04               NaN   \n",
       "            max          5.000000  102.800000  7.141778e+06           36000.0   \n",
       "\n",
       "                   collection_recovery_fee  collections_12_mths_ex_med  \\\n",
       "loan_status                                                              \n",
       "Charged Off count             45248.000000                45242.000000   \n",
       "            mean                 93.663741                    0.008068   \n",
       "            std                 256.002276                    0.094972   \n",
       "            min                   0.000000                    0.000000   \n",
       "            25%                   0.000000                         NaN   \n",
       "            50%                   1.070000                         NaN   \n",
       "            75%                  26.640550                         NaN   \n",
       "            max                7002.190000                    4.000000   \n",
       "Fully Paid  count            207723.000000               207673.000000   \n",
       "            mean                  0.000000                    0.006433   \n",
       "            std                   0.000000                    0.087649   \n",
       "            min                   0.000000                    0.000000   \n",
       "            25%                   0.000000                         NaN   \n",
       "            50%                   0.000000                         NaN   \n",
       "            75%                   0.000000                         NaN   \n",
       "            max                   0.000000                    6.000000   \n",
       "\n",
       "                     delinq_2yrs            dti  dti_joint    funded_amnt  \\\n",
       "loan_status                                                                 \n",
       "Charged Off count   45248.000000   45248.000000        0.0   45248.000000   \n",
       "            mean        0.276056      18.403126        NaN   14510.749094   \n",
       "            std         0.791679       7.939290        NaN    8366.823080   \n",
       "            min         0.000000       0.000000        NaN     900.000000   \n",
       "            25%         0.000000      12.570000        NaN    8000.000000   \n",
       "            50%         0.000000      18.350000        NaN   12600.000000   \n",
       "            75%         0.000000      24.092500        NaN   20000.000000   \n",
       "            max        18.000000      39.980000        NaN   35000.000000   \n",
       "Fully Paid  count  207723.000000  207723.000000        1.0  207723.000000   \n",
       "            mean        0.244219      16.139156       17.6   13306.858172   \n",
       "            std         0.728877       7.696190        NaN    8035.909683   \n",
       "            min         0.000000       0.000000       17.6     500.000000   \n",
       "            25%         0.000000      10.420000        NaN    7150.000000   \n",
       "            50%         0.000000      15.750000        NaN   12000.000000   \n",
       "            75%         0.000000      21.480000        NaN   18000.000000   \n",
       "            max        29.000000      57.140000       17.6   35000.000000   \n",
       "\n",
       "                         ...          tot_cur_bal      total_acc  \\\n",
       "loan_status              ...                                       \n",
       "Charged Off count        ...         3.522900e+04   45248.000000   \n",
       "            mean         ...         1.144548e+05      24.199523   \n",
       "            std          ...         1.276264e+05      11.512114   \n",
       "            min          ...         0.000000e+00       2.000000   \n",
       "            25%          ...                  NaN      16.000000   \n",
       "            50%          ...                  NaN      23.000000   \n",
       "            75%          ...                  NaN      31.000000   \n",
       "            max          ...         3.437283e+06     110.000000   \n",
       "Fully Paid  count        ...         1.540340e+05  207723.000000   \n",
       "            mean         ...         1.437919e+05      25.218093   \n",
       "            std          ...         1.570543e+05      11.789864   \n",
       "            min          ...         0.000000e+00       2.000000   \n",
       "            25%          ...                  NaN      17.000000   \n",
       "            50%          ...                  NaN      24.000000   \n",
       "            75%          ...                  NaN      32.000000   \n",
       "            max          ...         8.000078e+06     150.000000   \n",
       "\n",
       "                    total_bal_il  total_cu_tl    total_pymnt  total_pymnt_inv  \\\n",
       "loan_status                                                                     \n",
       "Charged Off count       0.000000     0.000000   45248.000000     45248.000000   \n",
       "            mean             NaN          NaN    6369.612648      6307.613425   \n",
       "            std              NaN          NaN    5421.565870      5397.447155   \n",
       "            min              NaN          NaN       0.000000         0.000000   \n",
       "            25%              NaN          NaN    2502.757500      2460.305000   \n",
       "            50%              NaN          NaN    4873.240000      4809.995000   \n",
       "            75%              NaN          NaN    8624.952500      8545.525000   \n",
       "            max              NaN          NaN   46199.440000     46162.550000   \n",
       "Fully Paid  count     144.000000   144.000000  207723.000000    207723.000000   \n",
       "            mean    36462.312500     2.097222   15186.680773     15081.305566   \n",
       "            std     38137.563875     3.903234    9446.055451      9456.822383   \n",
       "            min         0.000000     0.000000       0.000000         0.000000   \n",
       "            25%              NaN          NaN    8056.396456      7931.415000   \n",
       "            50%              NaN          NaN   12963.170000     12868.260000   \n",
       "            75%              NaN          NaN   20538.335773     20430.315000   \n",
       "            max    249212.000000    21.000000   57777.579870     57777.580000   \n",
       "\n",
       "                   total_rec_int  total_rec_late_fee  total_rec_prncp  \\\n",
       "loan_status                                                             \n",
       "Charged Off count   45248.000000        45248.000000     45248.000000   \n",
       "            mean     2149.980337            2.460229      3326.366919   \n",
       "            std      2239.897335           10.126379      3282.270404   \n",
       "            min         0.000000            0.000000         0.000000   \n",
       "            25%       683.550000            0.000000      1103.170000   \n",
       "            50%      1430.355000            0.000000      2319.400000   \n",
       "            75%      2770.925000            0.000000      4448.952500   \n",
       "            max     20610.170000          358.680000     34483.270000   \n",
       "Fully Paid  count  207723.000000       207723.000000    207723.000000   \n",
       "            mean     1902.410501            0.335583     13283.934697   \n",
       "            std      2022.816723            3.574886      8037.754633   \n",
       "            min         0.000000            0.000000         0.000000   \n",
       "            25%       619.300000            0.000000      7075.000000   \n",
       "            50%      1284.800000            0.000000     11999.970000   \n",
       "            75%      2428.315000            0.000000     18000.000000   \n",
       "            max     22777.580000          286.747566     35000.030000   \n",
       "\n",
       "                   total_rev_hi_lim  \n",
       "loan_status                          \n",
       "Charged Off count      3.522900e+04  \n",
       "            mean       2.636858e+04  \n",
       "            std        2.538069e+04  \n",
       "            min        0.000000e+00  \n",
       "            25%                 NaN  \n",
       "            50%                 NaN  \n",
       "            75%                 NaN  \n",
       "            max        1.998700e+06  \n",
       "Fully Paid  count      1.540340e+05  \n",
       "            mean       3.047313e+04  \n",
       "            std        3.033278e+04  \n",
       "            min        0.000000e+00  \n",
       "            25%                 NaN  \n",
       "            50%                 NaN  \n",
       "            75%                 NaN  \n",
       "            max        2.013133e+06  \n",
       "\n",
       "[16 rows x 53 columns]"
      ]
     },
     "execution_count": 45,
     "metadata": {},
     "output_type": "execute_result"
    }
   ],
   "source": [
    "dt.groupby('loan_status').describe()"
   ]
  },
  {
   "cell_type": "markdown",
   "metadata": {
    "nbpresent": {
     "id": "979a99e5-88af-4f3b-aebf-428775a53be6"
    }
   },
   "source": [
    "### Model for interest assignment"
   ]
  },
  {
   "cell_type": "code",
   "execution_count": 46,
   "metadata": {
    "collapsed": false,
    "nbpresent": {
     "id": "cb72144f-ee69-4dcc-9fb7-0953914402c9"
    }
   },
   "outputs": [
    {
     "data": {
      "text/plain": [
       "<matplotlib.axes._subplots.AxesSubplot at 0x12225b590>"
      ]
     },
     "execution_count": 46,
     "metadata": {},
     "output_type": "execute_result"
    },
    {
     "data": {
      "image/png": "[encoded data removed]",
      "text/plain": [
       "<matplotlib.figure.Figure at 0x121cd3950>"
      ]
     },
     "metadata": {},
     "output_type": "display_data"
    }
   ],
   "source": [
    "# Charged off customers are growing\n",
    "dt[dt.loan_status=='Charged Off'].groupby('issue_y').count()['id'].plot.bar()"
   ]
  },
  {
   "cell_type": "code",
   "execution_count": 47,
   "metadata": {
    "collapsed": false,
    "nbpresent": {
     "id": "c964bd10-f882-44e8-a91c-642bf6388838"
    }
   },
   "outputs": [
    {
     "data": {
      "text/plain": [
       "<matplotlib.axes._subplots.AxesSubplot at 0x124679a10>"
      ]
     },
     "execution_count": 47,
     "metadata": {},
     "output_type": "execute_result"
    },
    {
     "data": {
      "image/png": "[encoded data removed]",
      "text/plain": [
       "<matplotlib.figure.Figure at 0x110f44610>"
      ]
     },
     "metadata": {},
     "output_type": "display_data"
    }
   ],
   "source": [
    "# Charged off amount are growing\n",
    "dt[dt.loan_status=='Charged Off'].groupby('issue_y').sum()['profit'].plot.bar()"
   ]
  },
  {
   "cell_type": "code",
   "execution_count": 48,
   "metadata": {
    "collapsed": false,
    "nbpresent": {
     "id": "c1cf976a-3a60-4c3e-ae6a-9eaf7f8080f1"
    }
   },
   "outputs": [
    {
     "data": {
      "text/plain": [
       "<matplotlib.axes._subplots.AxesSubplot at 0x12214a750>"
      ]
     },
     "execution_count": 48,
     "metadata": {},
     "output_type": "execute_result"
    },
    {
     "data": {
      "image/png": "[encoded data removed]",
      "text/plain": [
       "<matplotlib.figure.Figure at 0x121a447d0>"
      ]
     },
     "metadata": {},
     "output_type": "display_data"
    }
   ],
   "source": [
    "# #charged off customer vs. grade\n",
    "df[df.loan_status=='Charged Off'].groupby('grade').count()['id'].plot.bar()"
   ]
  },
  {
   "cell_type": "code",
   "execution_count": 49,
   "metadata": {
    "collapsed": false,
    "nbpresent": {
     "id": "6aae5fd1-99d8-49e5-871e-c18b4503a18f"
    }
   },
   "outputs": [
    {
     "data": {
      "text/plain": [
       "<matplotlib.axes._subplots.AxesSubplot at 0x124014310>"
      ]
     },
     "execution_count": 49,
     "metadata": {},
     "output_type": "execute_result"
    },
    {
     "data": {
      "image/png": "[encoded data removed]",
      "text/plain": [
       "<matplotlib.figure.Figure at 0x124132150>"
      ]
     },
     "metadata": {},
     "output_type": "display_data"
    }
   ],
   "source": [
    "df[df.loan_status!='Current'].groupby('grade').sum()[['loan_amnt','profit']].plot.bar()"
   ]
  },
  {
   "cell_type": "code",
   "execution_count": 50,
   "metadata": {
    "collapsed": false,
    "nbpresent": {
     "id": "377a5a71-eb00-403c-b361-1d523ac22921"
    }
   },
   "outputs": [
    {
     "data": {
      "text/plain": [
       "<matplotlib.axes._subplots.AxesSubplot at 0x1241ef050>"
      ]
     },
     "execution_count": 50,
     "metadata": {},
     "output_type": "execute_result"
    },
    {
     "data": {
      "image/png": "[encoded data removed]",
      "text/plain": [
       "<matplotlib.figure.Figure at 0x12421d1d0>"
      ]
     },
     "metadata": {},
     "output_type": "display_data"
    }
   ],
   "source": [
    "df[df.loan_status=='Charged Off'].groupby('grade').mean()[['loan_amnt', 'funded_amnt']].plot.bar()"
   ]
  },
  {
   "cell_type": "code",
   "execution_count": 51,
   "metadata": {
    "collapsed": false,
    "nbpresent": {
     "id": "546894b0-74ac-4a02-ad37-033e1d42d01c"
    }
   },
   "outputs": [
    {
     "data": {
      "text/plain": [
       "<matplotlib.axes._subplots.AxesSubplot at 0x1242b3fd0>"
      ]
     },
     "execution_count": 51,
     "metadata": {},
     "output_type": "execute_result"
    },
    {
     "data": {
      "image/png": "[encoded data removed]",
      "text/plain": [
       "<matplotlib.figure.Figure at 0x1242bbdd0>"
      ]
     },
     "metadata": {},
     "output_type": "display_data"
    }
   ],
   "source": [
    "df[df.loan_status!='Current'].boxplot(column='paid_per', by='grade')"
   ]
  },
  {
   "cell_type": "code",
   "execution_count": 52,
   "metadata": {
    "collapsed": false,
    "nbpresent": {
     "id": "85dd6946-daed-438b-a2f6-d47990a31c01"
    }
   },
   "outputs": [],
   "source": [
    "# Features\n",
    "cat_features = ['emp_length', 'home_ownership', 'addr_state', 'policy_code', 'grade', 'issue_y', 'zip_code', 'url']\n",
    "#num_features = ['loan_amnt', 'int_rate', 'inq_last_6mths',  'inq_fi', 'dti', 'open_acc', 'acc_now_delinq']\n",
    "num_features = [x for x in num_fea if x not in ['id', 'member_id', 'profit', \n",
    "                'last_pymnt_amnt', 'total_pymnt', 'total_pymnt_inv', 'total_rec_prncp', \n",
    "                'collection_recovery_fee', 'recoveries', 'total_rec_late_fee', 'total_rec_int',\n",
    "                'int_rate']]"
   ]
  },
  {
   "cell_type": "code",
   "execution_count": 53,
   "metadata": {
    "collapsed": false,
    "nbpresent": {
     "id": "0904c326-3c0e-46d2-9543-ac86f14d3df5"
    }
   },
   "outputs": [
    {
     "data": {
      "text/plain": [
       "['loan_amnt',\n",
       " 'funded_amnt',\n",
       " 'funded_amnt_inv',\n",
       " 'installment',\n",
       " 'annual_inc',\n",
       " 'dti',\n",
       " 'delinq_2yrs',\n",
       " 'inq_last_6mths',\n",
       " 'mths_since_last_delinq',\n",
       " 'mths_since_last_record',\n",
       " 'open_acc',\n",
       " 'pub_rec',\n",
       " 'revol_bal',\n",
       " 'revol_util',\n",
       " 'total_acc',\n",
       " 'out_prncp',\n",
       " 'out_prncp_inv',\n",
       " 'collections_12_mths_ex_med',\n",
       " 'mths_since_last_major_derog',\n",
       " 'policy_code',\n",
       " 'annual_inc_joint',\n",
       " 'dti_joint',\n",
       " 'acc_now_delinq',\n",
       " 'tot_coll_amt',\n",
       " 'tot_cur_bal',\n",
       " 'open_acc_6m',\n",
       " 'open_il_6m',\n",
       " 'open_il_12m',\n",
       " 'open_il_24m',\n",
       " 'mths_since_rcnt_il',\n",
       " 'total_bal_il',\n",
       " 'il_util',\n",
       " 'open_rv_12m',\n",
       " 'open_rv_24m',\n",
       " 'max_bal_bc',\n",
       " 'all_util',\n",
       " 'total_rev_hi_lim',\n",
       " 'inq_fi',\n",
       " 'total_cu_tl',\n",
       " 'inq_last_12m']"
      ]
     },
     "execution_count": 53,
     "metadata": {},
     "output_type": "execute_result"
    }
   ],
   "source": [
    "num_features"
   ]
  },
  {
   "cell_type": "code",
   "execution_count": 54,
   "metadata": {
    "collapsed": false,
    "nbpresent": {
     "id": "d532d694-14cd-4415-a180-23a5c20a9a14"
    }
   },
   "outputs": [
    {
     "name": "stderr",
     "output_type": "stream",
     "text": [
      "/Users/adonismaomao/anaconda/lib/python2.7/site-packages/ipykernel/__main__.py:4: SettingWithCopyWarning: \n",
      "A value is trying to be set on a copy of a slice from a DataFrame.\n",
      "Try using .loc[row_indexer,col_indexer] = value instead\n",
      "\n",
      "See the caveats in the documentation: http://pandas.pydata.org/pandas-docs/stable/indexing.html#indexing-view-versus-copy\n"
     ]
    }
   ],
   "source": [
    "# Encode cat_features to numerical\n",
    "for label in cat_features: \n",
    "    le = preprocessing.LabelEncoder()\n",
    "    dt[label] = le.fit_transform(dt[label])"
   ]
  },
  {
   "cell_type": "code",
   "execution_count": 55,
   "metadata": {
    "collapsed": false,
    "nbpresent": {
     "id": "467fbb2d-3ffe-4c74-b46d-b51aa3288521"
    }
   },
   "outputs": [],
   "source": [
    "# Prediction target\n",
    "X = dt[cat_features+num_features]\n",
    "\n",
    "#X_cat = pd.get_dummies(dt[cat_features])\n",
    "#X = pd.concat([X_cat, dt[num_features]], axis=1)\n",
    "\n",
    "X = X.fillna(0)"
   ]
  },
  {
   "cell_type": "code",
   "execution_count": 56,
   "metadata": {
    "collapsed": false,
    "nbpresent": {
     "id": "aea169ed-cf85-4a96-a5b0-598405f304a7"
    }
   },
   "outputs": [
    {
     "data": {
      "text/html": [
       "<div>\n",
       "<table border=\"1\" class=\"dataframe\">\n",
       "  <thead>\n",
       "    <tr style=\"text-align: right;\">\n",
       "      <th></th>\n",
       "      <th>emp_length</th>\n",
       "      <th>home_ownership</th>\n",
       "      <th>addr_state</th>\n",
       "      <th>policy_code</th>\n",
       "      <th>grade</th>\n",
       "      <th>issue_y</th>\n",
       "      <th>zip_code</th>\n",
       "      <th>url</th>\n",
       "      <th>loan_amnt</th>\n",
       "      <th>funded_amnt</th>\n",
       "      <th>...</th>\n",
       "      <th>total_bal_il</th>\n",
       "      <th>il_util</th>\n",
       "      <th>open_rv_12m</th>\n",
       "      <th>open_rv_24m</th>\n",
       "      <th>max_bal_bc</th>\n",
       "      <th>all_util</th>\n",
       "      <th>total_rev_hi_lim</th>\n",
       "      <th>inq_fi</th>\n",
       "      <th>total_cu_tl</th>\n",
       "      <th>inq_last_12m</th>\n",
       "    </tr>\n",
       "  </thead>\n",
       "  <tbody>\n",
       "    <tr>\n",
       "      <th>0</th>\n",
       "      <td>1</td>\n",
       "      <td>5</td>\n",
       "      <td>3</td>\n",
       "      <td>0</td>\n",
       "      <td>1</td>\n",
       "      <td>4</td>\n",
       "      <td>766</td>\n",
       "      <td>11295</td>\n",
       "      <td>5000.0</td>\n",
       "      <td>5000.0</td>\n",
       "      <td>...</td>\n",
       "      <td>0.0</td>\n",
       "      <td>0.0</td>\n",
       "      <td>0.0</td>\n",
       "      <td>0.0</td>\n",
       "      <td>0.0</td>\n",
       "      <td>0.0</td>\n",
       "      <td>0.0</td>\n",
       "      <td>0.0</td>\n",
       "      <td>0.0</td>\n",
       "      <td>0.0</td>\n",
       "    </tr>\n",
       "    <tr>\n",
       "      <th>1</th>\n",
       "      <td>10</td>\n",
       "      <td>5</td>\n",
       "      <td>10</td>\n",
       "      <td>0</td>\n",
       "      <td>2</td>\n",
       "      <td>4</td>\n",
       "      <td>288</td>\n",
       "      <td>11278</td>\n",
       "      <td>2500.0</td>\n",
       "      <td>2500.0</td>\n",
       "      <td>...</td>\n",
       "      <td>0.0</td>\n",
       "      <td>0.0</td>\n",
       "      <td>0.0</td>\n",
       "      <td>0.0</td>\n",
       "      <td>0.0</td>\n",
       "      <td>0.0</td>\n",
       "      <td>0.0</td>\n",
       "      <td>0.0</td>\n",
       "      <td>0.0</td>\n",
       "      <td>0.0</td>\n",
       "    </tr>\n",
       "    <tr>\n",
       "      <th>2</th>\n",
       "      <td>1</td>\n",
       "      <td>5</td>\n",
       "      <td>14</td>\n",
       "      <td>0</td>\n",
       "      <td>2</td>\n",
       "      <td>4</td>\n",
       "      <td>544</td>\n",
       "      <td>11264</td>\n",
       "      <td>2400.0</td>\n",
       "      <td>2400.0</td>\n",
       "      <td>...</td>\n",
       "      <td>0.0</td>\n",
       "      <td>0.0</td>\n",
       "      <td>0.0</td>\n",
       "      <td>0.0</td>\n",
       "      <td>0.0</td>\n",
       "      <td>0.0</td>\n",
       "      <td>0.0</td>\n",
       "      <td>0.0</td>\n",
       "      <td>0.0</td>\n",
       "      <td>0.0</td>\n",
       "    </tr>\n",
       "    <tr>\n",
       "      <th>3</th>\n",
       "      <td>1</td>\n",
       "      <td>5</td>\n",
       "      <td>4</td>\n",
       "      <td>0</td>\n",
       "      <td>2</td>\n",
       "      <td>4</td>\n",
       "      <td>806</td>\n",
       "      <td>11244</td>\n",
       "      <td>10000.0</td>\n",
       "      <td>10000.0</td>\n",
       "      <td>...</td>\n",
       "      <td>0.0</td>\n",
       "      <td>0.0</td>\n",
       "      <td>0.0</td>\n",
       "      <td>0.0</td>\n",
       "      <td>0.0</td>\n",
       "      <td>0.0</td>\n",
       "      <td>0.0</td>\n",
       "      <td>0.0</td>\n",
       "      <td>0.0</td>\n",
       "      <td>0.0</td>\n",
       "    </tr>\n",
       "    <tr>\n",
       "      <th>5</th>\n",
       "      <td>3</td>\n",
       "      <td>5</td>\n",
       "      <td>3</td>\n",
       "      <td>0</td>\n",
       "      <td>0</td>\n",
       "      <td>4</td>\n",
       "      <td>759</td>\n",
       "      <td>10996</td>\n",
       "      <td>5000.0</td>\n",
       "      <td>5000.0</td>\n",
       "      <td>...</td>\n",
       "      <td>0.0</td>\n",
       "      <td>0.0</td>\n",
       "      <td>0.0</td>\n",
       "      <td>0.0</td>\n",
       "      <td>0.0</td>\n",
       "      <td>0.0</td>\n",
       "      <td>0.0</td>\n",
       "      <td>0.0</td>\n",
       "      <td>0.0</td>\n",
       "      <td>0.0</td>\n",
       "    </tr>\n",
       "  </tbody>\n",
       "</table>\n",
       "<p>5 rows × 48 columns</p>\n",
       "</div>"
      ],
      "text/plain": [
       "   emp_length  home_ownership  addr_state  policy_code  grade  issue_y  \\\n",
       "0           1               5           3            0      1        4   \n",
       "1          10               5          10            0      2        4   \n",
       "2           1               5          14            0      2        4   \n",
       "3           1               5           4            0      2        4   \n",
       "5           3               5           3            0      0        4   \n",
       "\n",
       "   zip_code    url  loan_amnt  funded_amnt      ...       total_bal_il  \\\n",
       "0       766  11295     5000.0       5000.0      ...                0.0   \n",
       "1       288  11278     2500.0       2500.0      ...                0.0   \n",
       "2       544  11264     2400.0       2400.0      ...                0.0   \n",
       "3       806  11244    10000.0      10000.0      ...                0.0   \n",
       "5       759  10996     5000.0       5000.0      ...                0.0   \n",
       "\n",
       "   il_util  open_rv_12m  open_rv_24m  max_bal_bc  all_util  total_rev_hi_lim  \\\n",
       "0      0.0          0.0          0.0         0.0       0.0               0.0   \n",
       "1      0.0          0.0          0.0         0.0       0.0               0.0   \n",
       "2      0.0          0.0          0.0         0.0       0.0               0.0   \n",
       "3      0.0          0.0          0.0         0.0       0.0               0.0   \n",
       "5      0.0          0.0          0.0         0.0       0.0               0.0   \n",
       "\n",
       "   inq_fi  total_cu_tl  inq_last_12m  \n",
       "0     0.0          0.0           0.0  \n",
       "1     0.0          0.0           0.0  \n",
       "2     0.0          0.0           0.0  \n",
       "3     0.0          0.0           0.0  \n",
       "5     0.0          0.0           0.0  \n",
       "\n",
       "[5 rows x 48 columns]"
      ]
     },
     "execution_count": 56,
     "metadata": {},
     "output_type": "execute_result"
    }
   ],
   "source": [
    "X.head()"
   ]
  },
  {
   "cell_type": "code",
   "execution_count": 57,
   "metadata": {
    "collapsed": false,
    "nbpresent": {
     "id": "d171716b-013f-4ac8-a81f-817cad829090"
    }
   },
   "outputs": [],
   "source": [
    "y = dt['loan_status'].apply(lambda x: 1.0 if x =='Fully Paid' else 0)"
   ]
  },
  {
   "cell_type": "code",
   "execution_count": 58,
   "metadata": {
    "collapsed": false,
    "nbpresent": {
     "id": "f329001c-186e-440c-b7bf-6ee97ac020a7"
    }
   },
   "outputs": [
    {
     "name": "stdout",
     "output_type": "stream",
     "text": [
      "Training length: 189728\n",
      "Test length: 63243\n"
     ]
    }
   ],
   "source": [
    "X_train, X_test, y_train, y_test = train_test_split(X, y, random_state=0)\n",
    "\n",
    "print(\"Training length: \" +str(len(y_train)))\n",
    "print(\"Test length: \" +str(len(y_test)))"
   ]
  },
  {
   "cell_type": "code",
   "execution_count": 59,
   "metadata": {
    "collapsed": false,
    "nbpresent": {
     "id": "2074a5dc-866a-4d14-8604-6f066ce41055"
    }
   },
   "outputs": [],
   "source": [
    "clf = RandomForestClassifier(n_estimators=500, max_features=5, min_samples_leaf=10, \n",
    "                            class_weight=\"balanced\", n_jobs=-1, oob_score=True, verbose=True,\n",
    "                            random_state=0)"
   ]
  },
  {
   "cell_type": "code",
   "execution_count": 60,
   "metadata": {
    "collapsed": false,
    "nbpresent": {
     "id": "0582bcbe-da94-49c6-a245-6077f551bd69"
    }
   },
   "outputs": [
    {
     "name": "stdout",
     "output_type": "stream",
     "text": [
      "CPU times: user 2 µs, sys: 1 µs, total: 3 µs\n",
      "Wall time: 5.01 µs\n"
     ]
    },
    {
     "name": "stderr",
     "output_type": "stream",
     "text": [
      "[Parallel(n_jobs=-1)]: Done  42 tasks      | elapsed:   10.0s\n",
      "[Parallel(n_jobs=-1)]: Done 192 tasks      | elapsed:   45.1s\n",
      "[Parallel(n_jobs=-1)]: Done 442 tasks      | elapsed:  1.6min\n",
      "[Parallel(n_jobs=-1)]: Done 500 out of 500 | elapsed:  1.8min finished\n"
     ]
    },
    {
     "data": {
      "text/plain": [
       "RandomForestClassifier(bootstrap=True, class_weight='balanced',\n",
       "            criterion='gini', max_depth=None, max_features=5,\n",
       "            max_leaf_nodes=None, min_impurity_decrease=0.0,\n",
       "            min_impurity_split=None, min_samples_leaf=10,\n",
       "            min_samples_split=2, min_weight_fraction_leaf=0.0,\n",
       "            n_estimators=500, n_jobs=-1, oob_score=True, random_state=0,\n",
       "            verbose=True, warm_start=False)"
      ]
     },
     "execution_count": 60,
     "metadata": {},
     "output_type": "execute_result"
    }
   ],
   "source": [
    "%time\n",
    "clf.fit(X_train, y_train)"
   ]
  },
  {
   "cell_type": "code",
   "execution_count": 61,
   "metadata": {
    "collapsed": false,
    "nbpresent": {
     "id": "6d9afd3c-b45a-4c23-b83c-f32d712787b4"
    }
   },
   "outputs": [
    {
     "name": "stderr",
     "output_type": "stream",
     "text": [
      "[Parallel(n_jobs=4)]: Done  42 tasks      | elapsed:    0.9s\n",
      "[Parallel(n_jobs=4)]: Done 192 tasks      | elapsed:    3.7s\n",
      "[Parallel(n_jobs=4)]: Done 442 tasks      | elapsed:    8.4s\n",
      "[Parallel(n_jobs=4)]: Done 500 out of 500 | elapsed:    9.5s finished\n"
     ]
    },
    {
     "data": {
      "text/plain": [
       "0.89255671276775173"
      ]
     },
     "execution_count": 61,
     "metadata": {},
     "output_type": "execute_result"
    }
   ],
   "source": [
    "clf.score(X_train, y_train)"
   ]
  },
  {
   "cell_type": "code",
   "execution_count": 62,
   "metadata": {
    "collapsed": false,
    "nbpresent": {
     "id": "e72169eb-d485-4c47-abae-e2cd287c358a"
    }
   },
   "outputs": [
    {
     "name": "stderr",
     "output_type": "stream",
     "text": [
      "[Parallel(n_jobs=4)]: Done  42 tasks      | elapsed:    0.3s\n",
      "[Parallel(n_jobs=4)]: Done 192 tasks      | elapsed:    1.4s\n",
      "[Parallel(n_jobs=4)]: Done 442 tasks      | elapsed:    3.0s\n",
      "[Parallel(n_jobs=4)]: Done 500 out of 500 | elapsed:    3.4s finished\n"
     ]
    },
    {
     "data": {
      "text/plain": [
       "0.76713628385750199"
      ]
     },
     "execution_count": 62,
     "metadata": {},
     "output_type": "execute_result"
    }
   ],
   "source": [
    "clf.score(X_test, y_test)"
   ]
  },
  {
   "cell_type": "code",
   "execution_count": 63,
   "metadata": {
    "collapsed": false,
    "nbpresent": {
     "id": "28d8214a-d684-43a3-8b86-b6bf87b67bf9"
    }
   },
   "outputs": [
    {
     "data": {
      "image/png": "[encoded data removed]",
      "text/plain": [
       "<matplotlib.figure.Figure at 0x121a4d850>"
      ]
     },
     "metadata": {},
     "output_type": "display_data"
    }
   ],
   "source": [
    "X_names = X.columns.tolist()\n",
    "\n",
    "imp = clf.feature_importances_\n",
    "sortNames = [y for (x,y) in sorted(zip(imp,X_names)) if x >0.02]\n",
    "sortImp = [x for (x,y) in sorted(zip(imp,X_names)) if x >0.02]\n",
    "\n",
    "fig = plt.figure()\n",
    "ind = np.arange(len(sortImp))\n",
    "width = .75\n",
    "plt.bar(ind, sortImp, width=width)\n",
    "plt.xticks(ind + width / 2, sortNames)\n",
    "fig.autofmt_xdate()\n",
    "plt.grid(True)\n",
    "plt.title('Feature ranking (high values more influential)')\n",
    "plt.show()"
   ]
  },
  {
   "cell_type": "code",
   "execution_count": 64,
   "metadata": {
    "collapsed": false,
    "nbpresent": {
     "id": "1cd97856-4e71-4a39-9ce5-ba0247af72af"
    }
   },
   "outputs": [
    {
     "name": "stderr",
     "output_type": "stream",
     "text": [
      "[Parallel(n_jobs=4)]: Done  42 tasks      | elapsed:    0.3s\n",
      "[Parallel(n_jobs=4)]: Done 192 tasks      | elapsed:    1.4s\n",
      "[Parallel(n_jobs=4)]: Done 442 tasks      | elapsed:    3.1s\n",
      "[Parallel(n_jobs=4)]: Done 500 out of 500 | elapsed:    3.5s finished\n"
     ]
    },
    {
     "data": {
      "image/png": "[encoded data removed]",
      "text/plain": [
       "<matplotlib.figure.Figure at 0x12e5b7110>"
      ]
     },
     "metadata": {},
     "output_type": "display_data"
    },
    {
     "name": "stdout",
     "output_type": "stream",
     "text": [
      "[[ 4588  6797]\n",
      " [ 7930 43928]]\n"
     ]
    }
   ],
   "source": [
    "#validation\n",
    "os_truth = y_test\n",
    "os_y_hat = clf.predict(X_test)\n",
    "\n",
    "fpr, tpr, _ = metrics.roc_curve(y_test, os_y_hat)\n",
    "roc_auc = auc(fpr, tpr)\n",
    "\n",
    "plt.figure()\n",
    "plt.plot(fpr, tpr, label='ROC curve (area = %0.2f)' % roc_auc)\n",
    "plt.plot([0, 1], [0, 1], 'k--')\n",
    "plt.xlim([0.0, 1.0])\n",
    "plt.ylim([0.0, 1.05])\n",
    "plt.xlabel('False Positive Rate')\n",
    "plt.ylabel('True Positive Rate')\n",
    "plt.title('ROC Curve')\n",
    "plt.legend(loc=\"lower right\")\n",
    "plt.show()\n",
    "\n",
    "cm = confusion_matrix(os_truth, os_y_hat)\n",
    "print(cm)"
   ]
  },
  {
   "cell_type": "code",
   "execution_count": null,
   "metadata": {
    "collapsed": true,
    "nbpresent": {
     "id": "df0f2bde-47fd-4e16-a99a-668d315f2bfa"
    }
   },
   "outputs": [],
   "source": []
  },
  {
   "cell_type": "code",
   "execution_count": null,
   "metadata": {
    "collapsed": true
   },
   "outputs": [],
   "source": []
  }
 ],
 "metadata": {
  "kernelspec": {
   "display_name": "Python [Root]",
   "language": "python",
   "name": "Python [Root]"
  },
  "language_info": {
   "codemirror_mode": {
    "name": "ipython",
    "version": 2
   },
   "file_extension": ".py",
   "mimetype": "text/x-python",
   "name": "python",
   "nbconvert_exporter": "python",
   "pygments_lexer": "ipython2",
   "version": "2.7.12"
  }
 },
 "nbformat": 4,
 "nbformat_minor": 0
}
