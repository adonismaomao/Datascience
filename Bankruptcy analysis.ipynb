{
 "cells": [
  {
   "cell_type": "code",
   "execution_count": 1,
   "metadata": {
    "collapsed": true
   },
   "outputs": [],
   "source": [
    "%matplotlib inline\n",
    "import pandas as pd\n",
    "import numpy as np\n",
    "from matplotlib import pyplot as plt\n",
    "\n",
    "from sklearn.model_selection import train_test_split\n",
    "from sklearn.ensemble import RandomForestRegressor\n",
    "from sklearn.linear_model import LinearRegression\n",
    "from sklearn.metrics import mean_squared_error"
   ]
  },
  {
   "cell_type": "code",
   "execution_count": 2,
   "metadata": {
    "collapsed": false
   },
   "outputs": [
    {
     "name": "stderr",
     "output_type": "stream",
     "text": [
      "/Users/adonismaomao/anaconda/lib/python2.7/site-packages/IPython/core/interactiveshell.py:2723: DtypeWarning: Columns (19,55) have mixed types. Specify dtype option on import or set low_memory=False.\n",
      "  interactivity=interactivity, compiler=compiler, result=result)\n"
     ]
    }
   ],
   "source": [
    "df = pd.read_csv('/Users/adonismaomao/Data sets/ft_us_bank/data.csv')"
   ]
  },
  {
   "cell_type": "code",
   "execution_count": 3,
   "metadata": {
    "collapsed": false
   },
   "outputs": [
    {
     "data": {
      "text/html": [
       "<div>\n",
       "<table border=\"1\" class=\"dataframe\">\n",
       "  <thead>\n",
       "    <tr style=\"text-align: right;\">\n",
       "      <th></th>\n",
       "      <th>id</th>\n",
       "      <th>member_id</th>\n",
       "      <th>loan_amnt</th>\n",
       "      <th>funded_amnt</th>\n",
       "      <th>funded_amnt_inv</th>\n",
       "      <th>term</th>\n",
       "      <th>int_rate</th>\n",
       "      <th>installment</th>\n",
       "      <th>grade</th>\n",
       "      <th>sub_grade</th>\n",
       "      <th>...</th>\n",
       "      <th>total_bal_il</th>\n",
       "      <th>il_util</th>\n",
       "      <th>open_rv_12m</th>\n",
       "      <th>open_rv_24m</th>\n",
       "      <th>max_bal_bc</th>\n",
       "      <th>all_util</th>\n",
       "      <th>total_rev_hi_lim</th>\n",
       "      <th>inq_fi</th>\n",
       "      <th>total_cu_tl</th>\n",
       "      <th>inq_last_12m</th>\n",
       "    </tr>\n",
       "  </thead>\n",
       "  <tbody>\n",
       "    <tr>\n",
       "      <th>0</th>\n",
       "      <td>1077501</td>\n",
       "      <td>1296599</td>\n",
       "      <td>5000.0</td>\n",
       "      <td>5000.0</td>\n",
       "      <td>4975.0</td>\n",
       "      <td>36 months</td>\n",
       "      <td>10.65</td>\n",
       "      <td>162.87</td>\n",
       "      <td>B</td>\n",
       "      <td>B2</td>\n",
       "      <td>...</td>\n",
       "      <td>NaN</td>\n",
       "      <td>NaN</td>\n",
       "      <td>NaN</td>\n",
       "      <td>NaN</td>\n",
       "      <td>NaN</td>\n",
       "      <td>NaN</td>\n",
       "      <td>NaN</td>\n",
       "      <td>NaN</td>\n",
       "      <td>NaN</td>\n",
       "      <td>NaN</td>\n",
       "    </tr>\n",
       "    <tr>\n",
       "      <th>1</th>\n",
       "      <td>1077430</td>\n",
       "      <td>1314167</td>\n",
       "      <td>2500.0</td>\n",
       "      <td>2500.0</td>\n",
       "      <td>2500.0</td>\n",
       "      <td>60 months</td>\n",
       "      <td>15.27</td>\n",
       "      <td>59.83</td>\n",
       "      <td>C</td>\n",
       "      <td>C4</td>\n",
       "      <td>...</td>\n",
       "      <td>NaN</td>\n",
       "      <td>NaN</td>\n",
       "      <td>NaN</td>\n",
       "      <td>NaN</td>\n",
       "      <td>NaN</td>\n",
       "      <td>NaN</td>\n",
       "      <td>NaN</td>\n",
       "      <td>NaN</td>\n",
       "      <td>NaN</td>\n",
       "      <td>NaN</td>\n",
       "    </tr>\n",
       "    <tr>\n",
       "      <th>2</th>\n",
       "      <td>1077175</td>\n",
       "      <td>1313524</td>\n",
       "      <td>2400.0</td>\n",
       "      <td>2400.0</td>\n",
       "      <td>2400.0</td>\n",
       "      <td>36 months</td>\n",
       "      <td>15.96</td>\n",
       "      <td>84.33</td>\n",
       "      <td>C</td>\n",
       "      <td>C5</td>\n",
       "      <td>...</td>\n",
       "      <td>NaN</td>\n",
       "      <td>NaN</td>\n",
       "      <td>NaN</td>\n",
       "      <td>NaN</td>\n",
       "      <td>NaN</td>\n",
       "      <td>NaN</td>\n",
       "      <td>NaN</td>\n",
       "      <td>NaN</td>\n",
       "      <td>NaN</td>\n",
       "      <td>NaN</td>\n",
       "    </tr>\n",
       "    <tr>\n",
       "      <th>3</th>\n",
       "      <td>1076863</td>\n",
       "      <td>1277178</td>\n",
       "      <td>10000.0</td>\n",
       "      <td>10000.0</td>\n",
       "      <td>10000.0</td>\n",
       "      <td>36 months</td>\n",
       "      <td>13.49</td>\n",
       "      <td>339.31</td>\n",
       "      <td>C</td>\n",
       "      <td>C1</td>\n",
       "      <td>...</td>\n",
       "      <td>NaN</td>\n",
       "      <td>NaN</td>\n",
       "      <td>NaN</td>\n",
       "      <td>NaN</td>\n",
       "      <td>NaN</td>\n",
       "      <td>NaN</td>\n",
       "      <td>NaN</td>\n",
       "      <td>NaN</td>\n",
       "      <td>NaN</td>\n",
       "      <td>NaN</td>\n",
       "    </tr>\n",
       "    <tr>\n",
       "      <th>4</th>\n",
       "      <td>1075358</td>\n",
       "      <td>1311748</td>\n",
       "      <td>3000.0</td>\n",
       "      <td>3000.0</td>\n",
       "      <td>3000.0</td>\n",
       "      <td>60 months</td>\n",
       "      <td>12.69</td>\n",
       "      <td>67.79</td>\n",
       "      <td>B</td>\n",
       "      <td>B5</td>\n",
       "      <td>...</td>\n",
       "      <td>NaN</td>\n",
       "      <td>NaN</td>\n",
       "      <td>NaN</td>\n",
       "      <td>NaN</td>\n",
       "      <td>NaN</td>\n",
       "      <td>NaN</td>\n",
       "      <td>NaN</td>\n",
       "      <td>NaN</td>\n",
       "      <td>NaN</td>\n",
       "      <td>NaN</td>\n",
       "    </tr>\n",
       "  </tbody>\n",
       "</table>\n",
       "<p>5 rows × 74 columns</p>\n",
       "</div>"
      ],
      "text/plain": [
       "        id  member_id  loan_amnt  funded_amnt  funded_amnt_inv        term  \\\n",
       "0  1077501    1296599     5000.0       5000.0           4975.0   36 months   \n",
       "1  1077430    1314167     2500.0       2500.0           2500.0   60 months   \n",
       "2  1077175    1313524     2400.0       2400.0           2400.0   36 months   \n",
       "3  1076863    1277178    10000.0      10000.0          10000.0   36 months   \n",
       "4  1075358    1311748     3000.0       3000.0           3000.0   60 months   \n",
       "\n",
       "   int_rate  installment grade sub_grade     ...      total_bal_il il_util  \\\n",
       "0     10.65       162.87     B        B2     ...               NaN     NaN   \n",
       "1     15.27        59.83     C        C4     ...               NaN     NaN   \n",
       "2     15.96        84.33     C        C5     ...               NaN     NaN   \n",
       "3     13.49       339.31     C        C1     ...               NaN     NaN   \n",
       "4     12.69        67.79     B        B5     ...               NaN     NaN   \n",
       "\n",
       "  open_rv_12m  open_rv_24m max_bal_bc all_util total_rev_hi_lim inq_fi  \\\n",
       "0         NaN          NaN        NaN      NaN              NaN    NaN   \n",
       "1         NaN          NaN        NaN      NaN              NaN    NaN   \n",
       "2         NaN          NaN        NaN      NaN              NaN    NaN   \n",
       "3         NaN          NaN        NaN      NaN              NaN    NaN   \n",
       "4         NaN          NaN        NaN      NaN              NaN    NaN   \n",
       "\n",
       "  total_cu_tl inq_last_12m  \n",
       "0         NaN          NaN  \n",
       "1         NaN          NaN  \n",
       "2         NaN          NaN  \n",
       "3         NaN          NaN  \n",
       "4         NaN          NaN  \n",
       "\n",
       "[5 rows x 74 columns]"
      ]
     },
     "execution_count": 3,
     "metadata": {},
     "output_type": "execute_result"
    }
   ],
   "source": [
    "df.head()"
   ]
  },
  {
   "cell_type": "code",
   "execution_count": 24,
   "metadata": {
    "collapsed": false
   },
   "outputs": [
    {
     "data": {
      "text/plain": [
       "id                                                                       1077501\n",
       "member_id                                                                1296599\n",
       "loan_amnt                                                                   5000\n",
       "funded_amnt                                                                 5000\n",
       "funded_amnt_inv                                                             4975\n",
       "term                                                                   36 months\n",
       "int_rate                                                                   10.65\n",
       "installment                                                               162.87\n",
       "grade                                                                          B\n",
       "sub_grade                                                                     B2\n",
       "emp_title                                                                    NaN\n",
       "emp_length                                                             10+ years\n",
       "home_ownership                                                              RENT\n",
       "annual_inc                                                                 24000\n",
       "verification_status                                                     Verified\n",
       "issue_d                                                                 Dec-2011\n",
       "loan_status                                                           Fully Paid\n",
       "pymnt_plan                                                                     n\n",
       "url                            https://www.lendingclub.com/browse/loanDetail....\n",
       "desc                             Borrower added on 12/22/11 > I need to upgra...\n",
       "purpose                                                              credit_card\n",
       "title                                                                   Computer\n",
       "zip_code                                                                   860xx\n",
       "addr_state                                                                    AZ\n",
       "dti                                                                        27.65\n",
       "delinq_2yrs                                                                    0\n",
       "earliest_cr_line                                                        Jan-1985\n",
       "inq_last_6mths                                                                 1\n",
       "mths_since_last_delinq                                                       NaN\n",
       "mths_since_last_record                                                       NaN\n",
       "                                                     ...                        \n",
       "collection_recovery_fee                                                        0\n",
       "last_pymnt_d                                                            Jan-2015\n",
       "last_pymnt_amnt                                                           171.62\n",
       "next_pymnt_d                                                                 NaN\n",
       "last_credit_pull_d                                                      Jan-2016\n",
       "collections_12_mths_ex_med                                                     0\n",
       "mths_since_last_major_derog                                                  NaN\n",
       "policy_code                                                                    1\n",
       "application_type                                                      INDIVIDUAL\n",
       "annual_inc_joint                                                             NaN\n",
       "dti_joint                                                                    NaN\n",
       "verification_status_joint                                                    NaN\n",
       "acc_now_delinq                                                                 0\n",
       "tot_coll_amt                                                                 NaN\n",
       "tot_cur_bal                                                                  NaN\n",
       "open_acc_6m                                                                  NaN\n",
       "open_il_6m                                                                   NaN\n",
       "open_il_12m                                                                  NaN\n",
       "open_il_24m                                                                  NaN\n",
       "mths_since_rcnt_il                                                           NaN\n",
       "total_bal_il                                                                 NaN\n",
       "il_util                                                                      NaN\n",
       "open_rv_12m                                                                  NaN\n",
       "open_rv_24m                                                                  NaN\n",
       "max_bal_bc                                                                   NaN\n",
       "all_util                                                                     NaN\n",
       "total_rev_hi_lim                                                             NaN\n",
       "inq_fi                                                                       NaN\n",
       "total_cu_tl                                                                  NaN\n",
       "inq_last_12m                                                                 NaN\n",
       "Name: 0, dtype: object"
      ]
     },
     "execution_count": 24,
     "metadata": {},
     "output_type": "execute_result"
    }
   ],
   "source": [
    "df.iloc[0]"
   ]
  },
  {
   "cell_type": "code",
   "execution_count": 21,
   "metadata": {
    "collapsed": false
   },
   "outputs": [
    {
     "name": "stderr",
     "output_type": "stream",
     "text": [
      "/Users/adonismaomao/anaconda/lib/python2.7/site-packages/numpy/lib/function_base.py:4269: RuntimeWarning: Invalid value encountered in percentile\n",
      "  interpolation=interpolation)\n"
     ]
    },
    {
     "data": {
      "text/html": [
       "<div>\n",
       "<table border=\"1\" class=\"dataframe\">\n",
       "  <thead>\n",
       "    <tr style=\"text-align: right;\">\n",
       "      <th></th>\n",
       "      <th>count</th>\n",
       "      <th>mean</th>\n",
       "      <th>std</th>\n",
       "      <th>min</th>\n",
       "      <th>25%</th>\n",
       "      <th>50%</th>\n",
       "      <th>75%</th>\n",
       "      <th>max</th>\n",
       "    </tr>\n",
       "  </thead>\n",
       "  <tbody>\n",
       "    <tr>\n",
       "      <th>id</th>\n",
       "      <td>887379.0</td>\n",
       "      <td>3.246513e+07</td>\n",
       "      <td>2.282734e+07</td>\n",
       "      <td>54734.00</td>\n",
       "      <td>9.206643e+06</td>\n",
       "      <td>3.443327e+07</td>\n",
       "      <td>5.490814e+07</td>\n",
       "      <td>6.861706e+07</td>\n",
       "    </tr>\n",
       "    <tr>\n",
       "      <th>member_id</th>\n",
       "      <td>887379.0</td>\n",
       "      <td>3.500182e+07</td>\n",
       "      <td>2.411335e+07</td>\n",
       "      <td>70473.00</td>\n",
       "      <td>1.087713e+07</td>\n",
       "      <td>3.709528e+07</td>\n",
       "      <td>5.847135e+07</td>\n",
       "      <td>7.354484e+07</td>\n",
       "    </tr>\n",
       "    <tr>\n",
       "      <th>loan_amnt</th>\n",
       "      <td>887379.0</td>\n",
       "      <td>1.475526e+04</td>\n",
       "      <td>8.435456e+03</td>\n",
       "      <td>500.00</td>\n",
       "      <td>8.000000e+03</td>\n",
       "      <td>1.300000e+04</td>\n",
       "      <td>2.000000e+04</td>\n",
       "      <td>3.500000e+04</td>\n",
       "    </tr>\n",
       "    <tr>\n",
       "      <th>funded_amnt</th>\n",
       "      <td>887379.0</td>\n",
       "      <td>1.474188e+04</td>\n",
       "      <td>8.429898e+03</td>\n",
       "      <td>500.00</td>\n",
       "      <td>8.000000e+03</td>\n",
       "      <td>1.300000e+04</td>\n",
       "      <td>2.000000e+04</td>\n",
       "      <td>3.500000e+04</td>\n",
       "    </tr>\n",
       "    <tr>\n",
       "      <th>funded_amnt_inv</th>\n",
       "      <td>887379.0</td>\n",
       "      <td>1.470246e+04</td>\n",
       "      <td>8.442107e+03</td>\n",
       "      <td>0.00</td>\n",
       "      <td>8.000000e+03</td>\n",
       "      <td>1.300000e+04</td>\n",
       "      <td>2.000000e+04</td>\n",
       "      <td>3.500000e+04</td>\n",
       "    </tr>\n",
       "    <tr>\n",
       "      <th>int_rate</th>\n",
       "      <td>887379.0</td>\n",
       "      <td>1.324674e+01</td>\n",
       "      <td>4.381867e+00</td>\n",
       "      <td>5.32</td>\n",
       "      <td>9.990000e+00</td>\n",
       "      <td>1.299000e+01</td>\n",
       "      <td>1.620000e+01</td>\n",
       "      <td>2.899000e+01</td>\n",
       "    </tr>\n",
       "    <tr>\n",
       "      <th>installment</th>\n",
       "      <td>887379.0</td>\n",
       "      <td>4.367171e+02</td>\n",
       "      <td>2.441866e+02</td>\n",
       "      <td>15.67</td>\n",
       "      <td>2.607050e+02</td>\n",
       "      <td>3.825500e+02</td>\n",
       "      <td>5.726000e+02</td>\n",
       "      <td>1.445460e+03</td>\n",
       "    </tr>\n",
       "    <tr>\n",
       "      <th>annual_inc</th>\n",
       "      <td>887375.0</td>\n",
       "      <td>7.502759e+04</td>\n",
       "      <td>6.469830e+04</td>\n",
       "      <td>0.00</td>\n",
       "      <td>NaN</td>\n",
       "      <td>NaN</td>\n",
       "      <td>NaN</td>\n",
       "      <td>9.500000e+06</td>\n",
       "    </tr>\n",
       "    <tr>\n",
       "      <th>dti</th>\n",
       "      <td>887379.0</td>\n",
       "      <td>1.815704e+01</td>\n",
       "      <td>1.719063e+01</td>\n",
       "      <td>0.00</td>\n",
       "      <td>1.191000e+01</td>\n",
       "      <td>1.765000e+01</td>\n",
       "      <td>2.395000e+01</td>\n",
       "      <td>9.999000e+03</td>\n",
       "    </tr>\n",
       "    <tr>\n",
       "      <th>delinq_2yrs</th>\n",
       "      <td>887350.0</td>\n",
       "      <td>3.144419e-01</td>\n",
       "      <td>8.622438e-01</td>\n",
       "      <td>0.00</td>\n",
       "      <td>NaN</td>\n",
       "      <td>NaN</td>\n",
       "      <td>NaN</td>\n",
       "      <td>3.900000e+01</td>\n",
       "    </tr>\n",
       "    <tr>\n",
       "      <th>inq_last_6mths</th>\n",
       "      <td>887350.0</td>\n",
       "      <td>6.946233e-01</td>\n",
       "      <td>9.984477e-01</td>\n",
       "      <td>0.00</td>\n",
       "      <td>NaN</td>\n",
       "      <td>NaN</td>\n",
       "      <td>NaN</td>\n",
       "      <td>3.300000e+01</td>\n",
       "    </tr>\n",
       "    <tr>\n",
       "      <th>mths_since_last_delinq</th>\n",
       "      <td>433067.0</td>\n",
       "      <td>3.406380e+01</td>\n",
       "      <td>2.188494e+01</td>\n",
       "      <td>0.00</td>\n",
       "      <td>NaN</td>\n",
       "      <td>NaN</td>\n",
       "      <td>NaN</td>\n",
       "      <td>1.880000e+02</td>\n",
       "    </tr>\n",
       "    <tr>\n",
       "      <th>mths_since_last_record</th>\n",
       "      <td>137053.0</td>\n",
       "      <td>7.011790e+01</td>\n",
       "      <td>2.812791e+01</td>\n",
       "      <td>0.00</td>\n",
       "      <td>NaN</td>\n",
       "      <td>NaN</td>\n",
       "      <td>NaN</td>\n",
       "      <td>1.290000e+02</td>\n",
       "    </tr>\n",
       "    <tr>\n",
       "      <th>open_acc</th>\n",
       "      <td>887350.0</td>\n",
       "      <td>1.154847e+01</td>\n",
       "      <td>5.317313e+00</td>\n",
       "      <td>0.00</td>\n",
       "      <td>NaN</td>\n",
       "      <td>NaN</td>\n",
       "      <td>NaN</td>\n",
       "      <td>9.000000e+01</td>\n",
       "    </tr>\n",
       "    <tr>\n",
       "      <th>pub_rec</th>\n",
       "      <td>887350.0</td>\n",
       "      <td>1.953074e-01</td>\n",
       "      <td>5.820907e-01</td>\n",
       "      <td>0.00</td>\n",
       "      <td>NaN</td>\n",
       "      <td>NaN</td>\n",
       "      <td>NaN</td>\n",
       "      <td>8.600000e+01</td>\n",
       "    </tr>\n",
       "    <tr>\n",
       "      <th>revol_bal</th>\n",
       "      <td>887379.0</td>\n",
       "      <td>1.692079e+04</td>\n",
       "      <td>2.242679e+04</td>\n",
       "      <td>0.00</td>\n",
       "      <td>6.443000e+03</td>\n",
       "      <td>1.187500e+04</td>\n",
       "      <td>2.082900e+04</td>\n",
       "      <td>2.904836e+06</td>\n",
       "    </tr>\n",
       "    <tr>\n",
       "      <th>revol_util</th>\n",
       "      <td>886877.0</td>\n",
       "      <td>5.506769e+01</td>\n",
       "      <td>2.383434e+01</td>\n",
       "      <td>0.00</td>\n",
       "      <td>NaN</td>\n",
       "      <td>NaN</td>\n",
       "      <td>NaN</td>\n",
       "      <td>8.923000e+02</td>\n",
       "    </tr>\n",
       "    <tr>\n",
       "      <th>total_acc</th>\n",
       "      <td>887350.0</td>\n",
       "      <td>2.526803e+01</td>\n",
       "      <td>1.184056e+01</td>\n",
       "      <td>1.00</td>\n",
       "      <td>NaN</td>\n",
       "      <td>NaN</td>\n",
       "      <td>NaN</td>\n",
       "      <td>1.690000e+02</td>\n",
       "    </tr>\n",
       "    <tr>\n",
       "      <th>out_prncp</th>\n",
       "      <td>887379.0</td>\n",
       "      <td>8.403125e+03</td>\n",
       "      <td>8.493450e+03</td>\n",
       "      <td>0.00</td>\n",
       "      <td>0.000000e+00</td>\n",
       "      <td>6.458290e+03</td>\n",
       "      <td>1.365906e+04</td>\n",
       "      <td>4.937286e+04</td>\n",
       "    </tr>\n",
       "    <tr>\n",
       "      <th>out_prncp_inv</th>\n",
       "      <td>887379.0</td>\n",
       "      <td>8.399713e+03</td>\n",
       "      <td>8.489998e+03</td>\n",
       "      <td>0.00</td>\n",
       "      <td>0.000000e+00</td>\n",
       "      <td>6.455810e+03</td>\n",
       "      <td>1.365405e+04</td>\n",
       "      <td>4.937286e+04</td>\n",
       "    </tr>\n",
       "    <tr>\n",
       "      <th>total_pymnt</th>\n",
       "      <td>887379.0</td>\n",
       "      <td>7.558827e+03</td>\n",
       "      <td>7.871243e+03</td>\n",
       "      <td>0.00</td>\n",
       "      <td>1.914590e+03</td>\n",
       "      <td>4.894999e+03</td>\n",
       "      <td>1.061681e+04</td>\n",
       "      <td>5.777758e+04</td>\n",
       "    </tr>\n",
       "    <tr>\n",
       "      <th>total_pymnt_inv</th>\n",
       "      <td>887379.0</td>\n",
       "      <td>7.521160e+03</td>\n",
       "      <td>7.846109e+03</td>\n",
       "      <td>0.00</td>\n",
       "      <td>1.899700e+03</td>\n",
       "      <td>4.862010e+03</td>\n",
       "      <td>1.056569e+04</td>\n",
       "      <td>5.777758e+04</td>\n",
       "    </tr>\n",
       "    <tr>\n",
       "      <th>total_rec_prncp</th>\n",
       "      <td>887379.0</td>\n",
       "      <td>5.757706e+03</td>\n",
       "      <td>6.625441e+03</td>\n",
       "      <td>0.00</td>\n",
       "      <td>1.200570e+03</td>\n",
       "      <td>3.215320e+03</td>\n",
       "      <td>8.000000e+03</td>\n",
       "      <td>3.500003e+04</td>\n",
       "    </tr>\n",
       "    <tr>\n",
       "      <th>total_rec_int</th>\n",
       "      <td>887379.0</td>\n",
       "      <td>1.754804e+03</td>\n",
       "      <td>2.095356e+03</td>\n",
       "      <td>0.00</td>\n",
       "      <td>4.414600e+02</td>\n",
       "      <td>1.073280e+03</td>\n",
       "      <td>2.238265e+03</td>\n",
       "      <td>2.420562e+04</td>\n",
       "    </tr>\n",
       "    <tr>\n",
       "      <th>total_rec_late_fee</th>\n",
       "      <td>887379.0</td>\n",
       "      <td>3.966918e-01</td>\n",
       "      <td>4.087825e+00</td>\n",
       "      <td>0.00</td>\n",
       "      <td>0.000000e+00</td>\n",
       "      <td>0.000000e+00</td>\n",
       "      <td>0.000000e+00</td>\n",
       "      <td>3.586800e+02</td>\n",
       "    </tr>\n",
       "    <tr>\n",
       "      <th>recoveries</th>\n",
       "      <td>887379.0</td>\n",
       "      <td>4.591924e+01</td>\n",
       "      <td>4.096939e+02</td>\n",
       "      <td>0.00</td>\n",
       "      <td>0.000000e+00</td>\n",
       "      <td>0.000000e+00</td>\n",
       "      <td>0.000000e+00</td>\n",
       "      <td>3.352027e+04</td>\n",
       "    </tr>\n",
       "    <tr>\n",
       "      <th>collection_recovery_fee</th>\n",
       "      <td>887379.0</td>\n",
       "      <td>4.880757e+00</td>\n",
       "      <td>6.312528e+01</td>\n",
       "      <td>0.00</td>\n",
       "      <td>0.000000e+00</td>\n",
       "      <td>0.000000e+00</td>\n",
       "      <td>0.000000e+00</td>\n",
       "      <td>7.002190e+03</td>\n",
       "    </tr>\n",
       "    <tr>\n",
       "      <th>last_pymnt_amnt</th>\n",
       "      <td>887379.0</td>\n",
       "      <td>2.164146e+03</td>\n",
       "      <td>4.794783e+03</td>\n",
       "      <td>0.00</td>\n",
       "      <td>2.801700e+02</td>\n",
       "      <td>4.627800e+02</td>\n",
       "      <td>8.312450e+02</td>\n",
       "      <td>3.647559e+04</td>\n",
       "    </tr>\n",
       "    <tr>\n",
       "      <th>collections_12_mths_ex_med</th>\n",
       "      <td>887234.0</td>\n",
       "      <td>1.437952e-02</td>\n",
       "      <td>1.341908e-01</td>\n",
       "      <td>0.00</td>\n",
       "      <td>NaN</td>\n",
       "      <td>NaN</td>\n",
       "      <td>NaN</td>\n",
       "      <td>2.000000e+01</td>\n",
       "    </tr>\n",
       "    <tr>\n",
       "      <th>mths_since_last_major_derog</th>\n",
       "      <td>221703.0</td>\n",
       "      <td>4.410484e+01</td>\n",
       "      <td>2.217984e+01</td>\n",
       "      <td>0.00</td>\n",
       "      <td>NaN</td>\n",
       "      <td>NaN</td>\n",
       "      <td>NaN</td>\n",
       "      <td>1.880000e+02</td>\n",
       "    </tr>\n",
       "    <tr>\n",
       "      <th>policy_code</th>\n",
       "      <td>887379.0</td>\n",
       "      <td>1.000000e+00</td>\n",
       "      <td>0.000000e+00</td>\n",
       "      <td>1.00</td>\n",
       "      <td>1.000000e+00</td>\n",
       "      <td>1.000000e+00</td>\n",
       "      <td>1.000000e+00</td>\n",
       "      <td>1.000000e+00</td>\n",
       "    </tr>\n",
       "    <tr>\n",
       "      <th>annual_inc_joint</th>\n",
       "      <td>511.0</td>\n",
       "      <td>1.099810e+05</td>\n",
       "      <td>5.273038e+04</td>\n",
       "      <td>17950.00</td>\n",
       "      <td>NaN</td>\n",
       "      <td>NaN</td>\n",
       "      <td>NaN</td>\n",
       "      <td>5.000000e+05</td>\n",
       "    </tr>\n",
       "    <tr>\n",
       "      <th>dti_joint</th>\n",
       "      <td>509.0</td>\n",
       "      <td>1.831012e+01</td>\n",
       "      <td>7.169233e+00</td>\n",
       "      <td>3.00</td>\n",
       "      <td>NaN</td>\n",
       "      <td>NaN</td>\n",
       "      <td>NaN</td>\n",
       "      <td>4.386000e+01</td>\n",
       "    </tr>\n",
       "    <tr>\n",
       "      <th>acc_now_delinq</th>\n",
       "      <td>887350.0</td>\n",
       "      <td>4.991266e-03</td>\n",
       "      <td>7.762534e-02</td>\n",
       "      <td>0.00</td>\n",
       "      <td>NaN</td>\n",
       "      <td>NaN</td>\n",
       "      <td>NaN</td>\n",
       "      <td>1.400000e+01</td>\n",
       "    </tr>\n",
       "    <tr>\n",
       "      <th>tot_coll_amt</th>\n",
       "      <td>817103.0</td>\n",
       "      <td>2.257026e+02</td>\n",
       "      <td>1.031137e+04</td>\n",
       "      <td>0.00</td>\n",
       "      <td>NaN</td>\n",
       "      <td>NaN</td>\n",
       "      <td>NaN</td>\n",
       "      <td>9.152545e+06</td>\n",
       "    </tr>\n",
       "    <tr>\n",
       "      <th>tot_cur_bal</th>\n",
       "      <td>817103.0</td>\n",
       "      <td>1.394582e+05</td>\n",
       "      <td>1.537500e+05</td>\n",
       "      <td>0.00</td>\n",
       "      <td>NaN</td>\n",
       "      <td>NaN</td>\n",
       "      <td>NaN</td>\n",
       "      <td>8.000078e+06</td>\n",
       "    </tr>\n",
       "    <tr>\n",
       "      <th>open_acc_6m</th>\n",
       "      <td>21372.0</td>\n",
       "      <td>1.109021e+00</td>\n",
       "      <td>1.242675e+00</td>\n",
       "      <td>0.00</td>\n",
       "      <td>NaN</td>\n",
       "      <td>NaN</td>\n",
       "      <td>NaN</td>\n",
       "      <td>1.400000e+01</td>\n",
       "    </tr>\n",
       "    <tr>\n",
       "      <th>open_il_6m</th>\n",
       "      <td>21372.0</td>\n",
       "      <td>2.928832e+00</td>\n",
       "      <td>3.089987e+00</td>\n",
       "      <td>0.00</td>\n",
       "      <td>NaN</td>\n",
       "      <td>NaN</td>\n",
       "      <td>NaN</td>\n",
       "      <td>4.000000e+01</td>\n",
       "    </tr>\n",
       "    <tr>\n",
       "      <th>open_il_12m</th>\n",
       "      <td>21372.0</td>\n",
       "      <td>7.616508e-01</td>\n",
       "      <td>9.960346e-01</td>\n",
       "      <td>0.00</td>\n",
       "      <td>NaN</td>\n",
       "      <td>NaN</td>\n",
       "      <td>NaN</td>\n",
       "      <td>1.200000e+01</td>\n",
       "    </tr>\n",
       "    <tr>\n",
       "      <th>open_il_24m</th>\n",
       "      <td>21372.0</td>\n",
       "      <td>1.674574e+00</td>\n",
       "      <td>1.688725e+00</td>\n",
       "      <td>0.00</td>\n",
       "      <td>NaN</td>\n",
       "      <td>NaN</td>\n",
       "      <td>NaN</td>\n",
       "      <td>1.900000e+01</td>\n",
       "    </tr>\n",
       "    <tr>\n",
       "      <th>mths_since_rcnt_il</th>\n",
       "      <td>20810.0</td>\n",
       "      <td>2.091269e+01</td>\n",
       "      <td>2.720908e+01</td>\n",
       "      <td>0.00</td>\n",
       "      <td>NaN</td>\n",
       "      <td>NaN</td>\n",
       "      <td>NaN</td>\n",
       "      <td>3.630000e+02</td>\n",
       "    </tr>\n",
       "    <tr>\n",
       "      <th>total_bal_il</th>\n",
       "      <td>21372.0</td>\n",
       "      <td>3.655281e+04</td>\n",
       "      <td>4.310383e+04</td>\n",
       "      <td>0.00</td>\n",
       "      <td>NaN</td>\n",
       "      <td>NaN</td>\n",
       "      <td>NaN</td>\n",
       "      <td>8.784590e+05</td>\n",
       "    </tr>\n",
       "    <tr>\n",
       "      <th>il_util</th>\n",
       "      <td>18617.0</td>\n",
       "      <td>7.153532e+01</td>\n",
       "      <td>2.302286e+01</td>\n",
       "      <td>0.00</td>\n",
       "      <td>NaN</td>\n",
       "      <td>NaN</td>\n",
       "      <td>NaN</td>\n",
       "      <td>2.233000e+02</td>\n",
       "    </tr>\n",
       "    <tr>\n",
       "      <th>open_rv_12m</th>\n",
       "      <td>21372.0</td>\n",
       "      <td>1.389060e+00</td>\n",
       "      <td>1.520129e+00</td>\n",
       "      <td>0.00</td>\n",
       "      <td>NaN</td>\n",
       "      <td>NaN</td>\n",
       "      <td>NaN</td>\n",
       "      <td>2.200000e+01</td>\n",
       "    </tr>\n",
       "    <tr>\n",
       "      <th>open_rv_24m</th>\n",
       "      <td>21372.0</td>\n",
       "      <td>2.975482e+00</td>\n",
       "      <td>2.631886e+00</td>\n",
       "      <td>0.00</td>\n",
       "      <td>NaN</td>\n",
       "      <td>NaN</td>\n",
       "      <td>NaN</td>\n",
       "      <td>4.300000e+01</td>\n",
       "    </tr>\n",
       "    <tr>\n",
       "      <th>max_bal_bc</th>\n",
       "      <td>21372.0</td>\n",
       "      <td>5.887980e+03</td>\n",
       "      <td>5.284701e+03</td>\n",
       "      <td>0.00</td>\n",
       "      <td>NaN</td>\n",
       "      <td>NaN</td>\n",
       "      <td>NaN</td>\n",
       "      <td>1.273050e+05</td>\n",
       "    </tr>\n",
       "    <tr>\n",
       "      <th>all_util</th>\n",
       "      <td>21372.0</td>\n",
       "      <td>6.083194e+01</td>\n",
       "      <td>2.001325e+01</td>\n",
       "      <td>0.00</td>\n",
       "      <td>NaN</td>\n",
       "      <td>NaN</td>\n",
       "      <td>NaN</td>\n",
       "      <td>1.514000e+02</td>\n",
       "    </tr>\n",
       "    <tr>\n",
       "      <th>total_rev_hi_lim</th>\n",
       "      <td>817103.0</td>\n",
       "      <td>3.206862e+04</td>\n",
       "      <td>3.749826e+04</td>\n",
       "      <td>0.00</td>\n",
       "      <td>NaN</td>\n",
       "      <td>NaN</td>\n",
       "      <td>NaN</td>\n",
       "      <td>9.999999e+06</td>\n",
       "    </tr>\n",
       "    <tr>\n",
       "      <th>inq_fi</th>\n",
       "      <td>21372.0</td>\n",
       "      <td>9.439453e-01</td>\n",
       "      <td>1.446872e+00</td>\n",
       "      <td>0.00</td>\n",
       "      <td>NaN</td>\n",
       "      <td>NaN</td>\n",
       "      <td>NaN</td>\n",
       "      <td>1.700000e+01</td>\n",
       "    </tr>\n",
       "    <tr>\n",
       "      <th>total_cu_tl</th>\n",
       "      <td>21372.0</td>\n",
       "      <td>1.537058e+00</td>\n",
       "      <td>2.723339e+00</td>\n",
       "      <td>0.00</td>\n",
       "      <td>NaN</td>\n",
       "      <td>NaN</td>\n",
       "      <td>NaN</td>\n",
       "      <td>3.500000e+01</td>\n",
       "    </tr>\n",
       "    <tr>\n",
       "      <th>inq_last_12m</th>\n",
       "      <td>21372.0</td>\n",
       "      <td>1.977307e+00</td>\n",
       "      <td>2.874067e+00</td>\n",
       "      <td>-4.00</td>\n",
       "      <td>NaN</td>\n",
       "      <td>NaN</td>\n",
       "      <td>NaN</td>\n",
       "      <td>3.200000e+01</td>\n",
       "    </tr>\n",
       "  </tbody>\n",
       "</table>\n",
       "</div>"
      ],
      "text/plain": [
       "                                count          mean           std       min  \\\n",
       "id                           887379.0  3.246513e+07  2.282734e+07  54734.00   \n",
       "member_id                    887379.0  3.500182e+07  2.411335e+07  70473.00   \n",
       "loan_amnt                    887379.0  1.475526e+04  8.435456e+03    500.00   \n",
       "funded_amnt                  887379.0  1.474188e+04  8.429898e+03    500.00   \n",
       "funded_amnt_inv              887379.0  1.470246e+04  8.442107e+03      0.00   \n",
       "int_rate                     887379.0  1.324674e+01  4.381867e+00      5.32   \n",
       "installment                  887379.0  4.367171e+02  2.441866e+02     15.67   \n",
       "annual_inc                   887375.0  7.502759e+04  6.469830e+04      0.00   \n",
       "dti                          887379.0  1.815704e+01  1.719063e+01      0.00   \n",
       "delinq_2yrs                  887350.0  3.144419e-01  8.622438e-01      0.00   \n",
       "inq_last_6mths               887350.0  6.946233e-01  9.984477e-01      0.00   \n",
       "mths_since_last_delinq       433067.0  3.406380e+01  2.188494e+01      0.00   \n",
       "mths_since_last_record       137053.0  7.011790e+01  2.812791e+01      0.00   \n",
       "open_acc                     887350.0  1.154847e+01  5.317313e+00      0.00   \n",
       "pub_rec                      887350.0  1.953074e-01  5.820907e-01      0.00   \n",
       "revol_bal                    887379.0  1.692079e+04  2.242679e+04      0.00   \n",
       "revol_util                   886877.0  5.506769e+01  2.383434e+01      0.00   \n",
       "total_acc                    887350.0  2.526803e+01  1.184056e+01      1.00   \n",
       "out_prncp                    887379.0  8.403125e+03  8.493450e+03      0.00   \n",
       "out_prncp_inv                887379.0  8.399713e+03  8.489998e+03      0.00   \n",
       "total_pymnt                  887379.0  7.558827e+03  7.871243e+03      0.00   \n",
       "total_pymnt_inv              887379.0  7.521160e+03  7.846109e+03      0.00   \n",
       "total_rec_prncp              887379.0  5.757706e+03  6.625441e+03      0.00   \n",
       "total_rec_int                887379.0  1.754804e+03  2.095356e+03      0.00   \n",
       "total_rec_late_fee           887379.0  3.966918e-01  4.087825e+00      0.00   \n",
       "recoveries                   887379.0  4.591924e+01  4.096939e+02      0.00   \n",
       "collection_recovery_fee      887379.0  4.880757e+00  6.312528e+01      0.00   \n",
       "last_pymnt_amnt              887379.0  2.164146e+03  4.794783e+03      0.00   \n",
       "collections_12_mths_ex_med   887234.0  1.437952e-02  1.341908e-01      0.00   \n",
       "mths_since_last_major_derog  221703.0  4.410484e+01  2.217984e+01      0.00   \n",
       "policy_code                  887379.0  1.000000e+00  0.000000e+00      1.00   \n",
       "annual_inc_joint                511.0  1.099810e+05  5.273038e+04  17950.00   \n",
       "dti_joint                       509.0  1.831012e+01  7.169233e+00      3.00   \n",
       "acc_now_delinq               887350.0  4.991266e-03  7.762534e-02      0.00   \n",
       "tot_coll_amt                 817103.0  2.257026e+02  1.031137e+04      0.00   \n",
       "tot_cur_bal                  817103.0  1.394582e+05  1.537500e+05      0.00   \n",
       "open_acc_6m                   21372.0  1.109021e+00  1.242675e+00      0.00   \n",
       "open_il_6m                    21372.0  2.928832e+00  3.089987e+00      0.00   \n",
       "open_il_12m                   21372.0  7.616508e-01  9.960346e-01      0.00   \n",
       "open_il_24m                   21372.0  1.674574e+00  1.688725e+00      0.00   \n",
       "mths_since_rcnt_il            20810.0  2.091269e+01  2.720908e+01      0.00   \n",
       "total_bal_il                  21372.0  3.655281e+04  4.310383e+04      0.00   \n",
       "il_util                       18617.0  7.153532e+01  2.302286e+01      0.00   \n",
       "open_rv_12m                   21372.0  1.389060e+00  1.520129e+00      0.00   \n",
       "open_rv_24m                   21372.0  2.975482e+00  2.631886e+00      0.00   \n",
       "max_bal_bc                    21372.0  5.887980e+03  5.284701e+03      0.00   \n",
       "all_util                      21372.0  6.083194e+01  2.001325e+01      0.00   \n",
       "total_rev_hi_lim             817103.0  3.206862e+04  3.749826e+04      0.00   \n",
       "inq_fi                        21372.0  9.439453e-01  1.446872e+00      0.00   \n",
       "total_cu_tl                   21372.0  1.537058e+00  2.723339e+00      0.00   \n",
       "inq_last_12m                  21372.0  1.977307e+00  2.874067e+00     -4.00   \n",
       "\n",
       "                                      25%           50%           75%  \\\n",
       "id                           9.206643e+06  3.443327e+07  5.490814e+07   \n",
       "member_id                    1.087713e+07  3.709528e+07  5.847135e+07   \n",
       "loan_amnt                    8.000000e+03  1.300000e+04  2.000000e+04   \n",
       "funded_amnt                  8.000000e+03  1.300000e+04  2.000000e+04   \n",
       "funded_amnt_inv              8.000000e+03  1.300000e+04  2.000000e+04   \n",
       "int_rate                     9.990000e+00  1.299000e+01  1.620000e+01   \n",
       "installment                  2.607050e+02  3.825500e+02  5.726000e+02   \n",
       "annual_inc                            NaN           NaN           NaN   \n",
       "dti                          1.191000e+01  1.765000e+01  2.395000e+01   \n",
       "delinq_2yrs                           NaN           NaN           NaN   \n",
       "inq_last_6mths                        NaN           NaN           NaN   \n",
       "mths_since_last_delinq                NaN           NaN           NaN   \n",
       "mths_since_last_record                NaN           NaN           NaN   \n",
       "open_acc                              NaN           NaN           NaN   \n",
       "pub_rec                               NaN           NaN           NaN   \n",
       "revol_bal                    6.443000e+03  1.187500e+04  2.082900e+04   \n",
       "revol_util                            NaN           NaN           NaN   \n",
       "total_acc                             NaN           NaN           NaN   \n",
       "out_prncp                    0.000000e+00  6.458290e+03  1.365906e+04   \n",
       "out_prncp_inv                0.000000e+00  6.455810e+03  1.365405e+04   \n",
       "total_pymnt                  1.914590e+03  4.894999e+03  1.061681e+04   \n",
       "total_pymnt_inv              1.899700e+03  4.862010e+03  1.056569e+04   \n",
       "total_rec_prncp              1.200570e+03  3.215320e+03  8.000000e+03   \n",
       "total_rec_int                4.414600e+02  1.073280e+03  2.238265e+03   \n",
       "total_rec_late_fee           0.000000e+00  0.000000e+00  0.000000e+00   \n",
       "recoveries                   0.000000e+00  0.000000e+00  0.000000e+00   \n",
       "collection_recovery_fee      0.000000e+00  0.000000e+00  0.000000e+00   \n",
       "last_pymnt_amnt              2.801700e+02  4.627800e+02  8.312450e+02   \n",
       "collections_12_mths_ex_med            NaN           NaN           NaN   \n",
       "mths_since_last_major_derog           NaN           NaN           NaN   \n",
       "policy_code                  1.000000e+00  1.000000e+00  1.000000e+00   \n",
       "annual_inc_joint                      NaN           NaN           NaN   \n",
       "dti_joint                             NaN           NaN           NaN   \n",
       "acc_now_delinq                        NaN           NaN           NaN   \n",
       "tot_coll_amt                          NaN           NaN           NaN   \n",
       "tot_cur_bal                           NaN           NaN           NaN   \n",
       "open_acc_6m                           NaN           NaN           NaN   \n",
       "open_il_6m                            NaN           NaN           NaN   \n",
       "open_il_12m                           NaN           NaN           NaN   \n",
       "open_il_24m                           NaN           NaN           NaN   \n",
       "mths_since_rcnt_il                    NaN           NaN           NaN   \n",
       "total_bal_il                          NaN           NaN           NaN   \n",
       "il_util                               NaN           NaN           NaN   \n",
       "open_rv_12m                           NaN           NaN           NaN   \n",
       "open_rv_24m                           NaN           NaN           NaN   \n",
       "max_bal_bc                            NaN           NaN           NaN   \n",
       "all_util                              NaN           NaN           NaN   \n",
       "total_rev_hi_lim                      NaN           NaN           NaN   \n",
       "inq_fi                                NaN           NaN           NaN   \n",
       "total_cu_tl                           NaN           NaN           NaN   \n",
       "inq_last_12m                          NaN           NaN           NaN   \n",
       "\n",
       "                                      max  \n",
       "id                           6.861706e+07  \n",
       "member_id                    7.354484e+07  \n",
       "loan_amnt                    3.500000e+04  \n",
       "funded_amnt                  3.500000e+04  \n",
       "funded_amnt_inv              3.500000e+04  \n",
       "int_rate                     2.899000e+01  \n",
       "installment                  1.445460e+03  \n",
       "annual_inc                   9.500000e+06  \n",
       "dti                          9.999000e+03  \n",
       "delinq_2yrs                  3.900000e+01  \n",
       "inq_last_6mths               3.300000e+01  \n",
       "mths_since_last_delinq       1.880000e+02  \n",
       "mths_since_last_record       1.290000e+02  \n",
       "open_acc                     9.000000e+01  \n",
       "pub_rec                      8.600000e+01  \n",
       "revol_bal                    2.904836e+06  \n",
       "revol_util                   8.923000e+02  \n",
       "total_acc                    1.690000e+02  \n",
       "out_prncp                    4.937286e+04  \n",
       "out_prncp_inv                4.937286e+04  \n",
       "total_pymnt                  5.777758e+04  \n",
       "total_pymnt_inv              5.777758e+04  \n",
       "total_rec_prncp              3.500003e+04  \n",
       "total_rec_int                2.420562e+04  \n",
       "total_rec_late_fee           3.586800e+02  \n",
       "recoveries                   3.352027e+04  \n",
       "collection_recovery_fee      7.002190e+03  \n",
       "last_pymnt_amnt              3.647559e+04  \n",
       "collections_12_mths_ex_med   2.000000e+01  \n",
       "mths_since_last_major_derog  1.880000e+02  \n",
       "policy_code                  1.000000e+00  \n",
       "annual_inc_joint             5.000000e+05  \n",
       "dti_joint                    4.386000e+01  \n",
       "acc_now_delinq               1.400000e+01  \n",
       "tot_coll_amt                 9.152545e+06  \n",
       "tot_cur_bal                  8.000078e+06  \n",
       "open_acc_6m                  1.400000e+01  \n",
       "open_il_6m                   4.000000e+01  \n",
       "open_il_12m                  1.200000e+01  \n",
       "open_il_24m                  1.900000e+01  \n",
       "mths_since_rcnt_il           3.630000e+02  \n",
       "total_bal_il                 8.784590e+05  \n",
       "il_util                      2.233000e+02  \n",
       "open_rv_12m                  2.200000e+01  \n",
       "open_rv_24m                  4.300000e+01  \n",
       "max_bal_bc                   1.273050e+05  \n",
       "all_util                     1.514000e+02  \n",
       "total_rev_hi_lim             9.999999e+06  \n",
       "inq_fi                       1.700000e+01  \n",
       "total_cu_tl                  3.500000e+01  \n",
       "inq_last_12m                 3.200000e+01  "
      ]
     },
     "execution_count": 21,
     "metadata": {},
     "output_type": "execute_result"
    }
   ],
   "source": [
    "df.describe().T"
   ]
  },
  {
   "cell_type": "code",
   "execution_count": 34,
   "metadata": {
    "collapsed": false
   },
   "outputs": [
    {
     "data": {
      "text/plain": [
       "True"
      ]
     },
     "execution_count": 34,
     "metadata": {},
     "output_type": "execute_result"
    }
   ],
   "source": [
    "# to see if member_ids are unique\n",
    "len(set(df.member_id))==len(df.member_id)"
   ]
  },
  {
   "cell_type": "code",
   "execution_count": 15,
   "metadata": {
    "collapsed": false
   },
   "outputs": [
    {
     "data": {
      "text/plain": [
       "array(['B', 'C', 'A', 'E', 'F', 'D', 'G'], dtype=object)"
      ]
     },
     "execution_count": 15,
     "metadata": {},
     "output_type": "execute_result"
    }
   ],
   "source": [
    "# Looking at the type of grades being assigned\n",
    "df['grade'].unique()"
   ]
  },
  {
   "cell_type": "code",
   "execution_count": 17,
   "metadata": {
    "collapsed": false
   },
   "outputs": [
    {
     "data": {
      "text/plain": [
       "array(['B2', 'C4', 'C5', 'C1', 'B5', 'A4', 'E1', 'F2', 'C3', 'B1', 'D1',\n",
       "       'A1', 'B3', 'B4', 'C2', 'D2', 'A3', 'A5', 'D5', 'A2', 'E4', 'D3',\n",
       "       'D4', 'F3', 'E3', 'F4', 'F1', 'E5', 'G4', 'E2', 'G3', 'G2', 'G1',\n",
       "       'F5', 'G5'], dtype=object)"
      ]
     },
     "execution_count": 17,
     "metadata": {},
     "output_type": "execute_result"
    }
   ],
   "source": [
    "df['sub_grade'].unique()"
   ]
  },
  {
   "cell_type": "code",
   "execution_count": 23,
   "metadata": {
    "collapsed": false
   },
   "outputs": [
    {
     "data": {
      "text/plain": [
       "(13093511950.0, 13081632625.0, 13046658141.926006)"
      ]
     },
     "execution_count": 23,
     "metadata": {},
     "output_type": "execute_result"
    }
   ],
   "source": [
    "sum(df.loan_amnt), sum(df.funded_amnt), sum(df.funded_amnt_inv)"
   ]
  },
  {
   "cell_type": "code",
   "execution_count": 38,
   "metadata": {
    "collapsed": false
   },
   "outputs": [
    {
     "data": {
      "text/plain": [
       "-11173094604.521759"
      ]
     },
     "execution_count": 38,
     "metadata": {},
     "output_type": "execute_result"
    }
   ],
   "source": [
    "#Last total payment amount received - amount of loan \n",
    "sum(df.last_pymnt_amnt)-sum(df.loan_amnt)"
   ]
  },
  {
   "cell_type": "code",
   "execution_count": 41,
   "metadata": {
    "collapsed": false
   },
   "outputs": [
    {
     "data": {
      "text/plain": [
       "-6374088561.2964535"
      ]
     },
     "execution_count": 41,
     "metadata": {},
     "output_type": "execute_result"
    }
   ],
   "source": [
    "#Payments received to date - total amount funded\n",
    "sum(df.total_pymnt)-sum(df.funded_amnt)"
   ]
  },
  {
   "cell_type": "code",
   "execution_count": 27,
   "metadata": {
    "collapsed": false
   },
   "outputs": [
    {
     "data": {
      "text/plain": [
       "<matplotlib.axes._subplots.AxesSubplot at 0x11198c690>"
      ]
     },
     "execution_count": 27,
     "metadata": {},
     "output_type": "execute_result"
    },
    {
     "data": {
      "image/png": "[encoded data removed]",
      "text/plain": [
       "<matplotlib.figure.Figure at 0x111959fd0>"
      ]
     },
     "metadata": {},
     "output_type": "display_data"
    }
   ],
   "source": [
    "df.int_rate.hist()"
   ]
  },
  {
   "cell_type": "code",
   "execution_count": 36,
   "metadata": {
    "collapsed": false
   },
   "outputs": [
    {
     "data": {
      "text/plain": [
       "<matplotlib.axes._subplots.AxesSubplot at 0x116861ed0>"
      ]
     },
     "execution_count": 36,
     "metadata": {},
     "output_type": "execute_result"
    },
    {
     "data": {
      "image/png": "[encoded data removed]",
      "text/plain": [
       "<matplotlib.figure.Figure at 0x116861450>"
      ]
     },
     "metadata": {},
     "output_type": "display_data"
    }
   ],
   "source": [
    "df.groupby('loan_status').count()['id'].plot.bar()"
   ]
  },
  {
   "cell_type": "code",
   "execution_count": 44,
   "metadata": {
    "collapsed": false
   },
   "outputs": [
    {
     "data": {
      "text/plain": [
       "<matplotlib.axes._subplots.AxesSubplot at 0x1187a1a90>"
      ]
     },
     "execution_count": 44,
     "metadata": {},
     "output_type": "execute_result"
    },
    {
     "data": {
      "image/png": "[encoded data removed]",
      "text/plain": [
       "<matplotlib.figure.Figure at 0x11b5c5c10>"
      ]
     },
     "metadata": {},
     "output_type": "display_data"
    }
   ],
   "source": [
    "(df.total_pymnt-df.funded_amnt).hist(bins=20)"
   ]
  },
  {
   "cell_type": "code",
   "execution_count": 62,
   "metadata": {
    "collapsed": true
   },
   "outputs": [],
   "source": [
    "#create new feature\n",
    "df['profit'] = df.total_pymnt-df.funded_amnt\n",
    "df['issue_y'] = df.issue_d.apply(lambda x: x[-4:])"
   ]
  },
  {
   "cell_type": "code",
   "execution_count": 55,
   "metadata": {
    "collapsed": false
   },
   "outputs": [
    {
     "data": {
      "text/plain": [
       "<matplotlib.axes._subplots.AxesSubplot at 0x12565b510>"
      ]
     },
     "execution_count": 55,
     "metadata": {},
     "output_type": "execute_result"
    },
    {
     "data": {
      "image/png": "[encoded data removed]",
      "text/plain": [
       "<matplotlib.figure.Figure at 0x12566ecd0>"
      ]
     },
     "metadata": {},
     "output_type": "display_data"
    }
   ],
   "source": [
    "df.groupby('grade').mean()[['profit', 'funded_amnt']].plot.bar()"
   ]
  },
  {
   "cell_type": "code",
   "execution_count": 54,
   "metadata": {
    "collapsed": false
   },
   "outputs": [
    {
     "data": {
      "text/plain": [
       "<matplotlib.axes._subplots.AxesSubplot at 0x1254f1610>"
      ]
     },
     "execution_count": 54,
     "metadata": {},
     "output_type": "execute_result"
    },
    {
     "data": {
      "image/png": "[encoded data removed]",
      "text/plain": [
       "<matplotlib.figure.Figure at 0x1237c69d0>"
      ]
     },
     "metadata": {},
     "output_type": "display_data"
    }
   ],
   "source": [
    "#Total collection amounts ever owed\n",
    "df.groupby('grade').mean()[['tot_coll_amt']].plot.bar()"
   ]
  },
  {
   "cell_type": "code",
   "execution_count": 66,
   "metadata": {
    "collapsed": false
   },
   "outputs": [
    {
     "data": {
      "text/plain": [
       "<matplotlib.axes._subplots.AxesSubplot at 0x12a172a50>"
      ]
     },
     "execution_count": 66,
     "metadata": {},
     "output_type": "execute_result"
    },
    {
     "data": {
      "image/png": "[encoded data removed]",
      "text/plain": [
       "<matplotlib.figure.Figure at 0x12d52f350>"
      ]
     },
     "metadata": {},
     "output_type": "display_data"
    }
   ],
   "source": [
    "df.groupby('issue_y').sum()[['funded_amnt', 'profit']].plot.bar()"
   ]
  },
  {
   "cell_type": "code",
   "execution_count": null,
   "metadata": {
    "collapsed": true
   },
   "outputs": [],
   "source": []
  }
 ],
 "metadata": {
  "kernelspec": {
   "display_name": "Python [Root]",
   "language": "python",
   "name": "Python [Root]"
  },
  "language_info": {
   "codemirror_mode": {
    "name": "ipython",
    "version": 2
   },
   "file_extension": ".py",
   "mimetype": "text/x-python",
   "name": "python",
   "nbconvert_exporter": "python",
   "pygments_lexer": "ipython2",
   "version": "2.7.12"
  }
 },
 "nbformat": 4,
 "nbformat_minor": 0
}
